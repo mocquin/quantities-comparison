{
 "cells": [
  {
   "cell_type": "code",
   "execution_count": 1,
   "metadata": {},
   "outputs": [],
   "source": [
    "import sys\n",
    "sys.path.append(r\"/Users/mocquin/MYLIB10/MODULES/quantities-comparison/\")"
   ]
  },
  {
   "cell_type": "code",
   "execution_count": 2,
   "metadata": {
    "collapsed": false,
    "jupyter": {
     "outputs_hidden": false
    }
   },
   "outputs": [],
   "source": [
    "%matplotlib inline"
   ]
  },
  {
   "cell_type": "code",
   "execution_count": 3,
   "metadata": {},
   "outputs": [],
   "source": [
    "from benchmarks.base import BenchNumpy\n",
    "from IPython.core.display import HTML\n"
   ]
  },
  {
   "cell_type": "markdown",
   "metadata": {},
   "source": [
    "# Bench Numpy"
   ]
  },
  {
   "cell_type": "code",
   "execution_count": 4,
   "metadata": {},
   "outputs": [],
   "source": [
    "bn = BenchNumpy()"
   ]
  },
  {
   "cell_type": "code",
   "execution_count": 5,
   "metadata": {},
   "outputs": [
    {
     "name": "stdout",
     "output_type": "stream",
     "text": [
      "[<built-in function abs>, <built-in function neg>, <built-in function pos>]\n",
      "[<built-in function add>, <built-in function sub>, <built-in function mul>, <built-in function floordiv>, <built-in function floordiv>, <built-in function truediv>, <built-in function mod>, <built-in function pow>, <built-in function lt>, <built-in function le>, <built-in function eq>, <built-in function ne>, <built-in function ge>, <built-in function gt>]\n",
      "[<ufunc 'negative'>, <ufunc 'absolute'>, <ufunc 'rint'>, <ufunc 'sign'>, <ufunc 'conjugate'>, <ufunc 'exp'>, <ufunc 'exp2'>, <ufunc 'log'>, <ufunc 'log2'>, <ufunc 'log10'>, <ufunc 'expm1'>, <ufunc 'log1p'>, <ufunc 'sqrt'>, <ufunc 'square'>, <ufunc 'reciprocal'>, <function ones_like at 0x1186d6670>, <ufunc 'sin'>, <ufunc 'cos'>, <ufunc 'tan'>, <ufunc 'arcsin'>, <ufunc 'arccos'>, <ufunc 'arctan'>, <ufunc 'sinh'>, <ufunc 'cosh'>, <ufunc 'tanh'>, <ufunc 'arcsinh'>, <ufunc 'arccosh'>, <ufunc 'arctanh'>, <ufunc 'deg2rad'>, <ufunc 'rad2deg'>, <ufunc 'floor'>, <ufunc 'ceil'>, <ufunc 'trunc'>]\n",
      "[<ufunc 'add'>, <ufunc 'subtract'>, <ufunc 'multiply'>, <ufunc 'true_divide'>, <ufunc 'logaddexp'>, <ufunc 'logaddexp2'>, <ufunc 'true_divide'>, <ufunc 'floor_divide'>, <ufunc 'power'>, <ufunc 'remainder'>, <ufunc 'remainder'>, <ufunc 'fmod'>, <ufunc 'arctan2'>, <ufunc 'hypot'>, <ufunc 'greater'>, <ufunc 'greater_equal'>, <ufunc 'less'>, <ufunc 'less_equal'>, <ufunc 'not_equal'>, <ufunc 'equal'>, <ufunc 'maximum'>, <ufunc 'minimum'>]\n"
     ]
    }
   ],
   "source": [
    "print(bn.unary_ops)\n",
    "print(bn.binary_ops)\n",
    "print(bn.unary_ufuncs)\n",
    "print(bn.binary_ufuncs)"
   ]
  },
  {
   "cell_type": "code",
   "execution_count": 6,
   "metadata": {
    "collapsed": false,
    "jupyter": {
     "outputs_hidden": false
    }
   },
   "outputs": [
    {
     "name": "stdout",
     "output_type": "stream",
     "text": [
      "BenchAstropy\n",
      "BenchPint\n",
      "BenchPhysipy\n"
     ]
    }
   ],
   "source": [
    "import run_comparison\n",
    "results = run_comparison.get_pandas()"
   ]
  },
  {
   "cell_type": "markdown",
   "metadata": {},
   "source": [
    "# High level comparison : facts"
   ]
  },
  {
   "cell_type": "code",
   "execution_count": 7,
   "metadata": {
    "collapsed": false,
    "jupyter": {
     "outputs_hidden": false
    }
   },
   "outputs": [
    {
     "data": {
      "text/html": [
       "<div>\n",
       "<style scoped>\n",
       "    .dataframe tbody tr th:only-of-type {\n",
       "        vertical-align: middle;\n",
       "    }\n",
       "\n",
       "    .dataframe tbody tr th {\n",
       "        vertical-align: top;\n",
       "    }\n",
       "\n",
       "    .dataframe thead th {\n",
       "        text-align: right;\n",
       "    }\n",
       "</style>\n",
       "<table border=\"1\" class=\"dataframe\">\n",
       "  <thead>\n",
       "    <tr style=\"text-align: right;\">\n",
       "      <th></th>\n",
       "      <th>LOC</th>\n",
       "      <th>First release</th>\n",
       "      <th>Most recent release</th>\n",
       "      <th>Implementation</th>\n",
       "      <th>URL</th>\n",
       "      <th>PyPI</th>\n",
       "    </tr>\n",
       "  </thead>\n",
       "  <tbody>\n",
       "    <tr>\n",
       "      <th>astropy.units</th>\n",
       "      <td>3448</td>\n",
       "      <td>2013-01</td>\n",
       "      <td>2013-05</td>\n",
       "      <td>Container</td>\n",
       "      <td>https://astropy.readthedocs.org/en/latest/unit...</td>\n",
       "      <td>astropy</td>\n",
       "    </tr>\n",
       "    <tr>\n",
       "      <th>pint</th>\n",
       "      <td>2914</td>\n",
       "      <td>2012-07</td>\n",
       "      <td>2014-02</td>\n",
       "      <td>Container</td>\n",
       "      <td>https://pint.readthedocs.org/en/latest/</td>\n",
       "      <td>pint</td>\n",
       "    </tr>\n",
       "    <tr>\n",
       "      <th>physipy</th>\n",
       "      <td>0</td>\n",
       "      <td>20XX-XX</td>\n",
       "      <td>20XX-XX</td>\n",
       "      <td>Container?</td>\n",
       "      <td></td>\n",
       "      <td>physipy</td>\n",
       "    </tr>\n",
       "  </tbody>\n",
       "</table>\n",
       "</div>"
      ],
      "text/plain": [
       "                LOC First release Most recent release Implementation  \\\n",
       "astropy.units  3448       2013-01             2013-05      Container   \n",
       "pint           2914       2012-07             2014-02      Container   \n",
       "physipy           0       20XX-XX             20XX-XX     Container?   \n",
       "\n",
       "                                                             URL     PyPI  \n",
       "astropy.units  https://astropy.readthedocs.org/en/latest/unit...  astropy  \n",
       "pint                     https://pint.readthedocs.org/en/latest/     pint  \n",
       "physipy                                                           physipy  "
      ]
     },
     "execution_count": 7,
     "metadata": {},
     "output_type": "execute_result"
    }
   ],
   "source": [
    "results['facts']"
   ]
  },
  {
   "cell_type": "markdown",
   "metadata": {},
   "source": [
    "# Syntax"
   ]
  },
  {
   "cell_type": "code",
   "execution_count": 8,
   "metadata": {
    "collapsed": false,
    "jupyter": {
     "outputs_hidden": false
    }
   },
   "outputs": [
    {
     "data": {
      "text/html": [
       "<div>\n",
       "<style scoped>\n",
       "    .dataframe tbody tr th:only-of-type {\n",
       "        vertical-align: middle;\n",
       "    }\n",
       "\n",
       "    .dataframe tbody tr th {\n",
       "        vertical-align: top;\n",
       "    }\n",
       "\n",
       "    .dataframe thead th {\n",
       "        text-align: right;\n",
       "    }\n",
       "</style>\n",
       "<table border=\"1\" class=\"dataframe\">\n",
       "  <thead>\n",
       "    <tr style=\"text-align: right;\">\n",
       "      <th></th>\n",
       "      <th>make</th>\n",
       "      <th>str</th>\n",
       "      <th>repr</th>\n",
       "    </tr>\n",
       "  </thead>\n",
       "  <tbody>\n",
       "    <tr>\n",
       "      <th>astropy.units</th>\n",
       "      <td>multiply</td>\n",
       "      <td>5.0 m</td>\n",
       "      <td>&lt;Quantity 5. m&gt;</td>\n",
       "    </tr>\n",
       "    <tr>\n",
       "      <th>pint</th>\n",
       "      <td>multiply</td>\n",
       "      <td>5.0 meter</td>\n",
       "      <td>&lt;Quantity(5.0, 'meter')&gt;</td>\n",
       "    </tr>\n",
       "    <tr>\n",
       "      <th>physipy</th>\n",
       "      <td>multiply</td>\n",
       "      <td>5.0 m</td>\n",
       "      <td>&lt;Quantity : 5.0 m, symbol=m*UndefinedSymbol&gt;</td>\n",
       "    </tr>\n",
       "  </tbody>\n",
       "</table>\n",
       "</div>"
      ],
      "text/plain": [
       "                   make        str  \\\n",
       "astropy.units  multiply      5.0 m   \n",
       "pint           multiply  5.0 meter   \n",
       "physipy        multiply      5.0 m   \n",
       "\n",
       "                                                       repr  \n",
       "astropy.units                               <Quantity 5. m>  \n",
       "pint                               <Quantity(5.0, 'meter')>  \n",
       "physipy        <Quantity : 5.0 m, symbol=m*UndefinedSymbol>  "
      ]
     },
     "execution_count": 8,
     "metadata": {},
     "output_type": "execute_result"
    }
   ],
   "source": [
    "results['syntax']"
   ]
  },
  {
   "cell_type": "markdown",
   "metadata": {},
   "source": [
    "# Compatibility results\n",
    "Compatibility consists in various tables of True/False."
   ]
  },
  {
   "cell_type": "code",
   "execution_count": 9,
   "metadata": {},
   "outputs": [
    {
     "data": {
      "text/html": [
       "<h2>syntax</h3>"
      ],
      "text/plain": [
       "<IPython.core.display.HTML object>"
      ]
     },
     "metadata": {},
     "output_type": "display_data"
    },
    {
     "data": {
      "text/html": [
       "<style type=\"text/css\">\n",
       "#T_683bf_row0_col0, #T_683bf_row0_col1, #T_683bf_row1_col0, #T_683bf_row1_col1, #T_683bf_row2_col0, #T_683bf_row2_col1 {\n",
       "  color: green;\n",
       "}\n",
       "</style>\n",
       "<table id=\"T_683bf_\">\n",
       "  <thead>\n",
       "    <tr>\n",
       "      <th class=\"blank level0\" >&nbsp;</th>\n",
       "      <th class=\"col_heading level0 col0\" >print</th>\n",
       "      <th class=\"col_heading level0 col1\" >shape</th>\n",
       "    </tr>\n",
       "  </thead>\n",
       "  <tbody>\n",
       "    <tr>\n",
       "      <th id=\"T_683bf_level0_row0\" class=\"row_heading level0 row0\" >astropy.units</th>\n",
       "      <td id=\"T_683bf_row0_col0\" class=\"data row0 col0\" >[ 5. 10.] m</td>\n",
       "      <td id=\"T_683bf_row0_col1\" class=\"data row0 col1\" >(2,)</td>\n",
       "    </tr>\n",
       "    <tr>\n",
       "      <th id=\"T_683bf_level0_row1\" class=\"row_heading level0 row1\" >pint</th>\n",
       "      <td id=\"T_683bf_row1_col0\" class=\"data row1 col0\" >[5.0 10.0] meter</td>\n",
       "      <td id=\"T_683bf_row1_col1\" class=\"data row1 col1\" >(2,)</td>\n",
       "    </tr>\n",
       "    <tr>\n",
       "      <th id=\"T_683bf_level0_row2\" class=\"row_heading level0 row2\" >physipy</th>\n",
       "      <td id=\"T_683bf_row2_col0\" class=\"data row2 col0\" >[ 5. 10.] m</td>\n",
       "      <td id=\"T_683bf_row2_col1\" class=\"data row2 col1\" >(2,)</td>\n",
       "    </tr>\n",
       "  </tbody>\n",
       "</table>\n"
      ],
      "text/plain": [
       "<pandas.io.formats.style.Styler at 0x122fb0640>"
      ]
     },
     "metadata": {},
     "output_type": "display_data"
    },
    {
     "data": {
      "text/html": [
       "<h2>unary_ops</h3>"
      ],
      "text/plain": [
       "<IPython.core.display.HTML object>"
      ]
     },
     "metadata": {},
     "output_type": "display_data"
    },
    {
     "data": {
      "text/html": [
       "<style type=\"text/css\">\n",
       "#T_35f52_row0_col0, #T_35f52_row0_col1, #T_35f52_row0_col2, #T_35f52_row1_col0, #T_35f52_row1_col1, #T_35f52_row1_col2, #T_35f52_row2_col0, #T_35f52_row2_col1, #T_35f52_row2_col2 {\n",
       "  color: green;\n",
       "}\n",
       "</style>\n",
       "<table id=\"T_35f52_\">\n",
       "  <thead>\n",
       "    <tr>\n",
       "      <th class=\"blank level0\" >&nbsp;</th>\n",
       "      <th class=\"col_heading level0 col0\" >abs</th>\n",
       "      <th class=\"col_heading level0 col1\" >neg</th>\n",
       "      <th class=\"col_heading level0 col2\" >pos</th>\n",
       "    </tr>\n",
       "  </thead>\n",
       "  <tbody>\n",
       "    <tr>\n",
       "      <th id=\"T_35f52_level0_row0\" class=\"row_heading level0 row0\" >astropy.units</th>\n",
       "      <td id=\"T_35f52_row0_col0\" class=\"data row0 col0\" >True</td>\n",
       "      <td id=\"T_35f52_row0_col1\" class=\"data row0 col1\" >True</td>\n",
       "      <td id=\"T_35f52_row0_col2\" class=\"data row0 col2\" >True</td>\n",
       "    </tr>\n",
       "    <tr>\n",
       "      <th id=\"T_35f52_level0_row1\" class=\"row_heading level0 row1\" >pint</th>\n",
       "      <td id=\"T_35f52_row1_col0\" class=\"data row1 col0\" >True</td>\n",
       "      <td id=\"T_35f52_row1_col1\" class=\"data row1 col1\" >True</td>\n",
       "      <td id=\"T_35f52_row1_col2\" class=\"data row1 col2\" >True</td>\n",
       "    </tr>\n",
       "    <tr>\n",
       "      <th id=\"T_35f52_level0_row2\" class=\"row_heading level0 row2\" >physipy</th>\n",
       "      <td id=\"T_35f52_row2_col0\" class=\"data row2 col0\" >True</td>\n",
       "      <td id=\"T_35f52_row2_col1\" class=\"data row2 col1\" >True</td>\n",
       "      <td id=\"T_35f52_row2_col2\" class=\"data row2 col2\" >True</td>\n",
       "    </tr>\n",
       "  </tbody>\n",
       "</table>\n"
      ],
      "text/plain": [
       "<pandas.io.formats.style.Styler at 0x122fb02e0>"
      ]
     },
     "metadata": {},
     "output_type": "display_data"
    },
    {
     "data": {
      "text/html": [
       "<h2>binary_same_ops</h3>"
      ],
      "text/plain": [
       "<IPython.core.display.HTML object>"
      ]
     },
     "metadata": {},
     "output_type": "display_data"
    },
    {
     "data": {
      "text/html": [
       "<style type=\"text/css\">\n",
       "#T_62b07_row0_col0, #T_62b07_row0_col1, #T_62b07_row0_col2, #T_62b07_row0_col3, #T_62b07_row0_col4, #T_62b07_row0_col5, #T_62b07_row0_col7, #T_62b07_row0_col8, #T_62b07_row0_col9, #T_62b07_row0_col10, #T_62b07_row0_col11, #T_62b07_row0_col12, #T_62b07_row1_col0, #T_62b07_row1_col1, #T_62b07_row1_col2, #T_62b07_row1_col3, #T_62b07_row1_col4, #T_62b07_row1_col5, #T_62b07_row1_col7, #T_62b07_row1_col8, #T_62b07_row1_col9, #T_62b07_row1_col10, #T_62b07_row1_col11, #T_62b07_row1_col12, #T_62b07_row2_col0, #T_62b07_row2_col1, #T_62b07_row2_col2, #T_62b07_row2_col3, #T_62b07_row2_col4, #T_62b07_row2_col5, #T_62b07_row2_col7, #T_62b07_row2_col8, #T_62b07_row2_col9, #T_62b07_row2_col10, #T_62b07_row2_col11, #T_62b07_row2_col12 {\n",
       "  color: green;\n",
       "}\n",
       "#T_62b07_row0_col6, #T_62b07_row1_col6, #T_62b07_row2_col6 {\n",
       "  color: red;\n",
       "}\n",
       "</style>\n",
       "<table id=\"T_62b07_\">\n",
       "  <thead>\n",
       "    <tr>\n",
       "      <th class=\"blank level0\" >&nbsp;</th>\n",
       "      <th class=\"col_heading level0 col0\" >add</th>\n",
       "      <th class=\"col_heading level0 col1\" >sub</th>\n",
       "      <th class=\"col_heading level0 col2\" >mul</th>\n",
       "      <th class=\"col_heading level0 col3\" >floordiv</th>\n",
       "      <th class=\"col_heading level0 col4\" >truediv</th>\n",
       "      <th class=\"col_heading level0 col5\" >mod</th>\n",
       "      <th class=\"col_heading level0 col6\" >pow</th>\n",
       "      <th class=\"col_heading level0 col7\" >lt</th>\n",
       "      <th class=\"col_heading level0 col8\" >le</th>\n",
       "      <th class=\"col_heading level0 col9\" >eq</th>\n",
       "      <th class=\"col_heading level0 col10\" >ne</th>\n",
       "      <th class=\"col_heading level0 col11\" >ge</th>\n",
       "      <th class=\"col_heading level0 col12\" >gt</th>\n",
       "    </tr>\n",
       "  </thead>\n",
       "  <tbody>\n",
       "    <tr>\n",
       "      <th id=\"T_62b07_level0_row0\" class=\"row_heading level0 row0\" >astropy.units</th>\n",
       "      <td id=\"T_62b07_row0_col0\" class=\"data row0 col0\" >True</td>\n",
       "      <td id=\"T_62b07_row0_col1\" class=\"data row0 col1\" >True</td>\n",
       "      <td id=\"T_62b07_row0_col2\" class=\"data row0 col2\" >True</td>\n",
       "      <td id=\"T_62b07_row0_col3\" class=\"data row0 col3\" >True</td>\n",
       "      <td id=\"T_62b07_row0_col4\" class=\"data row0 col4\" >True</td>\n",
       "      <td id=\"T_62b07_row0_col5\" class=\"data row0 col5\" >True</td>\n",
       "      <td id=\"T_62b07_row0_col6\" class=\"data row0 col6\" >False</td>\n",
       "      <td id=\"T_62b07_row0_col7\" class=\"data row0 col7\" >True</td>\n",
       "      <td id=\"T_62b07_row0_col8\" class=\"data row0 col8\" >True</td>\n",
       "      <td id=\"T_62b07_row0_col9\" class=\"data row0 col9\" >True</td>\n",
       "      <td id=\"T_62b07_row0_col10\" class=\"data row0 col10\" >True</td>\n",
       "      <td id=\"T_62b07_row0_col11\" class=\"data row0 col11\" >True</td>\n",
       "      <td id=\"T_62b07_row0_col12\" class=\"data row0 col12\" >True</td>\n",
       "    </tr>\n",
       "    <tr>\n",
       "      <th id=\"T_62b07_level0_row1\" class=\"row_heading level0 row1\" >pint</th>\n",
       "      <td id=\"T_62b07_row1_col0\" class=\"data row1 col0\" >True</td>\n",
       "      <td id=\"T_62b07_row1_col1\" class=\"data row1 col1\" >True</td>\n",
       "      <td id=\"T_62b07_row1_col2\" class=\"data row1 col2\" >True</td>\n",
       "      <td id=\"T_62b07_row1_col3\" class=\"data row1 col3\" >True</td>\n",
       "      <td id=\"T_62b07_row1_col4\" class=\"data row1 col4\" >True</td>\n",
       "      <td id=\"T_62b07_row1_col5\" class=\"data row1 col5\" >True</td>\n",
       "      <td id=\"T_62b07_row1_col6\" class=\"data row1 col6\" >False</td>\n",
       "      <td id=\"T_62b07_row1_col7\" class=\"data row1 col7\" >True</td>\n",
       "      <td id=\"T_62b07_row1_col8\" class=\"data row1 col8\" >True</td>\n",
       "      <td id=\"T_62b07_row1_col9\" class=\"data row1 col9\" >True</td>\n",
       "      <td id=\"T_62b07_row1_col10\" class=\"data row1 col10\" >True</td>\n",
       "      <td id=\"T_62b07_row1_col11\" class=\"data row1 col11\" >True</td>\n",
       "      <td id=\"T_62b07_row1_col12\" class=\"data row1 col12\" >True</td>\n",
       "    </tr>\n",
       "    <tr>\n",
       "      <th id=\"T_62b07_level0_row2\" class=\"row_heading level0 row2\" >physipy</th>\n",
       "      <td id=\"T_62b07_row2_col0\" class=\"data row2 col0\" >True</td>\n",
       "      <td id=\"T_62b07_row2_col1\" class=\"data row2 col1\" >True</td>\n",
       "      <td id=\"T_62b07_row2_col2\" class=\"data row2 col2\" >True</td>\n",
       "      <td id=\"T_62b07_row2_col3\" class=\"data row2 col3\" >True</td>\n",
       "      <td id=\"T_62b07_row2_col4\" class=\"data row2 col4\" >True</td>\n",
       "      <td id=\"T_62b07_row2_col5\" class=\"data row2 col5\" >True</td>\n",
       "      <td id=\"T_62b07_row2_col6\" class=\"data row2 col6\" >False</td>\n",
       "      <td id=\"T_62b07_row2_col7\" class=\"data row2 col7\" >True</td>\n",
       "      <td id=\"T_62b07_row2_col8\" class=\"data row2 col8\" >True</td>\n",
       "      <td id=\"T_62b07_row2_col9\" class=\"data row2 col9\" >True</td>\n",
       "      <td id=\"T_62b07_row2_col10\" class=\"data row2 col10\" >True</td>\n",
       "      <td id=\"T_62b07_row2_col11\" class=\"data row2 col11\" >True</td>\n",
       "      <td id=\"T_62b07_row2_col12\" class=\"data row2 col12\" >True</td>\n",
       "    </tr>\n",
       "  </tbody>\n",
       "</table>\n"
      ],
      "text/plain": [
       "<pandas.io.formats.style.Styler at 0x123036f40>"
      ]
     },
     "metadata": {},
     "output_type": "display_data"
    },
    {
     "data": {
      "text/html": [
       "<h2>binary_compatible_ops</h3>"
      ],
      "text/plain": [
       "<IPython.core.display.HTML object>"
      ]
     },
     "metadata": {},
     "output_type": "display_data"
    },
    {
     "data": {
      "text/html": [
       "<style type=\"text/css\">\n",
       "#T_613ee_row0_col0, #T_613ee_row0_col1, #T_613ee_row0_col2, #T_613ee_row0_col3, #T_613ee_row0_col4, #T_613ee_row0_col5, #T_613ee_row0_col7, #T_613ee_row0_col8, #T_613ee_row0_col9, #T_613ee_row0_col10, #T_613ee_row0_col11, #T_613ee_row0_col12, #T_613ee_row1_col0, #T_613ee_row1_col1, #T_613ee_row1_col2, #T_613ee_row1_col3, #T_613ee_row1_col4, #T_613ee_row1_col5, #T_613ee_row1_col7, #T_613ee_row1_col8, #T_613ee_row1_col9, #T_613ee_row1_col10, #T_613ee_row1_col11, #T_613ee_row1_col12, #T_613ee_row2_col0, #T_613ee_row2_col1, #T_613ee_row2_col2, #T_613ee_row2_col3, #T_613ee_row2_col4, #T_613ee_row2_col5, #T_613ee_row2_col7, #T_613ee_row2_col8, #T_613ee_row2_col9, #T_613ee_row2_col10, #T_613ee_row2_col11, #T_613ee_row2_col12 {\n",
       "  color: green;\n",
       "}\n",
       "#T_613ee_row0_col6, #T_613ee_row1_col6, #T_613ee_row2_col6 {\n",
       "  color: red;\n",
       "}\n",
       "</style>\n",
       "<table id=\"T_613ee_\">\n",
       "  <thead>\n",
       "    <tr>\n",
       "      <th class=\"blank level0\" >&nbsp;</th>\n",
       "      <th class=\"col_heading level0 col0\" >add</th>\n",
       "      <th class=\"col_heading level0 col1\" >sub</th>\n",
       "      <th class=\"col_heading level0 col2\" >mul</th>\n",
       "      <th class=\"col_heading level0 col3\" >floordiv</th>\n",
       "      <th class=\"col_heading level0 col4\" >truediv</th>\n",
       "      <th class=\"col_heading level0 col5\" >mod</th>\n",
       "      <th class=\"col_heading level0 col6\" >pow</th>\n",
       "      <th class=\"col_heading level0 col7\" >lt</th>\n",
       "      <th class=\"col_heading level0 col8\" >le</th>\n",
       "      <th class=\"col_heading level0 col9\" >eq</th>\n",
       "      <th class=\"col_heading level0 col10\" >ne</th>\n",
       "      <th class=\"col_heading level0 col11\" >ge</th>\n",
       "      <th class=\"col_heading level0 col12\" >gt</th>\n",
       "    </tr>\n",
       "  </thead>\n",
       "  <tbody>\n",
       "    <tr>\n",
       "      <th id=\"T_613ee_level0_row0\" class=\"row_heading level0 row0\" >astropy.units</th>\n",
       "      <td id=\"T_613ee_row0_col0\" class=\"data row0 col0\" >True</td>\n",
       "      <td id=\"T_613ee_row0_col1\" class=\"data row0 col1\" >True</td>\n",
       "      <td id=\"T_613ee_row0_col2\" class=\"data row0 col2\" >True</td>\n",
       "      <td id=\"T_613ee_row0_col3\" class=\"data row0 col3\" >True</td>\n",
       "      <td id=\"T_613ee_row0_col4\" class=\"data row0 col4\" >True</td>\n",
       "      <td id=\"T_613ee_row0_col5\" class=\"data row0 col5\" >True</td>\n",
       "      <td id=\"T_613ee_row0_col6\" class=\"data row0 col6\" >False</td>\n",
       "      <td id=\"T_613ee_row0_col7\" class=\"data row0 col7\" >True</td>\n",
       "      <td id=\"T_613ee_row0_col8\" class=\"data row0 col8\" >True</td>\n",
       "      <td id=\"T_613ee_row0_col9\" class=\"data row0 col9\" >True</td>\n",
       "      <td id=\"T_613ee_row0_col10\" class=\"data row0 col10\" >True</td>\n",
       "      <td id=\"T_613ee_row0_col11\" class=\"data row0 col11\" >True</td>\n",
       "      <td id=\"T_613ee_row0_col12\" class=\"data row0 col12\" >True</td>\n",
       "    </tr>\n",
       "    <tr>\n",
       "      <th id=\"T_613ee_level0_row1\" class=\"row_heading level0 row1\" >pint</th>\n",
       "      <td id=\"T_613ee_row1_col0\" class=\"data row1 col0\" >True</td>\n",
       "      <td id=\"T_613ee_row1_col1\" class=\"data row1 col1\" >True</td>\n",
       "      <td id=\"T_613ee_row1_col2\" class=\"data row1 col2\" >True</td>\n",
       "      <td id=\"T_613ee_row1_col3\" class=\"data row1 col3\" >True</td>\n",
       "      <td id=\"T_613ee_row1_col4\" class=\"data row1 col4\" >True</td>\n",
       "      <td id=\"T_613ee_row1_col5\" class=\"data row1 col5\" >True</td>\n",
       "      <td id=\"T_613ee_row1_col6\" class=\"data row1 col6\" >False</td>\n",
       "      <td id=\"T_613ee_row1_col7\" class=\"data row1 col7\" >True</td>\n",
       "      <td id=\"T_613ee_row1_col8\" class=\"data row1 col8\" >True</td>\n",
       "      <td id=\"T_613ee_row1_col9\" class=\"data row1 col9\" >True</td>\n",
       "      <td id=\"T_613ee_row1_col10\" class=\"data row1 col10\" >True</td>\n",
       "      <td id=\"T_613ee_row1_col11\" class=\"data row1 col11\" >True</td>\n",
       "      <td id=\"T_613ee_row1_col12\" class=\"data row1 col12\" >True</td>\n",
       "    </tr>\n",
       "    <tr>\n",
       "      <th id=\"T_613ee_level0_row2\" class=\"row_heading level0 row2\" >physipy</th>\n",
       "      <td id=\"T_613ee_row2_col0\" class=\"data row2 col0\" >True</td>\n",
       "      <td id=\"T_613ee_row2_col1\" class=\"data row2 col1\" >True</td>\n",
       "      <td id=\"T_613ee_row2_col2\" class=\"data row2 col2\" >True</td>\n",
       "      <td id=\"T_613ee_row2_col3\" class=\"data row2 col3\" >True</td>\n",
       "      <td id=\"T_613ee_row2_col4\" class=\"data row2 col4\" >True</td>\n",
       "      <td id=\"T_613ee_row2_col5\" class=\"data row2 col5\" >True</td>\n",
       "      <td id=\"T_613ee_row2_col6\" class=\"data row2 col6\" >False</td>\n",
       "      <td id=\"T_613ee_row2_col7\" class=\"data row2 col7\" >True</td>\n",
       "      <td id=\"T_613ee_row2_col8\" class=\"data row2 col8\" >True</td>\n",
       "      <td id=\"T_613ee_row2_col9\" class=\"data row2 col9\" >True</td>\n",
       "      <td id=\"T_613ee_row2_col10\" class=\"data row2 col10\" >True</td>\n",
       "      <td id=\"T_613ee_row2_col11\" class=\"data row2 col11\" >True</td>\n",
       "      <td id=\"T_613ee_row2_col12\" class=\"data row2 col12\" >True</td>\n",
       "    </tr>\n",
       "  </tbody>\n",
       "</table>\n"
      ],
      "text/plain": [
       "<pandas.io.formats.style.Styler at 0x123036f70>"
      ]
     },
     "metadata": {},
     "output_type": "display_data"
    },
    {
     "data": {
      "text/html": [
       "<h2>binary_different_ops</h3>"
      ],
      "text/plain": [
       "<IPython.core.display.HTML object>"
      ]
     },
     "metadata": {},
     "output_type": "display_data"
    },
    {
     "data": {
      "text/html": [
       "<style type=\"text/css\">\n",
       "#T_527ee_row0_col0, #T_527ee_row0_col1, #T_527ee_row0_col3, #T_527ee_row0_col5, #T_527ee_row0_col6, #T_527ee_row0_col7, #T_527ee_row0_col8, #T_527ee_row0_col11, #T_527ee_row0_col12, #T_527ee_row1_col0, #T_527ee_row1_col1, #T_527ee_row1_col3, #T_527ee_row1_col5, #T_527ee_row1_col6, #T_527ee_row1_col7, #T_527ee_row1_col8, #T_527ee_row1_col11, #T_527ee_row1_col12, #T_527ee_row2_col0, #T_527ee_row2_col1, #T_527ee_row2_col3, #T_527ee_row2_col5, #T_527ee_row2_col6, #T_527ee_row2_col7, #T_527ee_row2_col8, #T_527ee_row2_col11, #T_527ee_row2_col12 {\n",
       "  color: red;\n",
       "}\n",
       "#T_527ee_row0_col2, #T_527ee_row0_col4, #T_527ee_row0_col9, #T_527ee_row0_col10, #T_527ee_row1_col2, #T_527ee_row1_col4, #T_527ee_row1_col9, #T_527ee_row1_col10, #T_527ee_row2_col2, #T_527ee_row2_col4, #T_527ee_row2_col9, #T_527ee_row2_col10 {\n",
       "  color: green;\n",
       "}\n",
       "</style>\n",
       "<table id=\"T_527ee_\">\n",
       "  <thead>\n",
       "    <tr>\n",
       "      <th class=\"blank level0\" >&nbsp;</th>\n",
       "      <th class=\"col_heading level0 col0\" >add</th>\n",
       "      <th class=\"col_heading level0 col1\" >sub</th>\n",
       "      <th class=\"col_heading level0 col2\" >mul</th>\n",
       "      <th class=\"col_heading level0 col3\" >floordiv</th>\n",
       "      <th class=\"col_heading level0 col4\" >truediv</th>\n",
       "      <th class=\"col_heading level0 col5\" >mod</th>\n",
       "      <th class=\"col_heading level0 col6\" >pow</th>\n",
       "      <th class=\"col_heading level0 col7\" >lt</th>\n",
       "      <th class=\"col_heading level0 col8\" >le</th>\n",
       "      <th class=\"col_heading level0 col9\" >eq</th>\n",
       "      <th class=\"col_heading level0 col10\" >ne</th>\n",
       "      <th class=\"col_heading level0 col11\" >ge</th>\n",
       "      <th class=\"col_heading level0 col12\" >gt</th>\n",
       "    </tr>\n",
       "  </thead>\n",
       "  <tbody>\n",
       "    <tr>\n",
       "      <th id=\"T_527ee_level0_row0\" class=\"row_heading level0 row0\" >astropy.units</th>\n",
       "      <td id=\"T_527ee_row0_col0\" class=\"data row0 col0\" >False</td>\n",
       "      <td id=\"T_527ee_row0_col1\" class=\"data row0 col1\" >False</td>\n",
       "      <td id=\"T_527ee_row0_col2\" class=\"data row0 col2\" >True</td>\n",
       "      <td id=\"T_527ee_row0_col3\" class=\"data row0 col3\" >False</td>\n",
       "      <td id=\"T_527ee_row0_col4\" class=\"data row0 col4\" >True</td>\n",
       "      <td id=\"T_527ee_row0_col5\" class=\"data row0 col5\" >False</td>\n",
       "      <td id=\"T_527ee_row0_col6\" class=\"data row0 col6\" >False</td>\n",
       "      <td id=\"T_527ee_row0_col7\" class=\"data row0 col7\" >False</td>\n",
       "      <td id=\"T_527ee_row0_col8\" class=\"data row0 col8\" >False</td>\n",
       "      <td id=\"T_527ee_row0_col9\" class=\"data row0 col9\" >True</td>\n",
       "      <td id=\"T_527ee_row0_col10\" class=\"data row0 col10\" >True</td>\n",
       "      <td id=\"T_527ee_row0_col11\" class=\"data row0 col11\" >False</td>\n",
       "      <td id=\"T_527ee_row0_col12\" class=\"data row0 col12\" >False</td>\n",
       "    </tr>\n",
       "    <tr>\n",
       "      <th id=\"T_527ee_level0_row1\" class=\"row_heading level0 row1\" >pint</th>\n",
       "      <td id=\"T_527ee_row1_col0\" class=\"data row1 col0\" >False</td>\n",
       "      <td id=\"T_527ee_row1_col1\" class=\"data row1 col1\" >False</td>\n",
       "      <td id=\"T_527ee_row1_col2\" class=\"data row1 col2\" >True</td>\n",
       "      <td id=\"T_527ee_row1_col3\" class=\"data row1 col3\" >False</td>\n",
       "      <td id=\"T_527ee_row1_col4\" class=\"data row1 col4\" >True</td>\n",
       "      <td id=\"T_527ee_row1_col5\" class=\"data row1 col5\" >False</td>\n",
       "      <td id=\"T_527ee_row1_col6\" class=\"data row1 col6\" >False</td>\n",
       "      <td id=\"T_527ee_row1_col7\" class=\"data row1 col7\" >False</td>\n",
       "      <td id=\"T_527ee_row1_col8\" class=\"data row1 col8\" >False</td>\n",
       "      <td id=\"T_527ee_row1_col9\" class=\"data row1 col9\" >True</td>\n",
       "      <td id=\"T_527ee_row1_col10\" class=\"data row1 col10\" >True</td>\n",
       "      <td id=\"T_527ee_row1_col11\" class=\"data row1 col11\" >False</td>\n",
       "      <td id=\"T_527ee_row1_col12\" class=\"data row1 col12\" >False</td>\n",
       "    </tr>\n",
       "    <tr>\n",
       "      <th id=\"T_527ee_level0_row2\" class=\"row_heading level0 row2\" >physipy</th>\n",
       "      <td id=\"T_527ee_row2_col0\" class=\"data row2 col0\" >False</td>\n",
       "      <td id=\"T_527ee_row2_col1\" class=\"data row2 col1\" >False</td>\n",
       "      <td id=\"T_527ee_row2_col2\" class=\"data row2 col2\" >True</td>\n",
       "      <td id=\"T_527ee_row2_col3\" class=\"data row2 col3\" >False</td>\n",
       "      <td id=\"T_527ee_row2_col4\" class=\"data row2 col4\" >True</td>\n",
       "      <td id=\"T_527ee_row2_col5\" class=\"data row2 col5\" >False</td>\n",
       "      <td id=\"T_527ee_row2_col6\" class=\"data row2 col6\" >False</td>\n",
       "      <td id=\"T_527ee_row2_col7\" class=\"data row2 col7\" >False</td>\n",
       "      <td id=\"T_527ee_row2_col8\" class=\"data row2 col8\" >False</td>\n",
       "      <td id=\"T_527ee_row2_col9\" class=\"data row2 col9\" >True</td>\n",
       "      <td id=\"T_527ee_row2_col10\" class=\"data row2 col10\" >True</td>\n",
       "      <td id=\"T_527ee_row2_col11\" class=\"data row2 col11\" >False</td>\n",
       "      <td id=\"T_527ee_row2_col12\" class=\"data row2 col12\" >False</td>\n",
       "    </tr>\n",
       "  </tbody>\n",
       "</table>\n"
      ],
      "text/plain": [
       "<pandas.io.formats.style.Styler at 0x123036b50>"
      ]
     },
     "metadata": {},
     "output_type": "display_data"
    },
    {
     "data": {
      "text/html": [
       "<h2>unary_ufuncs</h3>"
      ],
      "text/plain": [
       "<IPython.core.display.HTML object>"
      ]
     },
     "metadata": {},
     "output_type": "display_data"
    },
    {
     "data": {
      "text/html": [
       "<style type=\"text/css\">\n",
       "#T_c3adb_row0_col0, #T_c3adb_row0_col1, #T_c3adb_row0_col2, #T_c3adb_row0_col3, #T_c3adb_row0_col4, #T_c3adb_row0_col12, #T_c3adb_row0_col13, #T_c3adb_row0_col14, #T_c3adb_row0_col15, #T_c3adb_row0_col30, #T_c3adb_row0_col31, #T_c3adb_row0_col32, #T_c3adb_row1_col0, #T_c3adb_row1_col1, #T_c3adb_row1_col2, #T_c3adb_row1_col3, #T_c3adb_row1_col4, #T_c3adb_row1_col12, #T_c3adb_row1_col13, #T_c3adb_row1_col14, #T_c3adb_row1_col15, #T_c3adb_row1_col30, #T_c3adb_row1_col31, #T_c3adb_row1_col32, #T_c3adb_row2_col0, #T_c3adb_row2_col1, #T_c3adb_row2_col2, #T_c3adb_row2_col3, #T_c3adb_row2_col4, #T_c3adb_row2_col12, #T_c3adb_row2_col13, #T_c3adb_row2_col14, #T_c3adb_row2_col15, #T_c3adb_row2_col30, #T_c3adb_row2_col31, #T_c3adb_row2_col32 {\n",
       "  color: green;\n",
       "}\n",
       "#T_c3adb_row0_col5, #T_c3adb_row0_col6, #T_c3adb_row0_col7, #T_c3adb_row0_col8, #T_c3adb_row0_col9, #T_c3adb_row0_col10, #T_c3adb_row0_col11, #T_c3adb_row0_col16, #T_c3adb_row0_col17, #T_c3adb_row0_col18, #T_c3adb_row0_col19, #T_c3adb_row0_col20, #T_c3adb_row0_col21, #T_c3adb_row0_col22, #T_c3adb_row0_col23, #T_c3adb_row0_col24, #T_c3adb_row0_col25, #T_c3adb_row0_col26, #T_c3adb_row0_col27, #T_c3adb_row0_col28, #T_c3adb_row0_col29, #T_c3adb_row1_col5, #T_c3adb_row1_col6, #T_c3adb_row1_col7, #T_c3adb_row1_col8, #T_c3adb_row1_col9, #T_c3adb_row1_col10, #T_c3adb_row1_col11, #T_c3adb_row1_col16, #T_c3adb_row1_col17, #T_c3adb_row1_col18, #T_c3adb_row1_col19, #T_c3adb_row1_col20, #T_c3adb_row1_col21, #T_c3adb_row1_col22, #T_c3adb_row1_col23, #T_c3adb_row1_col24, #T_c3adb_row1_col25, #T_c3adb_row1_col26, #T_c3adb_row1_col27, #T_c3adb_row1_col28, #T_c3adb_row1_col29, #T_c3adb_row2_col5, #T_c3adb_row2_col6, #T_c3adb_row2_col7, #T_c3adb_row2_col8, #T_c3adb_row2_col9, #T_c3adb_row2_col10, #T_c3adb_row2_col11, #T_c3adb_row2_col16, #T_c3adb_row2_col17, #T_c3adb_row2_col18, #T_c3adb_row2_col19, #T_c3adb_row2_col20, #T_c3adb_row2_col21, #T_c3adb_row2_col22, #T_c3adb_row2_col23, #T_c3adb_row2_col24, #T_c3adb_row2_col25, #T_c3adb_row2_col26, #T_c3adb_row2_col27, #T_c3adb_row2_col28, #T_c3adb_row2_col29 {\n",
       "  color: red;\n",
       "}\n",
       "</style>\n",
       "<table id=\"T_c3adb_\">\n",
       "  <thead>\n",
       "    <tr>\n",
       "      <th class=\"blank level0\" >&nbsp;</th>\n",
       "      <th class=\"col_heading level0 col0\" >negative</th>\n",
       "      <th class=\"col_heading level0 col1\" >absolute</th>\n",
       "      <th class=\"col_heading level0 col2\" >rint</th>\n",
       "      <th class=\"col_heading level0 col3\" >sign</th>\n",
       "      <th class=\"col_heading level0 col4\" >conjugate</th>\n",
       "      <th class=\"col_heading level0 col5\" >exp</th>\n",
       "      <th class=\"col_heading level0 col6\" >exp2</th>\n",
       "      <th class=\"col_heading level0 col7\" >log</th>\n",
       "      <th class=\"col_heading level0 col8\" >log2</th>\n",
       "      <th class=\"col_heading level0 col9\" >log10</th>\n",
       "      <th class=\"col_heading level0 col10\" >expm1</th>\n",
       "      <th class=\"col_heading level0 col11\" >log1p</th>\n",
       "      <th class=\"col_heading level0 col12\" >sqrt</th>\n",
       "      <th class=\"col_heading level0 col13\" >square</th>\n",
       "      <th class=\"col_heading level0 col14\" >reciprocal</th>\n",
       "      <th class=\"col_heading level0 col15\" >ones_like</th>\n",
       "      <th class=\"col_heading level0 col16\" >sin</th>\n",
       "      <th class=\"col_heading level0 col17\" >cos</th>\n",
       "      <th class=\"col_heading level0 col18\" >tan</th>\n",
       "      <th class=\"col_heading level0 col19\" >arcsin</th>\n",
       "      <th class=\"col_heading level0 col20\" >arccos</th>\n",
       "      <th class=\"col_heading level0 col21\" >arctan</th>\n",
       "      <th class=\"col_heading level0 col22\" >sinh</th>\n",
       "      <th class=\"col_heading level0 col23\" >cosh</th>\n",
       "      <th class=\"col_heading level0 col24\" >tanh</th>\n",
       "      <th class=\"col_heading level0 col25\" >arcsinh</th>\n",
       "      <th class=\"col_heading level0 col26\" >arccosh</th>\n",
       "      <th class=\"col_heading level0 col27\" >arctanh</th>\n",
       "      <th class=\"col_heading level0 col28\" >deg2rad</th>\n",
       "      <th class=\"col_heading level0 col29\" >rad2deg</th>\n",
       "      <th class=\"col_heading level0 col30\" >floor</th>\n",
       "      <th class=\"col_heading level0 col31\" >ceil</th>\n",
       "      <th class=\"col_heading level0 col32\" >trunc</th>\n",
       "    </tr>\n",
       "  </thead>\n",
       "  <tbody>\n",
       "    <tr>\n",
       "      <th id=\"T_c3adb_level0_row0\" class=\"row_heading level0 row0\" >astropy.units</th>\n",
       "      <td id=\"T_c3adb_row0_col0\" class=\"data row0 col0\" >True</td>\n",
       "      <td id=\"T_c3adb_row0_col1\" class=\"data row0 col1\" >True</td>\n",
       "      <td id=\"T_c3adb_row0_col2\" class=\"data row0 col2\" >True</td>\n",
       "      <td id=\"T_c3adb_row0_col3\" class=\"data row0 col3\" >True</td>\n",
       "      <td id=\"T_c3adb_row0_col4\" class=\"data row0 col4\" >True</td>\n",
       "      <td id=\"T_c3adb_row0_col5\" class=\"data row0 col5\" >False</td>\n",
       "      <td id=\"T_c3adb_row0_col6\" class=\"data row0 col6\" >False</td>\n",
       "      <td id=\"T_c3adb_row0_col7\" class=\"data row0 col7\" >False</td>\n",
       "      <td id=\"T_c3adb_row0_col8\" class=\"data row0 col8\" >False</td>\n",
       "      <td id=\"T_c3adb_row0_col9\" class=\"data row0 col9\" >False</td>\n",
       "      <td id=\"T_c3adb_row0_col10\" class=\"data row0 col10\" >False</td>\n",
       "      <td id=\"T_c3adb_row0_col11\" class=\"data row0 col11\" >False</td>\n",
       "      <td id=\"T_c3adb_row0_col12\" class=\"data row0 col12\" >True</td>\n",
       "      <td id=\"T_c3adb_row0_col13\" class=\"data row0 col13\" >True</td>\n",
       "      <td id=\"T_c3adb_row0_col14\" class=\"data row0 col14\" >True</td>\n",
       "      <td id=\"T_c3adb_row0_col15\" class=\"data row0 col15\" >True</td>\n",
       "      <td id=\"T_c3adb_row0_col16\" class=\"data row0 col16\" >False</td>\n",
       "      <td id=\"T_c3adb_row0_col17\" class=\"data row0 col17\" >False</td>\n",
       "      <td id=\"T_c3adb_row0_col18\" class=\"data row0 col18\" >False</td>\n",
       "      <td id=\"T_c3adb_row0_col19\" class=\"data row0 col19\" >False</td>\n",
       "      <td id=\"T_c3adb_row0_col20\" class=\"data row0 col20\" >False</td>\n",
       "      <td id=\"T_c3adb_row0_col21\" class=\"data row0 col21\" >False</td>\n",
       "      <td id=\"T_c3adb_row0_col22\" class=\"data row0 col22\" >False</td>\n",
       "      <td id=\"T_c3adb_row0_col23\" class=\"data row0 col23\" >False</td>\n",
       "      <td id=\"T_c3adb_row0_col24\" class=\"data row0 col24\" >False</td>\n",
       "      <td id=\"T_c3adb_row0_col25\" class=\"data row0 col25\" >False</td>\n",
       "      <td id=\"T_c3adb_row0_col26\" class=\"data row0 col26\" >False</td>\n",
       "      <td id=\"T_c3adb_row0_col27\" class=\"data row0 col27\" >False</td>\n",
       "      <td id=\"T_c3adb_row0_col28\" class=\"data row0 col28\" >False</td>\n",
       "      <td id=\"T_c3adb_row0_col29\" class=\"data row0 col29\" >False</td>\n",
       "      <td id=\"T_c3adb_row0_col30\" class=\"data row0 col30\" >True</td>\n",
       "      <td id=\"T_c3adb_row0_col31\" class=\"data row0 col31\" >True</td>\n",
       "      <td id=\"T_c3adb_row0_col32\" class=\"data row0 col32\" >True</td>\n",
       "    </tr>\n",
       "    <tr>\n",
       "      <th id=\"T_c3adb_level0_row1\" class=\"row_heading level0 row1\" >pint</th>\n",
       "      <td id=\"T_c3adb_row1_col0\" class=\"data row1 col0\" >True</td>\n",
       "      <td id=\"T_c3adb_row1_col1\" class=\"data row1 col1\" >True</td>\n",
       "      <td id=\"T_c3adb_row1_col2\" class=\"data row1 col2\" >True</td>\n",
       "      <td id=\"T_c3adb_row1_col3\" class=\"data row1 col3\" >True</td>\n",
       "      <td id=\"T_c3adb_row1_col4\" class=\"data row1 col4\" >True</td>\n",
       "      <td id=\"T_c3adb_row1_col5\" class=\"data row1 col5\" >False</td>\n",
       "      <td id=\"T_c3adb_row1_col6\" class=\"data row1 col6\" >False</td>\n",
       "      <td id=\"T_c3adb_row1_col7\" class=\"data row1 col7\" >False</td>\n",
       "      <td id=\"T_c3adb_row1_col8\" class=\"data row1 col8\" >False</td>\n",
       "      <td id=\"T_c3adb_row1_col9\" class=\"data row1 col9\" >False</td>\n",
       "      <td id=\"T_c3adb_row1_col10\" class=\"data row1 col10\" >False</td>\n",
       "      <td id=\"T_c3adb_row1_col11\" class=\"data row1 col11\" >False</td>\n",
       "      <td id=\"T_c3adb_row1_col12\" class=\"data row1 col12\" >True</td>\n",
       "      <td id=\"T_c3adb_row1_col13\" class=\"data row1 col13\" >True</td>\n",
       "      <td id=\"T_c3adb_row1_col14\" class=\"data row1 col14\" >True</td>\n",
       "      <td id=\"T_c3adb_row1_col15\" class=\"data row1 col15\" >True</td>\n",
       "      <td id=\"T_c3adb_row1_col16\" class=\"data row1 col16\" >False</td>\n",
       "      <td id=\"T_c3adb_row1_col17\" class=\"data row1 col17\" >False</td>\n",
       "      <td id=\"T_c3adb_row1_col18\" class=\"data row1 col18\" >False</td>\n",
       "      <td id=\"T_c3adb_row1_col19\" class=\"data row1 col19\" >False</td>\n",
       "      <td id=\"T_c3adb_row1_col20\" class=\"data row1 col20\" >False</td>\n",
       "      <td id=\"T_c3adb_row1_col21\" class=\"data row1 col21\" >False</td>\n",
       "      <td id=\"T_c3adb_row1_col22\" class=\"data row1 col22\" >False</td>\n",
       "      <td id=\"T_c3adb_row1_col23\" class=\"data row1 col23\" >False</td>\n",
       "      <td id=\"T_c3adb_row1_col24\" class=\"data row1 col24\" >False</td>\n",
       "      <td id=\"T_c3adb_row1_col25\" class=\"data row1 col25\" >False</td>\n",
       "      <td id=\"T_c3adb_row1_col26\" class=\"data row1 col26\" >False</td>\n",
       "      <td id=\"T_c3adb_row1_col27\" class=\"data row1 col27\" >False</td>\n",
       "      <td id=\"T_c3adb_row1_col28\" class=\"data row1 col28\" >False</td>\n",
       "      <td id=\"T_c3adb_row1_col29\" class=\"data row1 col29\" >False</td>\n",
       "      <td id=\"T_c3adb_row1_col30\" class=\"data row1 col30\" >True</td>\n",
       "      <td id=\"T_c3adb_row1_col31\" class=\"data row1 col31\" >True</td>\n",
       "      <td id=\"T_c3adb_row1_col32\" class=\"data row1 col32\" >True</td>\n",
       "    </tr>\n",
       "    <tr>\n",
       "      <th id=\"T_c3adb_level0_row2\" class=\"row_heading level0 row2\" >physipy</th>\n",
       "      <td id=\"T_c3adb_row2_col0\" class=\"data row2 col0\" >True</td>\n",
       "      <td id=\"T_c3adb_row2_col1\" class=\"data row2 col1\" >True</td>\n",
       "      <td id=\"T_c3adb_row2_col2\" class=\"data row2 col2\" >True</td>\n",
       "      <td id=\"T_c3adb_row2_col3\" class=\"data row2 col3\" >True</td>\n",
       "      <td id=\"T_c3adb_row2_col4\" class=\"data row2 col4\" >True</td>\n",
       "      <td id=\"T_c3adb_row2_col5\" class=\"data row2 col5\" >False</td>\n",
       "      <td id=\"T_c3adb_row2_col6\" class=\"data row2 col6\" >False</td>\n",
       "      <td id=\"T_c3adb_row2_col7\" class=\"data row2 col7\" >False</td>\n",
       "      <td id=\"T_c3adb_row2_col8\" class=\"data row2 col8\" >False</td>\n",
       "      <td id=\"T_c3adb_row2_col9\" class=\"data row2 col9\" >False</td>\n",
       "      <td id=\"T_c3adb_row2_col10\" class=\"data row2 col10\" >False</td>\n",
       "      <td id=\"T_c3adb_row2_col11\" class=\"data row2 col11\" >False</td>\n",
       "      <td id=\"T_c3adb_row2_col12\" class=\"data row2 col12\" >True</td>\n",
       "      <td id=\"T_c3adb_row2_col13\" class=\"data row2 col13\" >True</td>\n",
       "      <td id=\"T_c3adb_row2_col14\" class=\"data row2 col14\" >True</td>\n",
       "      <td id=\"T_c3adb_row2_col15\" class=\"data row2 col15\" >True</td>\n",
       "      <td id=\"T_c3adb_row2_col16\" class=\"data row2 col16\" >False</td>\n",
       "      <td id=\"T_c3adb_row2_col17\" class=\"data row2 col17\" >False</td>\n",
       "      <td id=\"T_c3adb_row2_col18\" class=\"data row2 col18\" >False</td>\n",
       "      <td id=\"T_c3adb_row2_col19\" class=\"data row2 col19\" >False</td>\n",
       "      <td id=\"T_c3adb_row2_col20\" class=\"data row2 col20\" >False</td>\n",
       "      <td id=\"T_c3adb_row2_col21\" class=\"data row2 col21\" >False</td>\n",
       "      <td id=\"T_c3adb_row2_col22\" class=\"data row2 col22\" >False</td>\n",
       "      <td id=\"T_c3adb_row2_col23\" class=\"data row2 col23\" >False</td>\n",
       "      <td id=\"T_c3adb_row2_col24\" class=\"data row2 col24\" >False</td>\n",
       "      <td id=\"T_c3adb_row2_col25\" class=\"data row2 col25\" >False</td>\n",
       "      <td id=\"T_c3adb_row2_col26\" class=\"data row2 col26\" >False</td>\n",
       "      <td id=\"T_c3adb_row2_col27\" class=\"data row2 col27\" >False</td>\n",
       "      <td id=\"T_c3adb_row2_col28\" class=\"data row2 col28\" >False</td>\n",
       "      <td id=\"T_c3adb_row2_col29\" class=\"data row2 col29\" >False</td>\n",
       "      <td id=\"T_c3adb_row2_col30\" class=\"data row2 col30\" >True</td>\n",
       "      <td id=\"T_c3adb_row2_col31\" class=\"data row2 col31\" >True</td>\n",
       "      <td id=\"T_c3adb_row2_col32\" class=\"data row2 col32\" >True</td>\n",
       "    </tr>\n",
       "  </tbody>\n",
       "</table>\n"
      ],
      "text/plain": [
       "<pandas.io.formats.style.Styler at 0x123036940>"
      ]
     },
     "metadata": {},
     "output_type": "display_data"
    },
    {
     "data": {
      "text/html": [
       "<h2>binary_same_ufuncs</h3>"
      ],
      "text/plain": [
       "<IPython.core.display.HTML object>"
      ]
     },
     "metadata": {},
     "output_type": "display_data"
    },
    {
     "data": {
      "text/html": [
       "<style type=\"text/css\">\n",
       "#T_37c31_row0_col0, #T_37c31_row0_col1, #T_37c31_row0_col2, #T_37c31_row0_col3, #T_37c31_row0_col6, #T_37c31_row0_col8, #T_37c31_row0_col9, #T_37c31_row0_col10, #T_37c31_row0_col11, #T_37c31_row0_col12, #T_37c31_row0_col13, #T_37c31_row0_col14, #T_37c31_row0_col15, #T_37c31_row0_col16, #T_37c31_row0_col17, #T_37c31_row0_col18, #T_37c31_row0_col19, #T_37c31_row1_col0, #T_37c31_row1_col1, #T_37c31_row1_col2, #T_37c31_row1_col3, #T_37c31_row1_col6, #T_37c31_row1_col8, #T_37c31_row1_col9, #T_37c31_row1_col10, #T_37c31_row1_col11, #T_37c31_row1_col12, #T_37c31_row1_col13, #T_37c31_row1_col14, #T_37c31_row1_col15, #T_37c31_row1_col16, #T_37c31_row1_col17, #T_37c31_row1_col18, #T_37c31_row1_col19, #T_37c31_row2_col0, #T_37c31_row2_col1, #T_37c31_row2_col2, #T_37c31_row2_col3, #T_37c31_row2_col6, #T_37c31_row2_col8, #T_37c31_row2_col9, #T_37c31_row2_col10, #T_37c31_row2_col11, #T_37c31_row2_col12, #T_37c31_row2_col13, #T_37c31_row2_col14, #T_37c31_row2_col15, #T_37c31_row2_col16, #T_37c31_row2_col17, #T_37c31_row2_col18, #T_37c31_row2_col19 {\n",
       "  color: green;\n",
       "}\n",
       "#T_37c31_row0_col4, #T_37c31_row0_col5, #T_37c31_row0_col7, #T_37c31_row1_col4, #T_37c31_row1_col5, #T_37c31_row1_col7, #T_37c31_row2_col4, #T_37c31_row2_col5, #T_37c31_row2_col7 {\n",
       "  color: red;\n",
       "}\n",
       "</style>\n",
       "<table id=\"T_37c31_\">\n",
       "  <thead>\n",
       "    <tr>\n",
       "      <th class=\"blank level0\" >&nbsp;</th>\n",
       "      <th class=\"col_heading level0 col0\" >add</th>\n",
       "      <th class=\"col_heading level0 col1\" >subtract</th>\n",
       "      <th class=\"col_heading level0 col2\" >multiply</th>\n",
       "      <th class=\"col_heading level0 col3\" >true_divide</th>\n",
       "      <th class=\"col_heading level0 col4\" >logaddexp</th>\n",
       "      <th class=\"col_heading level0 col5\" >logaddexp2</th>\n",
       "      <th class=\"col_heading level0 col6\" >floor_divide</th>\n",
       "      <th class=\"col_heading level0 col7\" >power</th>\n",
       "      <th class=\"col_heading level0 col8\" >remainder</th>\n",
       "      <th class=\"col_heading level0 col9\" >fmod</th>\n",
       "      <th class=\"col_heading level0 col10\" >arctan2</th>\n",
       "      <th class=\"col_heading level0 col11\" >hypot</th>\n",
       "      <th class=\"col_heading level0 col12\" >greater</th>\n",
       "      <th class=\"col_heading level0 col13\" >greater_equal</th>\n",
       "      <th class=\"col_heading level0 col14\" >less</th>\n",
       "      <th class=\"col_heading level0 col15\" >less_equal</th>\n",
       "      <th class=\"col_heading level0 col16\" >not_equal</th>\n",
       "      <th class=\"col_heading level0 col17\" >equal</th>\n",
       "      <th class=\"col_heading level0 col18\" >maximum</th>\n",
       "      <th class=\"col_heading level0 col19\" >minimum</th>\n",
       "    </tr>\n",
       "  </thead>\n",
       "  <tbody>\n",
       "    <tr>\n",
       "      <th id=\"T_37c31_level0_row0\" class=\"row_heading level0 row0\" >astropy.units</th>\n",
       "      <td id=\"T_37c31_row0_col0\" class=\"data row0 col0\" >True</td>\n",
       "      <td id=\"T_37c31_row0_col1\" class=\"data row0 col1\" >True</td>\n",
       "      <td id=\"T_37c31_row0_col2\" class=\"data row0 col2\" >True</td>\n",
       "      <td id=\"T_37c31_row0_col3\" class=\"data row0 col3\" >True</td>\n",
       "      <td id=\"T_37c31_row0_col4\" class=\"data row0 col4\" >False</td>\n",
       "      <td id=\"T_37c31_row0_col5\" class=\"data row0 col5\" >False</td>\n",
       "      <td id=\"T_37c31_row0_col6\" class=\"data row0 col6\" >True</td>\n",
       "      <td id=\"T_37c31_row0_col7\" class=\"data row0 col7\" >False</td>\n",
       "      <td id=\"T_37c31_row0_col8\" class=\"data row0 col8\" >True</td>\n",
       "      <td id=\"T_37c31_row0_col9\" class=\"data row0 col9\" >True</td>\n",
       "      <td id=\"T_37c31_row0_col10\" class=\"data row0 col10\" >True</td>\n",
       "      <td id=\"T_37c31_row0_col11\" class=\"data row0 col11\" >True</td>\n",
       "      <td id=\"T_37c31_row0_col12\" class=\"data row0 col12\" >True</td>\n",
       "      <td id=\"T_37c31_row0_col13\" class=\"data row0 col13\" >True</td>\n",
       "      <td id=\"T_37c31_row0_col14\" class=\"data row0 col14\" >True</td>\n",
       "      <td id=\"T_37c31_row0_col15\" class=\"data row0 col15\" >True</td>\n",
       "      <td id=\"T_37c31_row0_col16\" class=\"data row0 col16\" >True</td>\n",
       "      <td id=\"T_37c31_row0_col17\" class=\"data row0 col17\" >True</td>\n",
       "      <td id=\"T_37c31_row0_col18\" class=\"data row0 col18\" >True</td>\n",
       "      <td id=\"T_37c31_row0_col19\" class=\"data row0 col19\" >True</td>\n",
       "    </tr>\n",
       "    <tr>\n",
       "      <th id=\"T_37c31_level0_row1\" class=\"row_heading level0 row1\" >pint</th>\n",
       "      <td id=\"T_37c31_row1_col0\" class=\"data row1 col0\" >True</td>\n",
       "      <td id=\"T_37c31_row1_col1\" class=\"data row1 col1\" >True</td>\n",
       "      <td id=\"T_37c31_row1_col2\" class=\"data row1 col2\" >True</td>\n",
       "      <td id=\"T_37c31_row1_col3\" class=\"data row1 col3\" >True</td>\n",
       "      <td id=\"T_37c31_row1_col4\" class=\"data row1 col4\" >False</td>\n",
       "      <td id=\"T_37c31_row1_col5\" class=\"data row1 col5\" >False</td>\n",
       "      <td id=\"T_37c31_row1_col6\" class=\"data row1 col6\" >True</td>\n",
       "      <td id=\"T_37c31_row1_col7\" class=\"data row1 col7\" >False</td>\n",
       "      <td id=\"T_37c31_row1_col8\" class=\"data row1 col8\" >True</td>\n",
       "      <td id=\"T_37c31_row1_col9\" class=\"data row1 col9\" >True</td>\n",
       "      <td id=\"T_37c31_row1_col10\" class=\"data row1 col10\" >True</td>\n",
       "      <td id=\"T_37c31_row1_col11\" class=\"data row1 col11\" >True</td>\n",
       "      <td id=\"T_37c31_row1_col12\" class=\"data row1 col12\" >True</td>\n",
       "      <td id=\"T_37c31_row1_col13\" class=\"data row1 col13\" >True</td>\n",
       "      <td id=\"T_37c31_row1_col14\" class=\"data row1 col14\" >True</td>\n",
       "      <td id=\"T_37c31_row1_col15\" class=\"data row1 col15\" >True</td>\n",
       "      <td id=\"T_37c31_row1_col16\" class=\"data row1 col16\" >True</td>\n",
       "      <td id=\"T_37c31_row1_col17\" class=\"data row1 col17\" >True</td>\n",
       "      <td id=\"T_37c31_row1_col18\" class=\"data row1 col18\" >True</td>\n",
       "      <td id=\"T_37c31_row1_col19\" class=\"data row1 col19\" >True</td>\n",
       "    </tr>\n",
       "    <tr>\n",
       "      <th id=\"T_37c31_level0_row2\" class=\"row_heading level0 row2\" >physipy</th>\n",
       "      <td id=\"T_37c31_row2_col0\" class=\"data row2 col0\" >True</td>\n",
       "      <td id=\"T_37c31_row2_col1\" class=\"data row2 col1\" >True</td>\n",
       "      <td id=\"T_37c31_row2_col2\" class=\"data row2 col2\" >True</td>\n",
       "      <td id=\"T_37c31_row2_col3\" class=\"data row2 col3\" >True</td>\n",
       "      <td id=\"T_37c31_row2_col4\" class=\"data row2 col4\" >False</td>\n",
       "      <td id=\"T_37c31_row2_col5\" class=\"data row2 col5\" >False</td>\n",
       "      <td id=\"T_37c31_row2_col6\" class=\"data row2 col6\" >True</td>\n",
       "      <td id=\"T_37c31_row2_col7\" class=\"data row2 col7\" >False</td>\n",
       "      <td id=\"T_37c31_row2_col8\" class=\"data row2 col8\" >True</td>\n",
       "      <td id=\"T_37c31_row2_col9\" class=\"data row2 col9\" >True</td>\n",
       "      <td id=\"T_37c31_row2_col10\" class=\"data row2 col10\" >True</td>\n",
       "      <td id=\"T_37c31_row2_col11\" class=\"data row2 col11\" >True</td>\n",
       "      <td id=\"T_37c31_row2_col12\" class=\"data row2 col12\" >True</td>\n",
       "      <td id=\"T_37c31_row2_col13\" class=\"data row2 col13\" >True</td>\n",
       "      <td id=\"T_37c31_row2_col14\" class=\"data row2 col14\" >True</td>\n",
       "      <td id=\"T_37c31_row2_col15\" class=\"data row2 col15\" >True</td>\n",
       "      <td id=\"T_37c31_row2_col16\" class=\"data row2 col16\" >True</td>\n",
       "      <td id=\"T_37c31_row2_col17\" class=\"data row2 col17\" >True</td>\n",
       "      <td id=\"T_37c31_row2_col18\" class=\"data row2 col18\" >True</td>\n",
       "      <td id=\"T_37c31_row2_col19\" class=\"data row2 col19\" >True</td>\n",
       "    </tr>\n",
       "  </tbody>\n",
       "</table>\n"
      ],
      "text/plain": [
       "<pandas.io.formats.style.Styler at 0x123036730>"
      ]
     },
     "metadata": {},
     "output_type": "display_data"
    },
    {
     "data": {
      "text/html": [
       "<h2>binary_compatible_ufuncs</h3>"
      ],
      "text/plain": [
       "<IPython.core.display.HTML object>"
      ]
     },
     "metadata": {},
     "output_type": "display_data"
    },
    {
     "data": {
      "text/html": [
       "<style type=\"text/css\">\n",
       "#T_e78e1_row0_col0, #T_e78e1_row0_col1, #T_e78e1_row0_col2, #T_e78e1_row0_col3, #T_e78e1_row0_col6, #T_e78e1_row0_col8, #T_e78e1_row0_col9, #T_e78e1_row0_col10, #T_e78e1_row0_col11, #T_e78e1_row0_col12, #T_e78e1_row0_col13, #T_e78e1_row0_col14, #T_e78e1_row0_col15, #T_e78e1_row0_col16, #T_e78e1_row0_col17, #T_e78e1_row0_col18, #T_e78e1_row0_col19, #T_e78e1_row1_col0, #T_e78e1_row1_col1, #T_e78e1_row1_col2, #T_e78e1_row1_col3, #T_e78e1_row1_col6, #T_e78e1_row1_col8, #T_e78e1_row1_col9, #T_e78e1_row1_col10, #T_e78e1_row1_col11, #T_e78e1_row1_col12, #T_e78e1_row1_col13, #T_e78e1_row1_col14, #T_e78e1_row1_col15, #T_e78e1_row1_col16, #T_e78e1_row1_col17, #T_e78e1_row1_col18, #T_e78e1_row1_col19, #T_e78e1_row2_col0, #T_e78e1_row2_col1, #T_e78e1_row2_col2, #T_e78e1_row2_col3, #T_e78e1_row2_col6, #T_e78e1_row2_col8, #T_e78e1_row2_col9, #T_e78e1_row2_col10, #T_e78e1_row2_col11, #T_e78e1_row2_col12, #T_e78e1_row2_col13, #T_e78e1_row2_col14, #T_e78e1_row2_col15, #T_e78e1_row2_col16, #T_e78e1_row2_col17, #T_e78e1_row2_col18, #T_e78e1_row2_col19 {\n",
       "  color: green;\n",
       "}\n",
       "#T_e78e1_row0_col4, #T_e78e1_row0_col5, #T_e78e1_row0_col7, #T_e78e1_row1_col4, #T_e78e1_row1_col5, #T_e78e1_row1_col7, #T_e78e1_row2_col4, #T_e78e1_row2_col5, #T_e78e1_row2_col7 {\n",
       "  color: red;\n",
       "}\n",
       "</style>\n",
       "<table id=\"T_e78e1_\">\n",
       "  <thead>\n",
       "    <tr>\n",
       "      <th class=\"blank level0\" >&nbsp;</th>\n",
       "      <th class=\"col_heading level0 col0\" >add</th>\n",
       "      <th class=\"col_heading level0 col1\" >subtract</th>\n",
       "      <th class=\"col_heading level0 col2\" >multiply</th>\n",
       "      <th class=\"col_heading level0 col3\" >true_divide</th>\n",
       "      <th class=\"col_heading level0 col4\" >logaddexp</th>\n",
       "      <th class=\"col_heading level0 col5\" >logaddexp2</th>\n",
       "      <th class=\"col_heading level0 col6\" >floor_divide</th>\n",
       "      <th class=\"col_heading level0 col7\" >power</th>\n",
       "      <th class=\"col_heading level0 col8\" >remainder</th>\n",
       "      <th class=\"col_heading level0 col9\" >fmod</th>\n",
       "      <th class=\"col_heading level0 col10\" >arctan2</th>\n",
       "      <th class=\"col_heading level0 col11\" >hypot</th>\n",
       "      <th class=\"col_heading level0 col12\" >greater</th>\n",
       "      <th class=\"col_heading level0 col13\" >greater_equal</th>\n",
       "      <th class=\"col_heading level0 col14\" >less</th>\n",
       "      <th class=\"col_heading level0 col15\" >less_equal</th>\n",
       "      <th class=\"col_heading level0 col16\" >not_equal</th>\n",
       "      <th class=\"col_heading level0 col17\" >equal</th>\n",
       "      <th class=\"col_heading level0 col18\" >maximum</th>\n",
       "      <th class=\"col_heading level0 col19\" >minimum</th>\n",
       "    </tr>\n",
       "  </thead>\n",
       "  <tbody>\n",
       "    <tr>\n",
       "      <th id=\"T_e78e1_level0_row0\" class=\"row_heading level0 row0\" >astropy.units</th>\n",
       "      <td id=\"T_e78e1_row0_col0\" class=\"data row0 col0\" >True</td>\n",
       "      <td id=\"T_e78e1_row0_col1\" class=\"data row0 col1\" >True</td>\n",
       "      <td id=\"T_e78e1_row0_col2\" class=\"data row0 col2\" >True</td>\n",
       "      <td id=\"T_e78e1_row0_col3\" class=\"data row0 col3\" >True</td>\n",
       "      <td id=\"T_e78e1_row0_col4\" class=\"data row0 col4\" >False</td>\n",
       "      <td id=\"T_e78e1_row0_col5\" class=\"data row0 col5\" >False</td>\n",
       "      <td id=\"T_e78e1_row0_col6\" class=\"data row0 col6\" >True</td>\n",
       "      <td id=\"T_e78e1_row0_col7\" class=\"data row0 col7\" >False</td>\n",
       "      <td id=\"T_e78e1_row0_col8\" class=\"data row0 col8\" >True</td>\n",
       "      <td id=\"T_e78e1_row0_col9\" class=\"data row0 col9\" >True</td>\n",
       "      <td id=\"T_e78e1_row0_col10\" class=\"data row0 col10\" >True</td>\n",
       "      <td id=\"T_e78e1_row0_col11\" class=\"data row0 col11\" >True</td>\n",
       "      <td id=\"T_e78e1_row0_col12\" class=\"data row0 col12\" >True</td>\n",
       "      <td id=\"T_e78e1_row0_col13\" class=\"data row0 col13\" >True</td>\n",
       "      <td id=\"T_e78e1_row0_col14\" class=\"data row0 col14\" >True</td>\n",
       "      <td id=\"T_e78e1_row0_col15\" class=\"data row0 col15\" >True</td>\n",
       "      <td id=\"T_e78e1_row0_col16\" class=\"data row0 col16\" >True</td>\n",
       "      <td id=\"T_e78e1_row0_col17\" class=\"data row0 col17\" >True</td>\n",
       "      <td id=\"T_e78e1_row0_col18\" class=\"data row0 col18\" >True</td>\n",
       "      <td id=\"T_e78e1_row0_col19\" class=\"data row0 col19\" >True</td>\n",
       "    </tr>\n",
       "    <tr>\n",
       "      <th id=\"T_e78e1_level0_row1\" class=\"row_heading level0 row1\" >pint</th>\n",
       "      <td id=\"T_e78e1_row1_col0\" class=\"data row1 col0\" >True</td>\n",
       "      <td id=\"T_e78e1_row1_col1\" class=\"data row1 col1\" >True</td>\n",
       "      <td id=\"T_e78e1_row1_col2\" class=\"data row1 col2\" >True</td>\n",
       "      <td id=\"T_e78e1_row1_col3\" class=\"data row1 col3\" >True</td>\n",
       "      <td id=\"T_e78e1_row1_col4\" class=\"data row1 col4\" >False</td>\n",
       "      <td id=\"T_e78e1_row1_col5\" class=\"data row1 col5\" >False</td>\n",
       "      <td id=\"T_e78e1_row1_col6\" class=\"data row1 col6\" >True</td>\n",
       "      <td id=\"T_e78e1_row1_col7\" class=\"data row1 col7\" >False</td>\n",
       "      <td id=\"T_e78e1_row1_col8\" class=\"data row1 col8\" >True</td>\n",
       "      <td id=\"T_e78e1_row1_col9\" class=\"data row1 col9\" >True</td>\n",
       "      <td id=\"T_e78e1_row1_col10\" class=\"data row1 col10\" >True</td>\n",
       "      <td id=\"T_e78e1_row1_col11\" class=\"data row1 col11\" >True</td>\n",
       "      <td id=\"T_e78e1_row1_col12\" class=\"data row1 col12\" >True</td>\n",
       "      <td id=\"T_e78e1_row1_col13\" class=\"data row1 col13\" >True</td>\n",
       "      <td id=\"T_e78e1_row1_col14\" class=\"data row1 col14\" >True</td>\n",
       "      <td id=\"T_e78e1_row1_col15\" class=\"data row1 col15\" >True</td>\n",
       "      <td id=\"T_e78e1_row1_col16\" class=\"data row1 col16\" >True</td>\n",
       "      <td id=\"T_e78e1_row1_col17\" class=\"data row1 col17\" >True</td>\n",
       "      <td id=\"T_e78e1_row1_col18\" class=\"data row1 col18\" >True</td>\n",
       "      <td id=\"T_e78e1_row1_col19\" class=\"data row1 col19\" >True</td>\n",
       "    </tr>\n",
       "    <tr>\n",
       "      <th id=\"T_e78e1_level0_row2\" class=\"row_heading level0 row2\" >physipy</th>\n",
       "      <td id=\"T_e78e1_row2_col0\" class=\"data row2 col0\" >True</td>\n",
       "      <td id=\"T_e78e1_row2_col1\" class=\"data row2 col1\" >True</td>\n",
       "      <td id=\"T_e78e1_row2_col2\" class=\"data row2 col2\" >True</td>\n",
       "      <td id=\"T_e78e1_row2_col3\" class=\"data row2 col3\" >True</td>\n",
       "      <td id=\"T_e78e1_row2_col4\" class=\"data row2 col4\" >False</td>\n",
       "      <td id=\"T_e78e1_row2_col5\" class=\"data row2 col5\" >False</td>\n",
       "      <td id=\"T_e78e1_row2_col6\" class=\"data row2 col6\" >True</td>\n",
       "      <td id=\"T_e78e1_row2_col7\" class=\"data row2 col7\" >False</td>\n",
       "      <td id=\"T_e78e1_row2_col8\" class=\"data row2 col8\" >True</td>\n",
       "      <td id=\"T_e78e1_row2_col9\" class=\"data row2 col9\" >True</td>\n",
       "      <td id=\"T_e78e1_row2_col10\" class=\"data row2 col10\" >True</td>\n",
       "      <td id=\"T_e78e1_row2_col11\" class=\"data row2 col11\" >True</td>\n",
       "      <td id=\"T_e78e1_row2_col12\" class=\"data row2 col12\" >True</td>\n",
       "      <td id=\"T_e78e1_row2_col13\" class=\"data row2 col13\" >True</td>\n",
       "      <td id=\"T_e78e1_row2_col14\" class=\"data row2 col14\" >True</td>\n",
       "      <td id=\"T_e78e1_row2_col15\" class=\"data row2 col15\" >True</td>\n",
       "      <td id=\"T_e78e1_row2_col16\" class=\"data row2 col16\" >True</td>\n",
       "      <td id=\"T_e78e1_row2_col17\" class=\"data row2 col17\" >True</td>\n",
       "      <td id=\"T_e78e1_row2_col18\" class=\"data row2 col18\" >True</td>\n",
       "      <td id=\"T_e78e1_row2_col19\" class=\"data row2 col19\" >True</td>\n",
       "    </tr>\n",
       "  </tbody>\n",
       "</table>\n"
      ],
      "text/plain": [
       "<pandas.io.formats.style.Styler at 0x123036520>"
      ]
     },
     "metadata": {},
     "output_type": "display_data"
    },
    {
     "data": {
      "text/html": [
       "<h2>binary_different_ufuncs</h3>"
      ],
      "text/plain": [
       "<IPython.core.display.HTML object>"
      ]
     },
     "metadata": {},
     "output_type": "display_data"
    },
    {
     "data": {
      "text/html": [
       "<style type=\"text/css\">\n",
       "#T_fa6f2_row0_col0, #T_fa6f2_row0_col1, #T_fa6f2_row0_col4, #T_fa6f2_row0_col5, #T_fa6f2_row0_col6, #T_fa6f2_row0_col7, #T_fa6f2_row0_col8, #T_fa6f2_row0_col9, #T_fa6f2_row0_col10, #T_fa6f2_row0_col11, #T_fa6f2_row0_col12, #T_fa6f2_row0_col13, #T_fa6f2_row0_col14, #T_fa6f2_row0_col15, #T_fa6f2_row0_col16, #T_fa6f2_row0_col17, #T_fa6f2_row0_col18, #T_fa6f2_row0_col19, #T_fa6f2_row1_col0, #T_fa6f2_row1_col1, #T_fa6f2_row1_col4, #T_fa6f2_row1_col5, #T_fa6f2_row1_col7, #T_fa6f2_row1_col10, #T_fa6f2_row1_col11, #T_fa6f2_row1_col12, #T_fa6f2_row1_col13, #T_fa6f2_row1_col14, #T_fa6f2_row1_col15, #T_fa6f2_row1_col16, #T_fa6f2_row1_col17, #T_fa6f2_row1_col18, #T_fa6f2_row1_col19, #T_fa6f2_row2_col0, #T_fa6f2_row2_col1, #T_fa6f2_row2_col4, #T_fa6f2_row2_col5, #T_fa6f2_row2_col6, #T_fa6f2_row2_col7, #T_fa6f2_row2_col8, #T_fa6f2_row2_col9, #T_fa6f2_row2_col10, #T_fa6f2_row2_col11, #T_fa6f2_row2_col12, #T_fa6f2_row2_col13, #T_fa6f2_row2_col14, #T_fa6f2_row2_col15, #T_fa6f2_row2_col16, #T_fa6f2_row2_col17, #T_fa6f2_row2_col18, #T_fa6f2_row2_col19 {\n",
       "  color: red;\n",
       "}\n",
       "#T_fa6f2_row0_col2, #T_fa6f2_row0_col3, #T_fa6f2_row1_col2, #T_fa6f2_row1_col3, #T_fa6f2_row1_col6, #T_fa6f2_row1_col8, #T_fa6f2_row1_col9, #T_fa6f2_row2_col2, #T_fa6f2_row2_col3 {\n",
       "  color: green;\n",
       "}\n",
       "</style>\n",
       "<table id=\"T_fa6f2_\">\n",
       "  <thead>\n",
       "    <tr>\n",
       "      <th class=\"blank level0\" >&nbsp;</th>\n",
       "      <th class=\"col_heading level0 col0\" >add</th>\n",
       "      <th class=\"col_heading level0 col1\" >subtract</th>\n",
       "      <th class=\"col_heading level0 col2\" >multiply</th>\n",
       "      <th class=\"col_heading level0 col3\" >true_divide</th>\n",
       "      <th class=\"col_heading level0 col4\" >logaddexp</th>\n",
       "      <th class=\"col_heading level0 col5\" >logaddexp2</th>\n",
       "      <th class=\"col_heading level0 col6\" >floor_divide</th>\n",
       "      <th class=\"col_heading level0 col7\" >power</th>\n",
       "      <th class=\"col_heading level0 col8\" >remainder</th>\n",
       "      <th class=\"col_heading level0 col9\" >fmod</th>\n",
       "      <th class=\"col_heading level0 col10\" >arctan2</th>\n",
       "      <th class=\"col_heading level0 col11\" >hypot</th>\n",
       "      <th class=\"col_heading level0 col12\" >greater</th>\n",
       "      <th class=\"col_heading level0 col13\" >greater_equal</th>\n",
       "      <th class=\"col_heading level0 col14\" >less</th>\n",
       "      <th class=\"col_heading level0 col15\" >less_equal</th>\n",
       "      <th class=\"col_heading level0 col16\" >not_equal</th>\n",
       "      <th class=\"col_heading level0 col17\" >equal</th>\n",
       "      <th class=\"col_heading level0 col18\" >maximum</th>\n",
       "      <th class=\"col_heading level0 col19\" >minimum</th>\n",
       "    </tr>\n",
       "  </thead>\n",
       "  <tbody>\n",
       "    <tr>\n",
       "      <th id=\"T_fa6f2_level0_row0\" class=\"row_heading level0 row0\" >astropy.units</th>\n",
       "      <td id=\"T_fa6f2_row0_col0\" class=\"data row0 col0\" >False</td>\n",
       "      <td id=\"T_fa6f2_row0_col1\" class=\"data row0 col1\" >False</td>\n",
       "      <td id=\"T_fa6f2_row0_col2\" class=\"data row0 col2\" >True</td>\n",
       "      <td id=\"T_fa6f2_row0_col3\" class=\"data row0 col3\" >True</td>\n",
       "      <td id=\"T_fa6f2_row0_col4\" class=\"data row0 col4\" >False</td>\n",
       "      <td id=\"T_fa6f2_row0_col5\" class=\"data row0 col5\" >False</td>\n",
       "      <td id=\"T_fa6f2_row0_col6\" class=\"data row0 col6\" >False</td>\n",
       "      <td id=\"T_fa6f2_row0_col7\" class=\"data row0 col7\" >False</td>\n",
       "      <td id=\"T_fa6f2_row0_col8\" class=\"data row0 col8\" >False</td>\n",
       "      <td id=\"T_fa6f2_row0_col9\" class=\"data row0 col9\" >False</td>\n",
       "      <td id=\"T_fa6f2_row0_col10\" class=\"data row0 col10\" >False</td>\n",
       "      <td id=\"T_fa6f2_row0_col11\" class=\"data row0 col11\" >False</td>\n",
       "      <td id=\"T_fa6f2_row0_col12\" class=\"data row0 col12\" >False</td>\n",
       "      <td id=\"T_fa6f2_row0_col13\" class=\"data row0 col13\" >False</td>\n",
       "      <td id=\"T_fa6f2_row0_col14\" class=\"data row0 col14\" >False</td>\n",
       "      <td id=\"T_fa6f2_row0_col15\" class=\"data row0 col15\" >False</td>\n",
       "      <td id=\"T_fa6f2_row0_col16\" class=\"data row0 col16\" >False</td>\n",
       "      <td id=\"T_fa6f2_row0_col17\" class=\"data row0 col17\" >False</td>\n",
       "      <td id=\"T_fa6f2_row0_col18\" class=\"data row0 col18\" >False</td>\n",
       "      <td id=\"T_fa6f2_row0_col19\" class=\"data row0 col19\" >False</td>\n",
       "    </tr>\n",
       "    <tr>\n",
       "      <th id=\"T_fa6f2_level0_row1\" class=\"row_heading level0 row1\" >pint</th>\n",
       "      <td id=\"T_fa6f2_row1_col0\" class=\"data row1 col0\" >False</td>\n",
       "      <td id=\"T_fa6f2_row1_col1\" class=\"data row1 col1\" >False</td>\n",
       "      <td id=\"T_fa6f2_row1_col2\" class=\"data row1 col2\" >True</td>\n",
       "      <td id=\"T_fa6f2_row1_col3\" class=\"data row1 col3\" >True</td>\n",
       "      <td id=\"T_fa6f2_row1_col4\" class=\"data row1 col4\" >False</td>\n",
       "      <td id=\"T_fa6f2_row1_col5\" class=\"data row1 col5\" >False</td>\n",
       "      <td id=\"T_fa6f2_row1_col6\" class=\"data row1 col6\" >True</td>\n",
       "      <td id=\"T_fa6f2_row1_col7\" class=\"data row1 col7\" >False</td>\n",
       "      <td id=\"T_fa6f2_row1_col8\" class=\"data row1 col8\" >True</td>\n",
       "      <td id=\"T_fa6f2_row1_col9\" class=\"data row1 col9\" >True</td>\n",
       "      <td id=\"T_fa6f2_row1_col10\" class=\"data row1 col10\" >False</td>\n",
       "      <td id=\"T_fa6f2_row1_col11\" class=\"data row1 col11\" >False</td>\n",
       "      <td id=\"T_fa6f2_row1_col12\" class=\"data row1 col12\" >False</td>\n",
       "      <td id=\"T_fa6f2_row1_col13\" class=\"data row1 col13\" >False</td>\n",
       "      <td id=\"T_fa6f2_row1_col14\" class=\"data row1 col14\" >False</td>\n",
       "      <td id=\"T_fa6f2_row1_col15\" class=\"data row1 col15\" >False</td>\n",
       "      <td id=\"T_fa6f2_row1_col16\" class=\"data row1 col16\" >False</td>\n",
       "      <td id=\"T_fa6f2_row1_col17\" class=\"data row1 col17\" >False</td>\n",
       "      <td id=\"T_fa6f2_row1_col18\" class=\"data row1 col18\" >False</td>\n",
       "      <td id=\"T_fa6f2_row1_col19\" class=\"data row1 col19\" >False</td>\n",
       "    </tr>\n",
       "    <tr>\n",
       "      <th id=\"T_fa6f2_level0_row2\" class=\"row_heading level0 row2\" >physipy</th>\n",
       "      <td id=\"T_fa6f2_row2_col0\" class=\"data row2 col0\" >False</td>\n",
       "      <td id=\"T_fa6f2_row2_col1\" class=\"data row2 col1\" >False</td>\n",
       "      <td id=\"T_fa6f2_row2_col2\" class=\"data row2 col2\" >True</td>\n",
       "      <td id=\"T_fa6f2_row2_col3\" class=\"data row2 col3\" >True</td>\n",
       "      <td id=\"T_fa6f2_row2_col4\" class=\"data row2 col4\" >False</td>\n",
       "      <td id=\"T_fa6f2_row2_col5\" class=\"data row2 col5\" >False</td>\n",
       "      <td id=\"T_fa6f2_row2_col6\" class=\"data row2 col6\" >False</td>\n",
       "      <td id=\"T_fa6f2_row2_col7\" class=\"data row2 col7\" >False</td>\n",
       "      <td id=\"T_fa6f2_row2_col8\" class=\"data row2 col8\" >False</td>\n",
       "      <td id=\"T_fa6f2_row2_col9\" class=\"data row2 col9\" >False</td>\n",
       "      <td id=\"T_fa6f2_row2_col10\" class=\"data row2 col10\" >False</td>\n",
       "      <td id=\"T_fa6f2_row2_col11\" class=\"data row2 col11\" >False</td>\n",
       "      <td id=\"T_fa6f2_row2_col12\" class=\"data row2 col12\" >False</td>\n",
       "      <td id=\"T_fa6f2_row2_col13\" class=\"data row2 col13\" >False</td>\n",
       "      <td id=\"T_fa6f2_row2_col14\" class=\"data row2 col14\" >False</td>\n",
       "      <td id=\"T_fa6f2_row2_col15\" class=\"data row2 col15\" >False</td>\n",
       "      <td id=\"T_fa6f2_row2_col16\" class=\"data row2 col16\" >False</td>\n",
       "      <td id=\"T_fa6f2_row2_col17\" class=\"data row2 col17\" >False</td>\n",
       "      <td id=\"T_fa6f2_row2_col18\" class=\"data row2 col18\" >False</td>\n",
       "      <td id=\"T_fa6f2_row2_col19\" class=\"data row2 col19\" >False</td>\n",
       "    </tr>\n",
       "  </tbody>\n",
       "</table>\n"
      ],
      "text/plain": [
       "<pandas.io.formats.style.Styler at 0x123036100>"
      ]
     },
     "metadata": {},
     "output_type": "display_data"
    },
    {
     "data": {
      "text/html": [
       "<h2>other_numpy</h3>"
      ],
      "text/plain": [
       "<IPython.core.display.HTML object>"
      ]
     },
     "metadata": {},
     "output_type": "display_data"
    },
    {
     "data": {
      "text/html": [
       "<style type=\"text/css\">\n",
       "#T_7decc_row0_col0, #T_7decc_row0_col1, #T_7decc_row0_col2, #T_7decc_row0_col3, #T_7decc_row0_col4, #T_7decc_row0_col5, #T_7decc_row0_col6, #T_7decc_row1_col0, #T_7decc_row1_col1, #T_7decc_row1_col2, #T_7decc_row1_col3, #T_7decc_row1_col4, #T_7decc_row1_col5, #T_7decc_row1_col6, #T_7decc_row2_col0, #T_7decc_row2_col1, #T_7decc_row2_col2, #T_7decc_row2_col3, #T_7decc_row2_col4, #T_7decc_row2_col5, #T_7decc_row2_col6 {\n",
       "  color: green;\n",
       "}\n",
       "</style>\n",
       "<table id=\"T_7decc_\">\n",
       "  <thead>\n",
       "    <tr>\n",
       "      <th class=\"blank level0\" >&nbsp;</th>\n",
       "      <th class=\"col_heading level0 col0\" >where</th>\n",
       "      <th class=\"col_heading level0 col1\" >sort</th>\n",
       "      <th class=\"col_heading level0 col2\" >argsort</th>\n",
       "      <th class=\"col_heading level0 col3\" >concatenate</th>\n",
       "      <th class=\"col_heading level0 col4\" >mean</th>\n",
       "      <th class=\"col_heading level0 col5\" >std</th>\n",
       "      <th class=\"col_heading level0 col6\" >median</th>\n",
       "    </tr>\n",
       "  </thead>\n",
       "  <tbody>\n",
       "    <tr>\n",
       "      <th id=\"T_7decc_level0_row0\" class=\"row_heading level0 row0\" >astropy.units</th>\n",
       "      <td id=\"T_7decc_row0_col0\" class=\"data row0 col0\" >True</td>\n",
       "      <td id=\"T_7decc_row0_col1\" class=\"data row0 col1\" >True</td>\n",
       "      <td id=\"T_7decc_row0_col2\" class=\"data row0 col2\" >True</td>\n",
       "      <td id=\"T_7decc_row0_col3\" class=\"data row0 col3\" >True</td>\n",
       "      <td id=\"T_7decc_row0_col4\" class=\"data row0 col4\" >True</td>\n",
       "      <td id=\"T_7decc_row0_col5\" class=\"data row0 col5\" >True</td>\n",
       "      <td id=\"T_7decc_row0_col6\" class=\"data row0 col6\" >True</td>\n",
       "    </tr>\n",
       "    <tr>\n",
       "      <th id=\"T_7decc_level0_row1\" class=\"row_heading level0 row1\" >pint</th>\n",
       "      <td id=\"T_7decc_row1_col0\" class=\"data row1 col0\" >True</td>\n",
       "      <td id=\"T_7decc_row1_col1\" class=\"data row1 col1\" >True</td>\n",
       "      <td id=\"T_7decc_row1_col2\" class=\"data row1 col2\" >True</td>\n",
       "      <td id=\"T_7decc_row1_col3\" class=\"data row1 col3\" >True</td>\n",
       "      <td id=\"T_7decc_row1_col4\" class=\"data row1 col4\" >True</td>\n",
       "      <td id=\"T_7decc_row1_col5\" class=\"data row1 col5\" >True</td>\n",
       "      <td id=\"T_7decc_row1_col6\" class=\"data row1 col6\" >True</td>\n",
       "    </tr>\n",
       "    <tr>\n",
       "      <th id=\"T_7decc_level0_row2\" class=\"row_heading level0 row2\" >physipy</th>\n",
       "      <td id=\"T_7decc_row2_col0\" class=\"data row2 col0\" >True</td>\n",
       "      <td id=\"T_7decc_row2_col1\" class=\"data row2 col1\" >True</td>\n",
       "      <td id=\"T_7decc_row2_col2\" class=\"data row2 col2\" >True</td>\n",
       "      <td id=\"T_7decc_row2_col3\" class=\"data row2 col3\" >True</td>\n",
       "      <td id=\"T_7decc_row2_col4\" class=\"data row2 col4\" >True</td>\n",
       "      <td id=\"T_7decc_row2_col5\" class=\"data row2 col5\" >True</td>\n",
       "      <td id=\"T_7decc_row2_col6\" class=\"data row2 col6\" >True</td>\n",
       "    </tr>\n",
       "  </tbody>\n",
       "</table>\n"
      ],
      "text/plain": [
       "<pandas.io.formats.style.Styler at 0x1230240d0>"
      ]
     },
     "metadata": {},
     "output_type": "display_data"
    }
   ],
   "source": [
    "for title, df in results[\"compatibility\"].items():\n",
    "    display(HTML(f'<h2>{title}</h3>'))\n",
    "    display(df)"
   ]
  },
  {
   "cell_type": "markdown",
   "metadata": {},
   "source": [
    "# Speed results"
   ]
  },
  {
   "cell_type": "markdown",
   "metadata": {},
   "source": [
    "A dict of dataframes."
   ]
  },
  {
   "cell_type": "code",
   "execution_count": 10,
   "metadata": {},
   "outputs": [
    {
     "data": {
      "text/html": [
       "<h2>mean</h3>"
      ],
      "text/plain": [
       "<IPython.core.display.HTML object>"
      ]
     },
     "metadata": {},
     "output_type": "display_data"
    },
    {
     "data": {
      "text/html": [
       "<div>\n",
       "<style scoped>\n",
       "    .dataframe tbody tr th:only-of-type {\n",
       "        vertical-align: middle;\n",
       "    }\n",
       "\n",
       "    .dataframe tbody tr th {\n",
       "        vertical-align: top;\n",
       "    }\n",
       "\n",
       "    .dataframe thead th {\n",
       "        text-align: right;\n",
       "    }\n",
       "</style>\n",
       "<table border=\"1\" class=\"dataframe\">\n",
       "  <thead>\n",
       "    <tr style=\"text-align: right;\">\n",
       "      <th></th>\n",
       "      <th>make</th>\n",
       "      <th>ops</th>\n",
       "      <th>ufunc</th>\n",
       "    </tr>\n",
       "  </thead>\n",
       "  <tbody>\n",
       "    <tr>\n",
       "      <th>astropy.units</th>\n",
       "      <td>0.061999</td>\n",
       "      <td>1.668866</td>\n",
       "      <td>3.035442</td>\n",
       "    </tr>\n",
       "    <tr>\n",
       "      <th>pint</th>\n",
       "      <td>0.266211</td>\n",
       "      <td>2.317909</td>\n",
       "      <td>6.419894</td>\n",
       "    </tr>\n",
       "    <tr>\n",
       "      <th>physipy</th>\n",
       "      <td>0.046583</td>\n",
       "      <td>1.049132</td>\n",
       "      <td>2.251646</td>\n",
       "    </tr>\n",
       "  </tbody>\n",
       "</table>\n",
       "</div>"
      ],
      "text/plain": [
       "                   make       ops     ufunc\n",
       "astropy.units  0.061999  1.668866  3.035442\n",
       "pint           0.266211  2.317909  6.419894\n",
       "physipy        0.046583  1.049132  2.251646"
      ]
     },
     "metadata": {},
     "output_type": "display_data"
    },
    {
     "data": {
      "text/html": [
       "<h2>std</h3>"
      ],
      "text/plain": [
       "<IPython.core.display.HTML object>"
      ]
     },
     "metadata": {},
     "output_type": "display_data"
    },
    {
     "data": {
      "text/html": [
       "<div>\n",
       "<style scoped>\n",
       "    .dataframe tbody tr th:only-of-type {\n",
       "        vertical-align: middle;\n",
       "    }\n",
       "\n",
       "    .dataframe tbody tr th {\n",
       "        vertical-align: top;\n",
       "    }\n",
       "\n",
       "    .dataframe thead th {\n",
       "        text-align: right;\n",
       "    }\n",
       "</style>\n",
       "<table border=\"1\" class=\"dataframe\">\n",
       "  <thead>\n",
       "    <tr style=\"text-align: right;\">\n",
       "      <th></th>\n",
       "      <th>make</th>\n",
       "      <th>ops</th>\n",
       "      <th>ufunc</th>\n",
       "    </tr>\n",
       "  </thead>\n",
       "  <tbody>\n",
       "    <tr>\n",
       "      <th>astropy.units</th>\n",
       "      <td>0.035252</td>\n",
       "      <td>0.796996</td>\n",
       "      <td>1.740432</td>\n",
       "    </tr>\n",
       "    <tr>\n",
       "      <th>pint</th>\n",
       "      <td>0.172779</td>\n",
       "      <td>0.939884</td>\n",
       "      <td>2.647396</td>\n",
       "    </tr>\n",
       "    <tr>\n",
       "      <th>physipy</th>\n",
       "      <td>0.034917</td>\n",
       "      <td>0.954818</td>\n",
       "      <td>1.876990</td>\n",
       "    </tr>\n",
       "  </tbody>\n",
       "</table>\n",
       "</div>"
      ],
      "text/plain": [
       "                   make       ops     ufunc\n",
       "astropy.units  0.035252  0.796996  1.740432\n",
       "pint           0.172779  0.939884  2.647396\n",
       "physipy        0.034917  0.954818  1.876990"
      ]
     },
     "metadata": {},
     "output_type": "display_data"
    },
    {
     "data": {
      "text/html": [
       "<h2>np_rel</h3>"
      ],
      "text/plain": [
       "<IPython.core.display.HTML object>"
      ]
     },
     "metadata": {},
     "output_type": "display_data"
    },
    {
     "data": {
      "text/html": [
       "<div>\n",
       "<style scoped>\n",
       "    .dataframe tbody tr th:only-of-type {\n",
       "        vertical-align: middle;\n",
       "    }\n",
       "\n",
       "    .dataframe tbody tr th {\n",
       "        vertical-align: top;\n",
       "    }\n",
       "\n",
       "    .dataframe thead th {\n",
       "        text-align: right;\n",
       "    }\n",
       "</style>\n",
       "<table border=\"1\" class=\"dataframe\">\n",
       "  <thead>\n",
       "    <tr style=\"text-align: right;\">\n",
       "      <th></th>\n",
       "      <th>make</th>\n",
       "      <th>ops</th>\n",
       "      <th>ufunc</th>\n",
       "    </tr>\n",
       "  </thead>\n",
       "  <tbody>\n",
       "    <tr>\n",
       "      <th>astropy.units</th>\n",
       "      <td>0.985311</td>\n",
       "      <td>2.293439</td>\n",
       "      <td>2.085922</td>\n",
       "    </tr>\n",
       "    <tr>\n",
       "      <th>pint</th>\n",
       "      <td>1.013277</td>\n",
       "      <td>3.062461</td>\n",
       "      <td>2.996046</td>\n",
       "    </tr>\n",
       "    <tr>\n",
       "      <th>physipy</th>\n",
       "      <td>0.972323</td>\n",
       "      <td>1.450194</td>\n",
       "      <td>1.537050</td>\n",
       "    </tr>\n",
       "  </tbody>\n",
       "</table>\n",
       "</div>"
      ],
      "text/plain": [
       "                   make       ops     ufunc\n",
       "astropy.units  0.985311  2.293439  2.085922\n",
       "pint           1.013277  3.062461  2.996046\n",
       "physipy        0.972323  1.450194  1.537050"
      ]
     },
     "metadata": {},
     "output_type": "display_data"
    }
   ],
   "source": [
    "for title, df in results[\"speed\"].items():\n",
    "    display(HTML(f'<h2>{title}</h3>'))\n",
    "    display(df)"
   ]
  },
  {
   "cell_type": "code",
   "execution_count": 11,
   "metadata": {
    "collapsed": false,
    "jupyter": {
     "outputs_hidden": false
    }
   },
   "outputs": [
    {
     "data": {
      "text/plain": [
       "<AxesSubplot:>"
      ]
     },
     "execution_count": 11,
     "metadata": {},
     "output_type": "execute_result"
    },
    {
     "data": {
      "image/png": "[encoded data removed]",
      "text/plain": [
       "<Figure size 432x288 with 1 Axes>"
      ]
     },
     "metadata": {
      "needs_background": "light"
     },
     "output_type": "display_data"
    }
   ],
   "source": [
    "results['speed']['mean'].sort_index(ascending=False).plot(kind='bar', yerr=results['speed']['std'].sort_index(ascending=False))"
   ]
  },
  {
   "cell_type": "code",
   "execution_count": 12,
   "metadata": {
    "collapsed": false,
    "jupyter": {
     "outputs_hidden": false
    }
   },
   "outputs": [
    {
     "data": {
      "text/plain": [
       "<AxesSubplot:>"
      ]
     },
     "execution_count": 12,
     "metadata": {},
     "output_type": "execute_result"
    },
    {
     "data": {
      "image/png": "[encoded data removed]",
      "text/plain": [
       "<Figure size 432x288 with 1 Axes>"
      ]
     },
     "metadata": {
      "needs_background": "light"
     },
     "output_type": "display_data"
    }
   ],
   "source": [
    "results['speed']['np_rel'].sort_index(ascending=False).plot(kind='barh')"
   ]
  },
  {
   "cell_type": "code",
   "execution_count": null,
   "metadata": {},
   "outputs": [],
   "source": []
  },
  {
   "cell_type": "code",
   "execution_count": null,
   "metadata": {},
   "outputs": [],
   "source": []
  }
 ],
 "metadata": {
  "kernelspec": {
   "display_name": "Python 3 (ipykernel)",
   "language": "python",
   "name": "python3"
  },
  "language_info": {
   "codemirror_mode": {
    "name": "ipython",
    "version": 3
   },
   "file_extension": ".py",
   "mimetype": "text/x-python",
   "name": "python",
   "nbconvert_exporter": "python",
   "pygments_lexer": "ipython3",
   "version": "3.9.7"
  }
 },
 "nbformat": 4,
 "nbformat_minor": 4
}
