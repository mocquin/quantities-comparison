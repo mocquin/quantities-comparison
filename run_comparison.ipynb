{
 "cells": [
  {
   "cell_type": "code",
   "execution_count": 1,
   "metadata": {},
   "outputs": [],
   "source": [
    "import sys\n",
    "sys.path.append(r\"/Users/mocquin/MYLIB10/MODULES/quantities-comparison/\")"
   ]
  },
  {
   "cell_type": "code",
   "execution_count": 2,
   "metadata": {
    "collapsed": false,
    "jupyter": {
     "outputs_hidden": false
    }
   },
   "outputs": [],
   "source": [
    "%matplotlib inline"
   ]
  },
  {
   "cell_type": "code",
   "execution_count": 3,
   "metadata": {},
   "outputs": [],
   "source": [
    "from benchmarks.base import BenchNumpy"
   ]
  },
  {
   "cell_type": "markdown",
   "metadata": {},
   "source": [
    "# Bench Numpy"
   ]
  },
  {
   "cell_type": "code",
   "execution_count": 4,
   "metadata": {},
   "outputs": [],
   "source": [
    "bn = BenchNumpy()"
   ]
  },
  {
   "cell_type": "code",
   "execution_count": 5,
   "metadata": {},
   "outputs": [
    {
     "name": "stdout",
     "output_type": "stream",
     "text": [
      "[<built-in function abs>, <built-in function neg>, <built-in function pos>]\n",
      "[<built-in function add>, <built-in function sub>, <built-in function mul>, <built-in function floordiv>, <built-in function floordiv>, <built-in function truediv>, <built-in function mod>, <built-in function pow>, <built-in function lt>, <built-in function le>, <built-in function eq>, <built-in function ne>, <built-in function ge>, <built-in function gt>]\n"
     ]
    }
   ],
   "source": [
    "print(bn.unary_ops)\n",
    "print(bn.binary_ops)"
   ]
  },
  {
   "cell_type": "code",
   "execution_count": 4,
   "metadata": {
    "collapsed": false,
    "jupyter": {
     "outputs_hidden": false
    }
   },
   "outputs": [
    {
     "name": "stdout",
     "output_type": "stream",
     "text": [
      "BenchAstropy\n",
      "BenchPint\n",
      "BenchPhysipy\n",
      "BenchForallpeople\n"
     ]
    }
   ],
   "source": [
    "import run_comparison\n",
    "results = run_comparison.get_pandas()"
   ]
  },
  {
   "cell_type": "code",
   "execution_count": 5,
   "metadata": {
    "collapsed": false,
    "jupyter": {
     "outputs_hidden": false
    }
   },
   "outputs": [
    {
     "data": {
      "text/html": [
       "<div><div id=45ec4be1-53ae-47a6-9c62-296825c74a0f style=\"display:none; background-color:#9D6CFF; color:white; width:200px; height:30px; padding-left:5px; border-radius:4px; flex-direction:row; justify-content:space-around; align-items:center;\" onmouseover=\"this.style.backgroundColor='#BA9BF8'\" onmouseout=\"this.style.backgroundColor='#9D6CFF'\" onclick=\"window.commands?.execute('create-mitosheet-from-dataframe-output');\">See Full Dataframe in Mito</div> <script> if (window.commands.hasCommand('create-mitosheet-from-dataframe-output')) document.getElementById('45ec4be1-53ae-47a6-9c62-296825c74a0f').style.display = 'flex' </script> <table border=\"1\" class=\"dataframe\">\n",
       "  <thead>\n",
       "    <tr style=\"text-align: right;\">\n",
       "      <th></th>\n",
       "      <th>LOC</th>\n",
       "      <th>First release</th>\n",
       "      <th>Most recent release</th>\n",
       "      <th>Implementation</th>\n",
       "      <th>URL</th>\n",
       "      <th>PyPI</th>\n",
       "    </tr>\n",
       "  </thead>\n",
       "  <tbody>\n",
       "    <tr>\n",
       "      <th>astropy.units</th>\n",
       "      <td>3448</td>\n",
       "      <td>2013-01</td>\n",
       "      <td>2013-05</td>\n",
       "      <td>Container</td>\n",
       "      <td>https://astropy.readthedocs.org/en/latest/units/index.html</td>\n",
       "      <td>astropy</td>\n",
       "    </tr>\n",
       "    <tr>\n",
       "      <th>pint</th>\n",
       "      <td>2914</td>\n",
       "      <td>2012-07</td>\n",
       "      <td>2014-02</td>\n",
       "      <td>Container</td>\n",
       "      <td>https://pint.readthedocs.org/en/latest/</td>\n",
       "      <td>pint</td>\n",
       "    </tr>\n",
       "    <tr>\n",
       "      <th>physipy</th>\n",
       "      <td>0</td>\n",
       "      <td>20XX-XX</td>\n",
       "      <td>20XX-XX</td>\n",
       "      <td>Container?</td>\n",
       "      <td></td>\n",
       "      <td>physipy</td>\n",
       "    </tr>\n",
       "    <tr>\n",
       "      <th>forallpeople</th>\n",
       "      <td>0</td>\n",
       "      <td>20XX-XX</td>\n",
       "      <td>20XX-XX</td>\n",
       "      <td>Container?</td>\n",
       "      <td></td>\n",
       "      <td>forallpeople</td>\n",
       "    </tr>\n",
       "  </tbody>\n",
       "</table></div>"
      ],
      "text/plain": [
       "                LOC First release Most recent release Implementation  \\\n",
       "astropy.units  3448       2013-01             2013-05      Container   \n",
       "pint           2914       2012-07             2014-02      Container   \n",
       "physipy           0       20XX-XX             20XX-XX     Container?   \n",
       "forallpeople      0       20XX-XX             20XX-XX     Container?   \n",
       "\n",
       "                                                             URL          PyPI  \n",
       "astropy.units  https://astropy.readthedocs.org/en/latest/unit...       astropy  \n",
       "pint                     https://pint.readthedocs.org/en/latest/          pint  \n",
       "physipy                                                                physipy  \n",
       "forallpeople                                                      forallpeople  "
      ]
     },
     "execution_count": 5,
     "metadata": {},
     "output_type": "execute_result"
    }
   ],
   "source": [
    "results['facts']"
   ]
  },
  {
   "cell_type": "code",
   "execution_count": 6,
   "metadata": {
    "collapsed": false,
    "jupyter": {
     "outputs_hidden": false
    }
   },
   "outputs": [
    {
     "data": {
      "text/html": [
       "<div><div id=ca56c3f9-bdb9-4f9b-92ad-3df0079bc150 style=\"display:none; background-color:#9D6CFF; color:white; width:200px; height:30px; padding-left:5px; border-radius:4px; flex-direction:row; justify-content:space-around; align-items:center;\" onmouseover=\"this.style.backgroundColor='#BA9BF8'\" onmouseout=\"this.style.backgroundColor='#9D6CFF'\" onclick=\"window.commands?.execute('create-mitosheet-from-dataframe-output');\">See Full Dataframe in Mito</div> <script> if (window.commands.hasCommand('create-mitosheet-from-dataframe-output')) document.getElementById('ca56c3f9-bdb9-4f9b-92ad-3df0079bc150').style.display = 'flex' </script> <table border=\"1\" class=\"dataframe\">\n",
       "  <thead>\n",
       "    <tr style=\"text-align: right;\">\n",
       "      <th></th>\n",
       "      <th>make</th>\n",
       "      <th>print</th>\n",
       "    </tr>\n",
       "  </thead>\n",
       "  <tbody>\n",
       "    <tr>\n",
       "      <th>astropy.units</th>\n",
       "      <td>multiply</td>\n",
       "      <td>5.0 m</td>\n",
       "    </tr>\n",
       "    <tr>\n",
       "      <th>pint</th>\n",
       "      <td>multiply</td>\n",
       "      <td>5.0 meter</td>\n",
       "    </tr>\n",
       "    <tr>\n",
       "      <th>physipy</th>\n",
       "      <td>multiply</td>\n",
       "      <td>5.0 m</td>\n",
       "    </tr>\n",
       "    <tr>\n",
       "      <th>forallpeople</th>\n",
       "      <td>multiply</td>\n",
       "      <td>5.000 m</td>\n",
       "    </tr>\n",
       "  </tbody>\n",
       "</table></div>"
      ],
      "text/plain": [
       "                   make      print\n",
       "astropy.units  multiply      5.0 m\n",
       "pint           multiply  5.0 meter\n",
       "physipy        multiply      5.0 m\n",
       "forallpeople   multiply    5.000 m"
      ]
     },
     "execution_count": 6,
     "metadata": {},
     "output_type": "execute_result"
    }
   ],
   "source": [
    "results['syntax']"
   ]
  },
  {
   "cell_type": "code",
   "execution_count": 7,
   "metadata": {
    "collapsed": false,
    "jupyter": {
     "outputs_hidden": false
    }
   },
   "outputs": [
    {
     "data": {
      "text/html": [
       "<style type=\"text/css\">\n",
       "#T_7944a_row0_col0, #T_7944a_row0_col1, #T_7944a_row1_col0, #T_7944a_row1_col1, #T_7944a_row2_col0, #T_7944a_row2_col1 {\n",
       "  color: green;\n",
       "}\n",
       "#T_7944a_row3_col0, #T_7944a_row3_col1 {\n",
       "  color: red;\n",
       "}\n",
       "</style>\n",
       "<table id=\"T_7944a_\">\n",
       "  <thead>\n",
       "    <tr>\n",
       "      <th class=\"blank level0\" >&nbsp;</th>\n",
       "      <th class=\"col_heading level0 col0\" >print</th>\n",
       "      <th class=\"col_heading level0 col1\" >shape</th>\n",
       "    </tr>\n",
       "  </thead>\n",
       "  <tbody>\n",
       "    <tr>\n",
       "      <th id=\"T_7944a_level0_row0\" class=\"row_heading level0 row0\" >astropy.units</th>\n",
       "      <td id=\"T_7944a_row0_col0\" class=\"data row0 col0\" >[ 5. 10.] m</td>\n",
       "      <td id=\"T_7944a_row0_col1\" class=\"data row0 col1\" >(2,)</td>\n",
       "    </tr>\n",
       "    <tr>\n",
       "      <th id=\"T_7944a_level0_row1\" class=\"row_heading level0 row1\" >pint</th>\n",
       "      <td id=\"T_7944a_row1_col0\" class=\"data row1 col0\" >[5.0 10.0] meter</td>\n",
       "      <td id=\"T_7944a_row1_col1\" class=\"data row1 col1\" >(2,)</td>\n",
       "    </tr>\n",
       "    <tr>\n",
       "      <th id=\"T_7944a_level0_row2\" class=\"row_heading level0 row2\" >physipy</th>\n",
       "      <td id=\"T_7944a_row2_col0\" class=\"data row2 col0\" >[ 5. 10.] m</td>\n",
       "      <td id=\"T_7944a_row2_col1\" class=\"data row2 col1\" >(2,)</td>\n",
       "    </tr>\n",
       "    <tr>\n",
       "      <th id=\"T_7944a_level0_row3\" class=\"row_heading level0 row3\" >forallpeople</th>\n",
       "      <td id=\"T_7944a_row3_col0\" class=\"data row3 col0\" >False</td>\n",
       "      <td id=\"T_7944a_row3_col1\" class=\"data row3 col1\" >False</td>\n",
       "    </tr>\n",
       "  </tbody>\n",
       "</table>\n"
      ],
      "text/plain": [
       "<pandas.io.formats.style.Styler at 0x1210a23d0>"
      ]
     },
     "execution_count": 7,
     "metadata": {},
     "output_type": "execute_result"
    }
   ],
   "source": [
    "results['compatibility']['syntax']"
   ]
  },
  {
   "cell_type": "code",
   "execution_count": 8,
   "metadata": {
    "collapsed": false,
    "jupyter": {
     "outputs_hidden": false
    }
   },
   "outputs": [
    {
     "data": {
      "text/html": [
       "<style type=\"text/css\">\n",
       "#T_b5b5c_row0_col0, #T_b5b5c_row0_col1, #T_b5b5c_row0_col2, #T_b5b5c_row1_col0, #T_b5b5c_row1_col1, #T_b5b5c_row1_col2, #T_b5b5c_row2_col0, #T_b5b5c_row2_col1, #T_b5b5c_row2_col2, #T_b5b5c_row3_col0, #T_b5b5c_row3_col1, #T_b5b5c_row3_col2 {\n",
       "  color: green;\n",
       "}\n",
       "</style>\n",
       "<table id=\"T_b5b5c_\">\n",
       "  <thead>\n",
       "    <tr>\n",
       "      <th class=\"blank level0\" >&nbsp;</th>\n",
       "      <th class=\"col_heading level0 col0\" >abs</th>\n",
       "      <th class=\"col_heading level0 col1\" >neg</th>\n",
       "      <th class=\"col_heading level0 col2\" >pos</th>\n",
       "    </tr>\n",
       "  </thead>\n",
       "  <tbody>\n",
       "    <tr>\n",
       "      <th id=\"T_b5b5c_level0_row0\" class=\"row_heading level0 row0\" >astropy.units</th>\n",
       "      <td id=\"T_b5b5c_row0_col0\" class=\"data row0 col0\" >True</td>\n",
       "      <td id=\"T_b5b5c_row0_col1\" class=\"data row0 col1\" >True</td>\n",
       "      <td id=\"T_b5b5c_row0_col2\" class=\"data row0 col2\" >True</td>\n",
       "    </tr>\n",
       "    <tr>\n",
       "      <th id=\"T_b5b5c_level0_row1\" class=\"row_heading level0 row1\" >pint</th>\n",
       "      <td id=\"T_b5b5c_row1_col0\" class=\"data row1 col0\" >True</td>\n",
       "      <td id=\"T_b5b5c_row1_col1\" class=\"data row1 col1\" >True</td>\n",
       "      <td id=\"T_b5b5c_row1_col2\" class=\"data row1 col2\" >True</td>\n",
       "    </tr>\n",
       "    <tr>\n",
       "      <th id=\"T_b5b5c_level0_row2\" class=\"row_heading level0 row2\" >physipy</th>\n",
       "      <td id=\"T_b5b5c_row2_col0\" class=\"data row2 col0\" >True</td>\n",
       "      <td id=\"T_b5b5c_row2_col1\" class=\"data row2 col1\" >True</td>\n",
       "      <td id=\"T_b5b5c_row2_col2\" class=\"data row2 col2\" >True</td>\n",
       "    </tr>\n",
       "    <tr>\n",
       "      <th id=\"T_b5b5c_level0_row3\" class=\"row_heading level0 row3\" >forallpeople</th>\n",
       "      <td id=\"T_b5b5c_row3_col0\" class=\"data row3 col0\" >True</td>\n",
       "      <td id=\"T_b5b5c_row3_col1\" class=\"data row3 col1\" >True</td>\n",
       "      <td id=\"T_b5b5c_row3_col2\" class=\"data row3 col2\" >True</td>\n",
       "    </tr>\n",
       "  </tbody>\n",
       "</table>\n"
      ],
      "text/plain": [
       "<pandas.io.formats.style.Styler at 0x12133ac40>"
      ]
     },
     "execution_count": 8,
     "metadata": {},
     "output_type": "execute_result"
    }
   ],
   "source": [
    "results['compatibility']['unary_ops']"
   ]
  },
  {
   "cell_type": "code",
   "execution_count": 9,
   "metadata": {
    "collapsed": false,
    "jupyter": {
     "outputs_hidden": false
    }
   },
   "outputs": [
    {
     "data": {
      "text/html": [
       "<style type=\"text/css\">\n",
       "#T_69363_row0_col0, #T_69363_row0_col1, #T_69363_row0_col2, #T_69363_row0_col3, #T_69363_row0_col4, #T_69363_row0_col5, #T_69363_row0_col7, #T_69363_row0_col8, #T_69363_row0_col9, #T_69363_row0_col10, #T_69363_row0_col11, #T_69363_row0_col12, #T_69363_row1_col0, #T_69363_row1_col1, #T_69363_row1_col2, #T_69363_row1_col3, #T_69363_row1_col4, #T_69363_row1_col5, #T_69363_row1_col7, #T_69363_row1_col8, #T_69363_row1_col9, #T_69363_row1_col10, #T_69363_row1_col11, #T_69363_row1_col12, #T_69363_row2_col0, #T_69363_row2_col1, #T_69363_row2_col2, #T_69363_row2_col3, #T_69363_row2_col4, #T_69363_row2_col5, #T_69363_row2_col7, #T_69363_row2_col8, #T_69363_row2_col9, #T_69363_row2_col10, #T_69363_row2_col11, #T_69363_row2_col12, #T_69363_row3_col0, #T_69363_row3_col1, #T_69363_row3_col2, #T_69363_row3_col4, #T_69363_row3_col7, #T_69363_row3_col8, #T_69363_row3_col9, #T_69363_row3_col10, #T_69363_row3_col11, #T_69363_row3_col12 {\n",
       "  color: green;\n",
       "}\n",
       "#T_69363_row0_col6, #T_69363_row1_col6, #T_69363_row2_col6, #T_69363_row3_col3, #T_69363_row3_col5, #T_69363_row3_col6 {\n",
       "  color: red;\n",
       "}\n",
       "</style>\n",
       "<table id=\"T_69363_\">\n",
       "  <thead>\n",
       "    <tr>\n",
       "      <th class=\"blank level0\" >&nbsp;</th>\n",
       "      <th class=\"col_heading level0 col0\" >add</th>\n",
       "      <th class=\"col_heading level0 col1\" >sub</th>\n",
       "      <th class=\"col_heading level0 col2\" >mul</th>\n",
       "      <th class=\"col_heading level0 col3\" >floordiv</th>\n",
       "      <th class=\"col_heading level0 col4\" >truediv</th>\n",
       "      <th class=\"col_heading level0 col5\" >mod</th>\n",
       "      <th class=\"col_heading level0 col6\" >pow</th>\n",
       "      <th class=\"col_heading level0 col7\" >lt</th>\n",
       "      <th class=\"col_heading level0 col8\" >le</th>\n",
       "      <th class=\"col_heading level0 col9\" >eq</th>\n",
       "      <th class=\"col_heading level0 col10\" >ne</th>\n",
       "      <th class=\"col_heading level0 col11\" >ge</th>\n",
       "      <th class=\"col_heading level0 col12\" >gt</th>\n",
       "    </tr>\n",
       "  </thead>\n",
       "  <tbody>\n",
       "    <tr>\n",
       "      <th id=\"T_69363_level0_row0\" class=\"row_heading level0 row0\" >astropy.units</th>\n",
       "      <td id=\"T_69363_row0_col0\" class=\"data row0 col0\" >True</td>\n",
       "      <td id=\"T_69363_row0_col1\" class=\"data row0 col1\" >True</td>\n",
       "      <td id=\"T_69363_row0_col2\" class=\"data row0 col2\" >True</td>\n",
       "      <td id=\"T_69363_row0_col3\" class=\"data row0 col3\" >True</td>\n",
       "      <td id=\"T_69363_row0_col4\" class=\"data row0 col4\" >True</td>\n",
       "      <td id=\"T_69363_row0_col5\" class=\"data row0 col5\" >True</td>\n",
       "      <td id=\"T_69363_row0_col6\" class=\"data row0 col6\" >False</td>\n",
       "      <td id=\"T_69363_row0_col7\" class=\"data row0 col7\" >True</td>\n",
       "      <td id=\"T_69363_row0_col8\" class=\"data row0 col8\" >True</td>\n",
       "      <td id=\"T_69363_row0_col9\" class=\"data row0 col9\" >True</td>\n",
       "      <td id=\"T_69363_row0_col10\" class=\"data row0 col10\" >True</td>\n",
       "      <td id=\"T_69363_row0_col11\" class=\"data row0 col11\" >True</td>\n",
       "      <td id=\"T_69363_row0_col12\" class=\"data row0 col12\" >True</td>\n",
       "    </tr>\n",
       "    <tr>\n",
       "      <th id=\"T_69363_level0_row1\" class=\"row_heading level0 row1\" >pint</th>\n",
       "      <td id=\"T_69363_row1_col0\" class=\"data row1 col0\" >True</td>\n",
       "      <td id=\"T_69363_row1_col1\" class=\"data row1 col1\" >True</td>\n",
       "      <td id=\"T_69363_row1_col2\" class=\"data row1 col2\" >True</td>\n",
       "      <td id=\"T_69363_row1_col3\" class=\"data row1 col3\" >True</td>\n",
       "      <td id=\"T_69363_row1_col4\" class=\"data row1 col4\" >True</td>\n",
       "      <td id=\"T_69363_row1_col5\" class=\"data row1 col5\" >True</td>\n",
       "      <td id=\"T_69363_row1_col6\" class=\"data row1 col6\" >False</td>\n",
       "      <td id=\"T_69363_row1_col7\" class=\"data row1 col7\" >True</td>\n",
       "      <td id=\"T_69363_row1_col8\" class=\"data row1 col8\" >True</td>\n",
       "      <td id=\"T_69363_row1_col9\" class=\"data row1 col9\" >True</td>\n",
       "      <td id=\"T_69363_row1_col10\" class=\"data row1 col10\" >True</td>\n",
       "      <td id=\"T_69363_row1_col11\" class=\"data row1 col11\" >True</td>\n",
       "      <td id=\"T_69363_row1_col12\" class=\"data row1 col12\" >True</td>\n",
       "    </tr>\n",
       "    <tr>\n",
       "      <th id=\"T_69363_level0_row2\" class=\"row_heading level0 row2\" >physipy</th>\n",
       "      <td id=\"T_69363_row2_col0\" class=\"data row2 col0\" >True</td>\n",
       "      <td id=\"T_69363_row2_col1\" class=\"data row2 col1\" >True</td>\n",
       "      <td id=\"T_69363_row2_col2\" class=\"data row2 col2\" >True</td>\n",
       "      <td id=\"T_69363_row2_col3\" class=\"data row2 col3\" >True</td>\n",
       "      <td id=\"T_69363_row2_col4\" class=\"data row2 col4\" >True</td>\n",
       "      <td id=\"T_69363_row2_col5\" class=\"data row2 col5\" >True</td>\n",
       "      <td id=\"T_69363_row2_col6\" class=\"data row2 col6\" >False</td>\n",
       "      <td id=\"T_69363_row2_col7\" class=\"data row2 col7\" >True</td>\n",
       "      <td id=\"T_69363_row2_col8\" class=\"data row2 col8\" >True</td>\n",
       "      <td id=\"T_69363_row2_col9\" class=\"data row2 col9\" >True</td>\n",
       "      <td id=\"T_69363_row2_col10\" class=\"data row2 col10\" >True</td>\n",
       "      <td id=\"T_69363_row2_col11\" class=\"data row2 col11\" >True</td>\n",
       "      <td id=\"T_69363_row2_col12\" class=\"data row2 col12\" >True</td>\n",
       "    </tr>\n",
       "    <tr>\n",
       "      <th id=\"T_69363_level0_row3\" class=\"row_heading level0 row3\" >forallpeople</th>\n",
       "      <td id=\"T_69363_row3_col0\" class=\"data row3 col0\" >True</td>\n",
       "      <td id=\"T_69363_row3_col1\" class=\"data row3 col1\" >True</td>\n",
       "      <td id=\"T_69363_row3_col2\" class=\"data row3 col2\" >True</td>\n",
       "      <td id=\"T_69363_row3_col3\" class=\"data row3 col3\" >False</td>\n",
       "      <td id=\"T_69363_row3_col4\" class=\"data row3 col4\" >True</td>\n",
       "      <td id=\"T_69363_row3_col5\" class=\"data row3 col5\" >False</td>\n",
       "      <td id=\"T_69363_row3_col6\" class=\"data row3 col6\" >False</td>\n",
       "      <td id=\"T_69363_row3_col7\" class=\"data row3 col7\" >True</td>\n",
       "      <td id=\"T_69363_row3_col8\" class=\"data row3 col8\" >True</td>\n",
       "      <td id=\"T_69363_row3_col9\" class=\"data row3 col9\" >True</td>\n",
       "      <td id=\"T_69363_row3_col10\" class=\"data row3 col10\" >True</td>\n",
       "      <td id=\"T_69363_row3_col11\" class=\"data row3 col11\" >True</td>\n",
       "      <td id=\"T_69363_row3_col12\" class=\"data row3 col12\" >True</td>\n",
       "    </tr>\n",
       "  </tbody>\n",
       "</table>\n"
      ],
      "text/plain": [
       "<pandas.io.formats.style.Styler at 0x120fdd6a0>"
      ]
     },
     "execution_count": 9,
     "metadata": {},
     "output_type": "execute_result"
    }
   ],
   "source": [
    "results['compatibility']['binary_same_ops']"
   ]
  },
  {
   "cell_type": "code",
   "execution_count": 10,
   "metadata": {
    "collapsed": false,
    "jupyter": {
     "outputs_hidden": false
    }
   },
   "outputs": [
    {
     "data": {
      "text/html": [
       "<style type=\"text/css\">\n",
       "#T_1722d_row0_col0, #T_1722d_row0_col1, #T_1722d_row0_col2, #T_1722d_row0_col3, #T_1722d_row0_col4, #T_1722d_row0_col5, #T_1722d_row0_col7, #T_1722d_row0_col8, #T_1722d_row0_col9, #T_1722d_row0_col10, #T_1722d_row0_col11, #T_1722d_row0_col12, #T_1722d_row1_col0, #T_1722d_row1_col1, #T_1722d_row1_col2, #T_1722d_row1_col3, #T_1722d_row1_col4, #T_1722d_row1_col5, #T_1722d_row1_col7, #T_1722d_row1_col8, #T_1722d_row1_col9, #T_1722d_row1_col10, #T_1722d_row1_col11, #T_1722d_row1_col12, #T_1722d_row2_col0, #T_1722d_row2_col1, #T_1722d_row2_col2, #T_1722d_row2_col3, #T_1722d_row2_col4, #T_1722d_row2_col5, #T_1722d_row2_col7, #T_1722d_row2_col8, #T_1722d_row2_col9, #T_1722d_row2_col10, #T_1722d_row2_col11, #T_1722d_row2_col12, #T_1722d_row3_col0, #T_1722d_row3_col1, #T_1722d_row3_col2, #T_1722d_row3_col4, #T_1722d_row3_col7, #T_1722d_row3_col8, #T_1722d_row3_col9, #T_1722d_row3_col10, #T_1722d_row3_col11, #T_1722d_row3_col12 {\n",
       "  color: green;\n",
       "}\n",
       "#T_1722d_row0_col6, #T_1722d_row1_col6, #T_1722d_row2_col6, #T_1722d_row3_col3, #T_1722d_row3_col5, #T_1722d_row3_col6 {\n",
       "  color: red;\n",
       "}\n",
       "</style>\n",
       "<table id=\"T_1722d_\">\n",
       "  <thead>\n",
       "    <tr>\n",
       "      <th class=\"blank level0\" >&nbsp;</th>\n",
       "      <th class=\"col_heading level0 col0\" >add</th>\n",
       "      <th class=\"col_heading level0 col1\" >sub</th>\n",
       "      <th class=\"col_heading level0 col2\" >mul</th>\n",
       "      <th class=\"col_heading level0 col3\" >floordiv</th>\n",
       "      <th class=\"col_heading level0 col4\" >truediv</th>\n",
       "      <th class=\"col_heading level0 col5\" >mod</th>\n",
       "      <th class=\"col_heading level0 col6\" >pow</th>\n",
       "      <th class=\"col_heading level0 col7\" >lt</th>\n",
       "      <th class=\"col_heading level0 col8\" >le</th>\n",
       "      <th class=\"col_heading level0 col9\" >eq</th>\n",
       "      <th class=\"col_heading level0 col10\" >ne</th>\n",
       "      <th class=\"col_heading level0 col11\" >ge</th>\n",
       "      <th class=\"col_heading level0 col12\" >gt</th>\n",
       "    </tr>\n",
       "  </thead>\n",
       "  <tbody>\n",
       "    <tr>\n",
       "      <th id=\"T_1722d_level0_row0\" class=\"row_heading level0 row0\" >astropy.units</th>\n",
       "      <td id=\"T_1722d_row0_col0\" class=\"data row0 col0\" >True</td>\n",
       "      <td id=\"T_1722d_row0_col1\" class=\"data row0 col1\" >True</td>\n",
       "      <td id=\"T_1722d_row0_col2\" class=\"data row0 col2\" >True</td>\n",
       "      <td id=\"T_1722d_row0_col3\" class=\"data row0 col3\" >True</td>\n",
       "      <td id=\"T_1722d_row0_col4\" class=\"data row0 col4\" >True</td>\n",
       "      <td id=\"T_1722d_row0_col5\" class=\"data row0 col5\" >True</td>\n",
       "      <td id=\"T_1722d_row0_col6\" class=\"data row0 col6\" >False</td>\n",
       "      <td id=\"T_1722d_row0_col7\" class=\"data row0 col7\" >True</td>\n",
       "      <td id=\"T_1722d_row0_col8\" class=\"data row0 col8\" >True</td>\n",
       "      <td id=\"T_1722d_row0_col9\" class=\"data row0 col9\" >True</td>\n",
       "      <td id=\"T_1722d_row0_col10\" class=\"data row0 col10\" >True</td>\n",
       "      <td id=\"T_1722d_row0_col11\" class=\"data row0 col11\" >True</td>\n",
       "      <td id=\"T_1722d_row0_col12\" class=\"data row0 col12\" >True</td>\n",
       "    </tr>\n",
       "    <tr>\n",
       "      <th id=\"T_1722d_level0_row1\" class=\"row_heading level0 row1\" >pint</th>\n",
       "      <td id=\"T_1722d_row1_col0\" class=\"data row1 col0\" >True</td>\n",
       "      <td id=\"T_1722d_row1_col1\" class=\"data row1 col1\" >True</td>\n",
       "      <td id=\"T_1722d_row1_col2\" class=\"data row1 col2\" >True</td>\n",
       "      <td id=\"T_1722d_row1_col3\" class=\"data row1 col3\" >True</td>\n",
       "      <td id=\"T_1722d_row1_col4\" class=\"data row1 col4\" >True</td>\n",
       "      <td id=\"T_1722d_row1_col5\" class=\"data row1 col5\" >True</td>\n",
       "      <td id=\"T_1722d_row1_col6\" class=\"data row1 col6\" >False</td>\n",
       "      <td id=\"T_1722d_row1_col7\" class=\"data row1 col7\" >True</td>\n",
       "      <td id=\"T_1722d_row1_col8\" class=\"data row1 col8\" >True</td>\n",
       "      <td id=\"T_1722d_row1_col9\" class=\"data row1 col9\" >True</td>\n",
       "      <td id=\"T_1722d_row1_col10\" class=\"data row1 col10\" >True</td>\n",
       "      <td id=\"T_1722d_row1_col11\" class=\"data row1 col11\" >True</td>\n",
       "      <td id=\"T_1722d_row1_col12\" class=\"data row1 col12\" >True</td>\n",
       "    </tr>\n",
       "    <tr>\n",
       "      <th id=\"T_1722d_level0_row2\" class=\"row_heading level0 row2\" >physipy</th>\n",
       "      <td id=\"T_1722d_row2_col0\" class=\"data row2 col0\" >True</td>\n",
       "      <td id=\"T_1722d_row2_col1\" class=\"data row2 col1\" >True</td>\n",
       "      <td id=\"T_1722d_row2_col2\" class=\"data row2 col2\" >True</td>\n",
       "      <td id=\"T_1722d_row2_col3\" class=\"data row2 col3\" >True</td>\n",
       "      <td id=\"T_1722d_row2_col4\" class=\"data row2 col4\" >True</td>\n",
       "      <td id=\"T_1722d_row2_col5\" class=\"data row2 col5\" >True</td>\n",
       "      <td id=\"T_1722d_row2_col6\" class=\"data row2 col6\" >False</td>\n",
       "      <td id=\"T_1722d_row2_col7\" class=\"data row2 col7\" >True</td>\n",
       "      <td id=\"T_1722d_row2_col8\" class=\"data row2 col8\" >True</td>\n",
       "      <td id=\"T_1722d_row2_col9\" class=\"data row2 col9\" >True</td>\n",
       "      <td id=\"T_1722d_row2_col10\" class=\"data row2 col10\" >True</td>\n",
       "      <td id=\"T_1722d_row2_col11\" class=\"data row2 col11\" >True</td>\n",
       "      <td id=\"T_1722d_row2_col12\" class=\"data row2 col12\" >True</td>\n",
       "    </tr>\n",
       "    <tr>\n",
       "      <th id=\"T_1722d_level0_row3\" class=\"row_heading level0 row3\" >forallpeople</th>\n",
       "      <td id=\"T_1722d_row3_col0\" class=\"data row3 col0\" >True</td>\n",
       "      <td id=\"T_1722d_row3_col1\" class=\"data row3 col1\" >True</td>\n",
       "      <td id=\"T_1722d_row3_col2\" class=\"data row3 col2\" >True</td>\n",
       "      <td id=\"T_1722d_row3_col3\" class=\"data row3 col3\" >False</td>\n",
       "      <td id=\"T_1722d_row3_col4\" class=\"data row3 col4\" >True</td>\n",
       "      <td id=\"T_1722d_row3_col5\" class=\"data row3 col5\" >False</td>\n",
       "      <td id=\"T_1722d_row3_col6\" class=\"data row3 col6\" >False</td>\n",
       "      <td id=\"T_1722d_row3_col7\" class=\"data row3 col7\" >True</td>\n",
       "      <td id=\"T_1722d_row3_col8\" class=\"data row3 col8\" >True</td>\n",
       "      <td id=\"T_1722d_row3_col9\" class=\"data row3 col9\" >True</td>\n",
       "      <td id=\"T_1722d_row3_col10\" class=\"data row3 col10\" >True</td>\n",
       "      <td id=\"T_1722d_row3_col11\" class=\"data row3 col11\" >True</td>\n",
       "      <td id=\"T_1722d_row3_col12\" class=\"data row3 col12\" >True</td>\n",
       "    </tr>\n",
       "  </tbody>\n",
       "</table>\n"
      ],
      "text/plain": [
       "<pandas.io.formats.style.Styler at 0x121243910>"
      ]
     },
     "execution_count": 10,
     "metadata": {},
     "output_type": "execute_result"
    }
   ],
   "source": [
    "results['compatibility']['binary_compatible_ops']"
   ]
  },
  {
   "cell_type": "code",
   "execution_count": 11,
   "metadata": {
    "collapsed": false,
    "jupyter": {
     "outputs_hidden": false
    }
   },
   "outputs": [
    {
     "data": {
      "text/html": [
       "<style type=\"text/css\">\n",
       "#T_4b131_row0_col0, #T_4b131_row0_col1, #T_4b131_row0_col3, #T_4b131_row0_col5, #T_4b131_row0_col6, #T_4b131_row0_col7, #T_4b131_row0_col8, #T_4b131_row0_col11, #T_4b131_row0_col12, #T_4b131_row1_col0, #T_4b131_row1_col1, #T_4b131_row1_col3, #T_4b131_row1_col5, #T_4b131_row1_col6, #T_4b131_row1_col7, #T_4b131_row1_col8, #T_4b131_row1_col11, #T_4b131_row1_col12, #T_4b131_row2_col0, #T_4b131_row2_col1, #T_4b131_row2_col3, #T_4b131_row2_col5, #T_4b131_row2_col6, #T_4b131_row2_col7, #T_4b131_row2_col8, #T_4b131_row2_col11, #T_4b131_row2_col12, #T_4b131_row3_col0, #T_4b131_row3_col1, #T_4b131_row3_col3, #T_4b131_row3_col5, #T_4b131_row3_col6, #T_4b131_row3_col7, #T_4b131_row3_col8, #T_4b131_row3_col11, #T_4b131_row3_col12 {\n",
       "  color: red;\n",
       "}\n",
       "#T_4b131_row0_col2, #T_4b131_row0_col4, #T_4b131_row0_col9, #T_4b131_row0_col10, #T_4b131_row1_col2, #T_4b131_row1_col4, #T_4b131_row1_col9, #T_4b131_row1_col10, #T_4b131_row2_col2, #T_4b131_row2_col4, #T_4b131_row2_col9, #T_4b131_row2_col10, #T_4b131_row3_col2, #T_4b131_row3_col4, #T_4b131_row3_col9, #T_4b131_row3_col10 {\n",
       "  color: green;\n",
       "}\n",
       "</style>\n",
       "<table id=\"T_4b131_\">\n",
       "  <thead>\n",
       "    <tr>\n",
       "      <th class=\"blank level0\" >&nbsp;</th>\n",
       "      <th class=\"col_heading level0 col0\" >add</th>\n",
       "      <th class=\"col_heading level0 col1\" >sub</th>\n",
       "      <th class=\"col_heading level0 col2\" >mul</th>\n",
       "      <th class=\"col_heading level0 col3\" >floordiv</th>\n",
       "      <th class=\"col_heading level0 col4\" >truediv</th>\n",
       "      <th class=\"col_heading level0 col5\" >mod</th>\n",
       "      <th class=\"col_heading level0 col6\" >pow</th>\n",
       "      <th class=\"col_heading level0 col7\" >lt</th>\n",
       "      <th class=\"col_heading level0 col8\" >le</th>\n",
       "      <th class=\"col_heading level0 col9\" >eq</th>\n",
       "      <th class=\"col_heading level0 col10\" >ne</th>\n",
       "      <th class=\"col_heading level0 col11\" >ge</th>\n",
       "      <th class=\"col_heading level0 col12\" >gt</th>\n",
       "    </tr>\n",
       "  </thead>\n",
       "  <tbody>\n",
       "    <tr>\n",
       "      <th id=\"T_4b131_level0_row0\" class=\"row_heading level0 row0\" >astropy.units</th>\n",
       "      <td id=\"T_4b131_row0_col0\" class=\"data row0 col0\" >False</td>\n",
       "      <td id=\"T_4b131_row0_col1\" class=\"data row0 col1\" >False</td>\n",
       "      <td id=\"T_4b131_row0_col2\" class=\"data row0 col2\" >True</td>\n",
       "      <td id=\"T_4b131_row0_col3\" class=\"data row0 col3\" >False</td>\n",
       "      <td id=\"T_4b131_row0_col4\" class=\"data row0 col4\" >True</td>\n",
       "      <td id=\"T_4b131_row0_col5\" class=\"data row0 col5\" >False</td>\n",
       "      <td id=\"T_4b131_row0_col6\" class=\"data row0 col6\" >False</td>\n",
       "      <td id=\"T_4b131_row0_col7\" class=\"data row0 col7\" >False</td>\n",
       "      <td id=\"T_4b131_row0_col8\" class=\"data row0 col8\" >False</td>\n",
       "      <td id=\"T_4b131_row0_col9\" class=\"data row0 col9\" >True</td>\n",
       "      <td id=\"T_4b131_row0_col10\" class=\"data row0 col10\" >True</td>\n",
       "      <td id=\"T_4b131_row0_col11\" class=\"data row0 col11\" >False</td>\n",
       "      <td id=\"T_4b131_row0_col12\" class=\"data row0 col12\" >False</td>\n",
       "    </tr>\n",
       "    <tr>\n",
       "      <th id=\"T_4b131_level0_row1\" class=\"row_heading level0 row1\" >pint</th>\n",
       "      <td id=\"T_4b131_row1_col0\" class=\"data row1 col0\" >False</td>\n",
       "      <td id=\"T_4b131_row1_col1\" class=\"data row1 col1\" >False</td>\n",
       "      <td id=\"T_4b131_row1_col2\" class=\"data row1 col2\" >True</td>\n",
       "      <td id=\"T_4b131_row1_col3\" class=\"data row1 col3\" >False</td>\n",
       "      <td id=\"T_4b131_row1_col4\" class=\"data row1 col4\" >True</td>\n",
       "      <td id=\"T_4b131_row1_col5\" class=\"data row1 col5\" >False</td>\n",
       "      <td id=\"T_4b131_row1_col6\" class=\"data row1 col6\" >False</td>\n",
       "      <td id=\"T_4b131_row1_col7\" class=\"data row1 col7\" >False</td>\n",
       "      <td id=\"T_4b131_row1_col8\" class=\"data row1 col8\" >False</td>\n",
       "      <td id=\"T_4b131_row1_col9\" class=\"data row1 col9\" >True</td>\n",
       "      <td id=\"T_4b131_row1_col10\" class=\"data row1 col10\" >True</td>\n",
       "      <td id=\"T_4b131_row1_col11\" class=\"data row1 col11\" >False</td>\n",
       "      <td id=\"T_4b131_row1_col12\" class=\"data row1 col12\" >False</td>\n",
       "    </tr>\n",
       "    <tr>\n",
       "      <th id=\"T_4b131_level0_row2\" class=\"row_heading level0 row2\" >physipy</th>\n",
       "      <td id=\"T_4b131_row2_col0\" class=\"data row2 col0\" >False</td>\n",
       "      <td id=\"T_4b131_row2_col1\" class=\"data row2 col1\" >False</td>\n",
       "      <td id=\"T_4b131_row2_col2\" class=\"data row2 col2\" >True</td>\n",
       "      <td id=\"T_4b131_row2_col3\" class=\"data row2 col3\" >False</td>\n",
       "      <td id=\"T_4b131_row2_col4\" class=\"data row2 col4\" >True</td>\n",
       "      <td id=\"T_4b131_row2_col5\" class=\"data row2 col5\" >False</td>\n",
       "      <td id=\"T_4b131_row2_col6\" class=\"data row2 col6\" >False</td>\n",
       "      <td id=\"T_4b131_row2_col7\" class=\"data row2 col7\" >False</td>\n",
       "      <td id=\"T_4b131_row2_col8\" class=\"data row2 col8\" >False</td>\n",
       "      <td id=\"T_4b131_row2_col9\" class=\"data row2 col9\" >True</td>\n",
       "      <td id=\"T_4b131_row2_col10\" class=\"data row2 col10\" >True</td>\n",
       "      <td id=\"T_4b131_row2_col11\" class=\"data row2 col11\" >False</td>\n",
       "      <td id=\"T_4b131_row2_col12\" class=\"data row2 col12\" >False</td>\n",
       "    </tr>\n",
       "    <tr>\n",
       "      <th id=\"T_4b131_level0_row3\" class=\"row_heading level0 row3\" >forallpeople</th>\n",
       "      <td id=\"T_4b131_row3_col0\" class=\"data row3 col0\" >False</td>\n",
       "      <td id=\"T_4b131_row3_col1\" class=\"data row3 col1\" >False</td>\n",
       "      <td id=\"T_4b131_row3_col2\" class=\"data row3 col2\" >True</td>\n",
       "      <td id=\"T_4b131_row3_col3\" class=\"data row3 col3\" >False</td>\n",
       "      <td id=\"T_4b131_row3_col4\" class=\"data row3 col4\" >True</td>\n",
       "      <td id=\"T_4b131_row3_col5\" class=\"data row3 col5\" >False</td>\n",
       "      <td id=\"T_4b131_row3_col6\" class=\"data row3 col6\" >False</td>\n",
       "      <td id=\"T_4b131_row3_col7\" class=\"data row3 col7\" >False</td>\n",
       "      <td id=\"T_4b131_row3_col8\" class=\"data row3 col8\" >False</td>\n",
       "      <td id=\"T_4b131_row3_col9\" class=\"data row3 col9\" >True</td>\n",
       "      <td id=\"T_4b131_row3_col10\" class=\"data row3 col10\" >True</td>\n",
       "      <td id=\"T_4b131_row3_col11\" class=\"data row3 col11\" >False</td>\n",
       "      <td id=\"T_4b131_row3_col12\" class=\"data row3 col12\" >False</td>\n",
       "    </tr>\n",
       "  </tbody>\n",
       "</table>\n"
      ],
      "text/plain": [
       "<pandas.io.formats.style.Styler at 0x121243df0>"
      ]
     },
     "execution_count": 11,
     "metadata": {},
     "output_type": "execute_result"
    }
   ],
   "source": [
    "results['compatibility']['binary_different_ops']"
   ]
  },
  {
   "cell_type": "code",
   "execution_count": 12,
   "metadata": {
    "collapsed": false,
    "jupyter": {
     "outputs_hidden": false
    }
   },
   "outputs": [
    {
     "data": {
      "text/html": [
       "<style type=\"text/css\">\n",
       "#T_32882_row0_col0, #T_32882_row0_col1, #T_32882_row0_col2, #T_32882_row0_col3, #T_32882_row0_col4, #T_32882_row0_col12, #T_32882_row0_col13, #T_32882_row0_col14, #T_32882_row0_col15, #T_32882_row0_col30, #T_32882_row0_col31, #T_32882_row0_col32, #T_32882_row1_col0, #T_32882_row1_col1, #T_32882_row1_col2, #T_32882_row1_col3, #T_32882_row1_col4, #T_32882_row1_col12, #T_32882_row1_col13, #T_32882_row1_col14, #T_32882_row1_col15, #T_32882_row1_col30, #T_32882_row1_col31, #T_32882_row1_col32, #T_32882_row2_col0, #T_32882_row2_col1, #T_32882_row2_col2, #T_32882_row2_col3, #T_32882_row2_col4, #T_32882_row2_col12, #T_32882_row2_col13, #T_32882_row2_col14, #T_32882_row2_col15, #T_32882_row2_col30, #T_32882_row2_col31, #T_32882_row2_col32, #T_32882_row3_col0, #T_32882_row3_col1, #T_32882_row3_col3, #T_32882_row3_col12, #T_32882_row3_col13, #T_32882_row3_col14, #T_32882_row3_col15, #T_32882_row3_col30, #T_32882_row3_col31 {\n",
       "  color: green;\n",
       "}\n",
       "#T_32882_row0_col5, #T_32882_row0_col6, #T_32882_row0_col7, #T_32882_row0_col8, #T_32882_row0_col9, #T_32882_row0_col10, #T_32882_row0_col11, #T_32882_row0_col16, #T_32882_row0_col17, #T_32882_row0_col18, #T_32882_row0_col19, #T_32882_row0_col20, #T_32882_row0_col21, #T_32882_row0_col22, #T_32882_row0_col23, #T_32882_row0_col24, #T_32882_row0_col25, #T_32882_row0_col26, #T_32882_row0_col27, #T_32882_row0_col28, #T_32882_row0_col29, #T_32882_row1_col5, #T_32882_row1_col6, #T_32882_row1_col7, #T_32882_row1_col8, #T_32882_row1_col9, #T_32882_row1_col10, #T_32882_row1_col11, #T_32882_row1_col16, #T_32882_row1_col17, #T_32882_row1_col18, #T_32882_row1_col19, #T_32882_row1_col20, #T_32882_row1_col21, #T_32882_row1_col22, #T_32882_row1_col23, #T_32882_row1_col24, #T_32882_row1_col25, #T_32882_row1_col26, #T_32882_row1_col27, #T_32882_row1_col28, #T_32882_row1_col29, #T_32882_row2_col5, #T_32882_row2_col6, #T_32882_row2_col7, #T_32882_row2_col8, #T_32882_row2_col9, #T_32882_row2_col10, #T_32882_row2_col11, #T_32882_row2_col16, #T_32882_row2_col17, #T_32882_row2_col18, #T_32882_row2_col19, #T_32882_row2_col20, #T_32882_row2_col21, #T_32882_row2_col22, #T_32882_row2_col23, #T_32882_row2_col24, #T_32882_row2_col25, #T_32882_row2_col26, #T_32882_row2_col27, #T_32882_row2_col28, #T_32882_row2_col29, #T_32882_row3_col2, #T_32882_row3_col4, #T_32882_row3_col5, #T_32882_row3_col6, #T_32882_row3_col7, #T_32882_row3_col8, #T_32882_row3_col9, #T_32882_row3_col10, #T_32882_row3_col11, #T_32882_row3_col16, #T_32882_row3_col17, #T_32882_row3_col18, #T_32882_row3_col19, #T_32882_row3_col20, #T_32882_row3_col21, #T_32882_row3_col22, #T_32882_row3_col23, #T_32882_row3_col24, #T_32882_row3_col25, #T_32882_row3_col26, #T_32882_row3_col27, #T_32882_row3_col28, #T_32882_row3_col29, #T_32882_row3_col32 {\n",
       "  color: red;\n",
       "}\n",
       "</style>\n",
       "<table id=\"T_32882_\">\n",
       "  <thead>\n",
       "    <tr>\n",
       "      <th class=\"blank level0\" >&nbsp;</th>\n",
       "      <th class=\"col_heading level0 col0\" >negative</th>\n",
       "      <th class=\"col_heading level0 col1\" >absolute</th>\n",
       "      <th class=\"col_heading level0 col2\" >rint</th>\n",
       "      <th class=\"col_heading level0 col3\" >sign</th>\n",
       "      <th class=\"col_heading level0 col4\" >conjugate</th>\n",
       "      <th class=\"col_heading level0 col5\" >exp</th>\n",
       "      <th class=\"col_heading level0 col6\" >exp2</th>\n",
       "      <th class=\"col_heading level0 col7\" >log</th>\n",
       "      <th class=\"col_heading level0 col8\" >log2</th>\n",
       "      <th class=\"col_heading level0 col9\" >log10</th>\n",
       "      <th class=\"col_heading level0 col10\" >expm1</th>\n",
       "      <th class=\"col_heading level0 col11\" >log1p</th>\n",
       "      <th class=\"col_heading level0 col12\" >sqrt</th>\n",
       "      <th class=\"col_heading level0 col13\" >square</th>\n",
       "      <th class=\"col_heading level0 col14\" >reciprocal</th>\n",
       "      <th class=\"col_heading level0 col15\" >ones_like</th>\n",
       "      <th class=\"col_heading level0 col16\" >sin</th>\n",
       "      <th class=\"col_heading level0 col17\" >cos</th>\n",
       "      <th class=\"col_heading level0 col18\" >tan</th>\n",
       "      <th class=\"col_heading level0 col19\" >arcsin</th>\n",
       "      <th class=\"col_heading level0 col20\" >arccos</th>\n",
       "      <th class=\"col_heading level0 col21\" >arctan</th>\n",
       "      <th class=\"col_heading level0 col22\" >sinh</th>\n",
       "      <th class=\"col_heading level0 col23\" >cosh</th>\n",
       "      <th class=\"col_heading level0 col24\" >tanh</th>\n",
       "      <th class=\"col_heading level0 col25\" >arcsinh</th>\n",
       "      <th class=\"col_heading level0 col26\" >arccosh</th>\n",
       "      <th class=\"col_heading level0 col27\" >arctanh</th>\n",
       "      <th class=\"col_heading level0 col28\" >deg2rad</th>\n",
       "      <th class=\"col_heading level0 col29\" >rad2deg</th>\n",
       "      <th class=\"col_heading level0 col30\" >floor</th>\n",
       "      <th class=\"col_heading level0 col31\" >ceil</th>\n",
       "      <th class=\"col_heading level0 col32\" >trunc</th>\n",
       "    </tr>\n",
       "  </thead>\n",
       "  <tbody>\n",
       "    <tr>\n",
       "      <th id=\"T_32882_level0_row0\" class=\"row_heading level0 row0\" >astropy.units</th>\n",
       "      <td id=\"T_32882_row0_col0\" class=\"data row0 col0\" >True</td>\n",
       "      <td id=\"T_32882_row0_col1\" class=\"data row0 col1\" >True</td>\n",
       "      <td id=\"T_32882_row0_col2\" class=\"data row0 col2\" >True</td>\n",
       "      <td id=\"T_32882_row0_col3\" class=\"data row0 col3\" >True</td>\n",
       "      <td id=\"T_32882_row0_col4\" class=\"data row0 col4\" >True</td>\n",
       "      <td id=\"T_32882_row0_col5\" class=\"data row0 col5\" >False</td>\n",
       "      <td id=\"T_32882_row0_col6\" class=\"data row0 col6\" >False</td>\n",
       "      <td id=\"T_32882_row0_col7\" class=\"data row0 col7\" >False</td>\n",
       "      <td id=\"T_32882_row0_col8\" class=\"data row0 col8\" >False</td>\n",
       "      <td id=\"T_32882_row0_col9\" class=\"data row0 col9\" >False</td>\n",
       "      <td id=\"T_32882_row0_col10\" class=\"data row0 col10\" >False</td>\n",
       "      <td id=\"T_32882_row0_col11\" class=\"data row0 col11\" >False</td>\n",
       "      <td id=\"T_32882_row0_col12\" class=\"data row0 col12\" >True</td>\n",
       "      <td id=\"T_32882_row0_col13\" class=\"data row0 col13\" >True</td>\n",
       "      <td id=\"T_32882_row0_col14\" class=\"data row0 col14\" >True</td>\n",
       "      <td id=\"T_32882_row0_col15\" class=\"data row0 col15\" >True</td>\n",
       "      <td id=\"T_32882_row0_col16\" class=\"data row0 col16\" >False</td>\n",
       "      <td id=\"T_32882_row0_col17\" class=\"data row0 col17\" >False</td>\n",
       "      <td id=\"T_32882_row0_col18\" class=\"data row0 col18\" >False</td>\n",
       "      <td id=\"T_32882_row0_col19\" class=\"data row0 col19\" >False</td>\n",
       "      <td id=\"T_32882_row0_col20\" class=\"data row0 col20\" >False</td>\n",
       "      <td id=\"T_32882_row0_col21\" class=\"data row0 col21\" >False</td>\n",
       "      <td id=\"T_32882_row0_col22\" class=\"data row0 col22\" >False</td>\n",
       "      <td id=\"T_32882_row0_col23\" class=\"data row0 col23\" >False</td>\n",
       "      <td id=\"T_32882_row0_col24\" class=\"data row0 col24\" >False</td>\n",
       "      <td id=\"T_32882_row0_col25\" class=\"data row0 col25\" >False</td>\n",
       "      <td id=\"T_32882_row0_col26\" class=\"data row0 col26\" >False</td>\n",
       "      <td id=\"T_32882_row0_col27\" class=\"data row0 col27\" >False</td>\n",
       "      <td id=\"T_32882_row0_col28\" class=\"data row0 col28\" >False</td>\n",
       "      <td id=\"T_32882_row0_col29\" class=\"data row0 col29\" >False</td>\n",
       "      <td id=\"T_32882_row0_col30\" class=\"data row0 col30\" >True</td>\n",
       "      <td id=\"T_32882_row0_col31\" class=\"data row0 col31\" >True</td>\n",
       "      <td id=\"T_32882_row0_col32\" class=\"data row0 col32\" >True</td>\n",
       "    </tr>\n",
       "    <tr>\n",
       "      <th id=\"T_32882_level0_row1\" class=\"row_heading level0 row1\" >pint</th>\n",
       "      <td id=\"T_32882_row1_col0\" class=\"data row1 col0\" >True</td>\n",
       "      <td id=\"T_32882_row1_col1\" class=\"data row1 col1\" >True</td>\n",
       "      <td id=\"T_32882_row1_col2\" class=\"data row1 col2\" >True</td>\n",
       "      <td id=\"T_32882_row1_col3\" class=\"data row1 col3\" >True</td>\n",
       "      <td id=\"T_32882_row1_col4\" class=\"data row1 col4\" >True</td>\n",
       "      <td id=\"T_32882_row1_col5\" class=\"data row1 col5\" >False</td>\n",
       "      <td id=\"T_32882_row1_col6\" class=\"data row1 col6\" >False</td>\n",
       "      <td id=\"T_32882_row1_col7\" class=\"data row1 col7\" >False</td>\n",
       "      <td id=\"T_32882_row1_col8\" class=\"data row1 col8\" >False</td>\n",
       "      <td id=\"T_32882_row1_col9\" class=\"data row1 col9\" >False</td>\n",
       "      <td id=\"T_32882_row1_col10\" class=\"data row1 col10\" >False</td>\n",
       "      <td id=\"T_32882_row1_col11\" class=\"data row1 col11\" >False</td>\n",
       "      <td id=\"T_32882_row1_col12\" class=\"data row1 col12\" >True</td>\n",
       "      <td id=\"T_32882_row1_col13\" class=\"data row1 col13\" >True</td>\n",
       "      <td id=\"T_32882_row1_col14\" class=\"data row1 col14\" >True</td>\n",
       "      <td id=\"T_32882_row1_col15\" class=\"data row1 col15\" >True</td>\n",
       "      <td id=\"T_32882_row1_col16\" class=\"data row1 col16\" >False</td>\n",
       "      <td id=\"T_32882_row1_col17\" class=\"data row1 col17\" >False</td>\n",
       "      <td id=\"T_32882_row1_col18\" class=\"data row1 col18\" >False</td>\n",
       "      <td id=\"T_32882_row1_col19\" class=\"data row1 col19\" >False</td>\n",
       "      <td id=\"T_32882_row1_col20\" class=\"data row1 col20\" >False</td>\n",
       "      <td id=\"T_32882_row1_col21\" class=\"data row1 col21\" >False</td>\n",
       "      <td id=\"T_32882_row1_col22\" class=\"data row1 col22\" >False</td>\n",
       "      <td id=\"T_32882_row1_col23\" class=\"data row1 col23\" >False</td>\n",
       "      <td id=\"T_32882_row1_col24\" class=\"data row1 col24\" >False</td>\n",
       "      <td id=\"T_32882_row1_col25\" class=\"data row1 col25\" >False</td>\n",
       "      <td id=\"T_32882_row1_col26\" class=\"data row1 col26\" >False</td>\n",
       "      <td id=\"T_32882_row1_col27\" class=\"data row1 col27\" >False</td>\n",
       "      <td id=\"T_32882_row1_col28\" class=\"data row1 col28\" >False</td>\n",
       "      <td id=\"T_32882_row1_col29\" class=\"data row1 col29\" >False</td>\n",
       "      <td id=\"T_32882_row1_col30\" class=\"data row1 col30\" >True</td>\n",
       "      <td id=\"T_32882_row1_col31\" class=\"data row1 col31\" >True</td>\n",
       "      <td id=\"T_32882_row1_col32\" class=\"data row1 col32\" >True</td>\n",
       "    </tr>\n",
       "    <tr>\n",
       "      <th id=\"T_32882_level0_row2\" class=\"row_heading level0 row2\" >physipy</th>\n",
       "      <td id=\"T_32882_row2_col0\" class=\"data row2 col0\" >True</td>\n",
       "      <td id=\"T_32882_row2_col1\" class=\"data row2 col1\" >True</td>\n",
       "      <td id=\"T_32882_row2_col2\" class=\"data row2 col2\" >True</td>\n",
       "      <td id=\"T_32882_row2_col3\" class=\"data row2 col3\" >True</td>\n",
       "      <td id=\"T_32882_row2_col4\" class=\"data row2 col4\" >True</td>\n",
       "      <td id=\"T_32882_row2_col5\" class=\"data row2 col5\" >False</td>\n",
       "      <td id=\"T_32882_row2_col6\" class=\"data row2 col6\" >False</td>\n",
       "      <td id=\"T_32882_row2_col7\" class=\"data row2 col7\" >False</td>\n",
       "      <td id=\"T_32882_row2_col8\" class=\"data row2 col8\" >False</td>\n",
       "      <td id=\"T_32882_row2_col9\" class=\"data row2 col9\" >False</td>\n",
       "      <td id=\"T_32882_row2_col10\" class=\"data row2 col10\" >False</td>\n",
       "      <td id=\"T_32882_row2_col11\" class=\"data row2 col11\" >False</td>\n",
       "      <td id=\"T_32882_row2_col12\" class=\"data row2 col12\" >True</td>\n",
       "      <td id=\"T_32882_row2_col13\" class=\"data row2 col13\" >True</td>\n",
       "      <td id=\"T_32882_row2_col14\" class=\"data row2 col14\" >True</td>\n",
       "      <td id=\"T_32882_row2_col15\" class=\"data row2 col15\" >True</td>\n",
       "      <td id=\"T_32882_row2_col16\" class=\"data row2 col16\" >False</td>\n",
       "      <td id=\"T_32882_row2_col17\" class=\"data row2 col17\" >False</td>\n",
       "      <td id=\"T_32882_row2_col18\" class=\"data row2 col18\" >False</td>\n",
       "      <td id=\"T_32882_row2_col19\" class=\"data row2 col19\" >False</td>\n",
       "      <td id=\"T_32882_row2_col20\" class=\"data row2 col20\" >False</td>\n",
       "      <td id=\"T_32882_row2_col21\" class=\"data row2 col21\" >False</td>\n",
       "      <td id=\"T_32882_row2_col22\" class=\"data row2 col22\" >False</td>\n",
       "      <td id=\"T_32882_row2_col23\" class=\"data row2 col23\" >False</td>\n",
       "      <td id=\"T_32882_row2_col24\" class=\"data row2 col24\" >False</td>\n",
       "      <td id=\"T_32882_row2_col25\" class=\"data row2 col25\" >False</td>\n",
       "      <td id=\"T_32882_row2_col26\" class=\"data row2 col26\" >False</td>\n",
       "      <td id=\"T_32882_row2_col27\" class=\"data row2 col27\" >False</td>\n",
       "      <td id=\"T_32882_row2_col28\" class=\"data row2 col28\" >False</td>\n",
       "      <td id=\"T_32882_row2_col29\" class=\"data row2 col29\" >False</td>\n",
       "      <td id=\"T_32882_row2_col30\" class=\"data row2 col30\" >True</td>\n",
       "      <td id=\"T_32882_row2_col31\" class=\"data row2 col31\" >True</td>\n",
       "      <td id=\"T_32882_row2_col32\" class=\"data row2 col32\" >True</td>\n",
       "    </tr>\n",
       "    <tr>\n",
       "      <th id=\"T_32882_level0_row3\" class=\"row_heading level0 row3\" >forallpeople</th>\n",
       "      <td id=\"T_32882_row3_col0\" class=\"data row3 col0\" >True</td>\n",
       "      <td id=\"T_32882_row3_col1\" class=\"data row3 col1\" >True</td>\n",
       "      <td id=\"T_32882_row3_col2\" class=\"data row3 col2\" >False</td>\n",
       "      <td id=\"T_32882_row3_col3\" class=\"data row3 col3\" >True</td>\n",
       "      <td id=\"T_32882_row3_col4\" class=\"data row3 col4\" >False</td>\n",
       "      <td id=\"T_32882_row3_col5\" class=\"data row3 col5\" >False</td>\n",
       "      <td id=\"T_32882_row3_col6\" class=\"data row3 col6\" >False</td>\n",
       "      <td id=\"T_32882_row3_col7\" class=\"data row3 col7\" >False</td>\n",
       "      <td id=\"T_32882_row3_col8\" class=\"data row3 col8\" >False</td>\n",
       "      <td id=\"T_32882_row3_col9\" class=\"data row3 col9\" >False</td>\n",
       "      <td id=\"T_32882_row3_col10\" class=\"data row3 col10\" >False</td>\n",
       "      <td id=\"T_32882_row3_col11\" class=\"data row3 col11\" >False</td>\n",
       "      <td id=\"T_32882_row3_col12\" class=\"data row3 col12\" >True</td>\n",
       "      <td id=\"T_32882_row3_col13\" class=\"data row3 col13\" >True</td>\n",
       "      <td id=\"T_32882_row3_col14\" class=\"data row3 col14\" >True</td>\n",
       "      <td id=\"T_32882_row3_col15\" class=\"data row3 col15\" >True</td>\n",
       "      <td id=\"T_32882_row3_col16\" class=\"data row3 col16\" >False</td>\n",
       "      <td id=\"T_32882_row3_col17\" class=\"data row3 col17\" >False</td>\n",
       "      <td id=\"T_32882_row3_col18\" class=\"data row3 col18\" >False</td>\n",
       "      <td id=\"T_32882_row3_col19\" class=\"data row3 col19\" >False</td>\n",
       "      <td id=\"T_32882_row3_col20\" class=\"data row3 col20\" >False</td>\n",
       "      <td id=\"T_32882_row3_col21\" class=\"data row3 col21\" >False</td>\n",
       "      <td id=\"T_32882_row3_col22\" class=\"data row3 col22\" >False</td>\n",
       "      <td id=\"T_32882_row3_col23\" class=\"data row3 col23\" >False</td>\n",
       "      <td id=\"T_32882_row3_col24\" class=\"data row3 col24\" >False</td>\n",
       "      <td id=\"T_32882_row3_col25\" class=\"data row3 col25\" >False</td>\n",
       "      <td id=\"T_32882_row3_col26\" class=\"data row3 col26\" >False</td>\n",
       "      <td id=\"T_32882_row3_col27\" class=\"data row3 col27\" >False</td>\n",
       "      <td id=\"T_32882_row3_col28\" class=\"data row3 col28\" >False</td>\n",
       "      <td id=\"T_32882_row3_col29\" class=\"data row3 col29\" >False</td>\n",
       "      <td id=\"T_32882_row3_col30\" class=\"data row3 col30\" >True</td>\n",
       "      <td id=\"T_32882_row3_col31\" class=\"data row3 col31\" >True</td>\n",
       "      <td id=\"T_32882_row3_col32\" class=\"data row3 col32\" >False</td>\n",
       "    </tr>\n",
       "  </tbody>\n",
       "</table>\n"
      ],
      "text/plain": [
       "<pandas.io.formats.style.Styler at 0x121243580>"
      ]
     },
     "execution_count": 12,
     "metadata": {},
     "output_type": "execute_result"
    }
   ],
   "source": [
    "results['compatibility']['unary_ufuncs']"
   ]
  },
  {
   "cell_type": "code",
   "execution_count": 15,
   "metadata": {
    "collapsed": false,
    "jupyter": {
     "outputs_hidden": false
    }
   },
   "outputs": [
    {
     "data": {
      "text/html": [
       "<style  type=\"text/css\" >\n",
       "#T_18a10_row0_col0,#T_18a10_row0_col1,#T_18a10_row0_col2,#T_18a10_row0_col3,#T_18a10_row0_col6,#T_18a10_row0_col8,#T_18a10_row0_col9,#T_18a10_row0_col10,#T_18a10_row0_col11,#T_18a10_row0_col12,#T_18a10_row0_col13,#T_18a10_row0_col14,#T_18a10_row0_col15,#T_18a10_row0_col16,#T_18a10_row0_col17,#T_18a10_row0_col18,#T_18a10_row0_col19,#T_18a10_row1_col0,#T_18a10_row1_col1,#T_18a10_row1_col2,#T_18a10_row1_col3,#T_18a10_row1_col6,#T_18a10_row1_col8,#T_18a10_row1_col9,#T_18a10_row1_col10,#T_18a10_row1_col11,#T_18a10_row1_col12,#T_18a10_row1_col13,#T_18a10_row1_col14,#T_18a10_row1_col15,#T_18a10_row1_col16,#T_18a10_row1_col17,#T_18a10_row1_col18,#T_18a10_row1_col19,#T_18a10_row2_col0,#T_18a10_row2_col1,#T_18a10_row2_col2,#T_18a10_row2_col3,#T_18a10_row2_col6,#T_18a10_row2_col8,#T_18a10_row2_col9,#T_18a10_row2_col10,#T_18a10_row2_col11,#T_18a10_row2_col12,#T_18a10_row2_col13,#T_18a10_row2_col14,#T_18a10_row2_col15,#T_18a10_row2_col16,#T_18a10_row2_col17,#T_18a10_row2_col18,#T_18a10_row2_col19,#T_18a10_row3_col0,#T_18a10_row3_col1,#T_18a10_row3_col2,#T_18a10_row3_col3,#T_18a10_row3_col12,#T_18a10_row3_col13,#T_18a10_row3_col14,#T_18a10_row3_col15,#T_18a10_row3_col16,#T_18a10_row3_col17,#T_18a10_row3_col18,#T_18a10_row3_col19{\n",
       "            color:  green;\n",
       "        }#T_18a10_row0_col4,#T_18a10_row0_col5,#T_18a10_row0_col7,#T_18a10_row1_col4,#T_18a10_row1_col5,#T_18a10_row1_col7,#T_18a10_row2_col4,#T_18a10_row2_col5,#T_18a10_row2_col7,#T_18a10_row3_col4,#T_18a10_row3_col5,#T_18a10_row3_col6,#T_18a10_row3_col7,#T_18a10_row3_col8,#T_18a10_row3_col9,#T_18a10_row3_col10,#T_18a10_row3_col11{\n",
       "            color:  red;\n",
       "        }</style><table id=\"T_18a10_\" ><thead>    <tr>        <th class=\"blank level0\" ></th>        <th class=\"col_heading level0 col0\" >add</th>        <th class=\"col_heading level0 col1\" >subtract</th>        <th class=\"col_heading level0 col2\" >multiply</th>        <th class=\"col_heading level0 col3\" >true_divide</th>        <th class=\"col_heading level0 col4\" >logaddexp</th>        <th class=\"col_heading level0 col5\" >logaddexp2</th>        <th class=\"col_heading level0 col6\" >floor_divide</th>        <th class=\"col_heading level0 col7\" >power</th>        <th class=\"col_heading level0 col8\" >remainder</th>        <th class=\"col_heading level0 col9\" >fmod</th>        <th class=\"col_heading level0 col10\" >arctan2</th>        <th class=\"col_heading level0 col11\" >hypot</th>        <th class=\"col_heading level0 col12\" >greater</th>        <th class=\"col_heading level0 col13\" >greater_equal</th>        <th class=\"col_heading level0 col14\" >less</th>        <th class=\"col_heading level0 col15\" >less_equal</th>        <th class=\"col_heading level0 col16\" >not_equal</th>        <th class=\"col_heading level0 col17\" >equal</th>        <th class=\"col_heading level0 col18\" >maximum</th>        <th class=\"col_heading level0 col19\" >minimum</th>    </tr></thead><tbody>\n",
       "                <tr>\n",
       "                        <th id=\"T_18a10_level0_row0\" class=\"row_heading level0 row0\" >astropy.units</th>\n",
       "                        <td id=\"T_18a10_row0_col0\" class=\"data row0 col0\" >True</td>\n",
       "                        <td id=\"T_18a10_row0_col1\" class=\"data row0 col1\" >True</td>\n",
       "                        <td id=\"T_18a10_row0_col2\" class=\"data row0 col2\" >True</td>\n",
       "                        <td id=\"T_18a10_row0_col3\" class=\"data row0 col3\" >True</td>\n",
       "                        <td id=\"T_18a10_row0_col4\" class=\"data row0 col4\" >False</td>\n",
       "                        <td id=\"T_18a10_row0_col5\" class=\"data row0 col5\" >False</td>\n",
       "                        <td id=\"T_18a10_row0_col6\" class=\"data row0 col6\" >True</td>\n",
       "                        <td id=\"T_18a10_row0_col7\" class=\"data row0 col7\" >False</td>\n",
       "                        <td id=\"T_18a10_row0_col8\" class=\"data row0 col8\" >True</td>\n",
       "                        <td id=\"T_18a10_row0_col9\" class=\"data row0 col9\" >True</td>\n",
       "                        <td id=\"T_18a10_row0_col10\" class=\"data row0 col10\" >True</td>\n",
       "                        <td id=\"T_18a10_row0_col11\" class=\"data row0 col11\" >True</td>\n",
       "                        <td id=\"T_18a10_row0_col12\" class=\"data row0 col12\" >True</td>\n",
       "                        <td id=\"T_18a10_row0_col13\" class=\"data row0 col13\" >True</td>\n",
       "                        <td id=\"T_18a10_row0_col14\" class=\"data row0 col14\" >True</td>\n",
       "                        <td id=\"T_18a10_row0_col15\" class=\"data row0 col15\" >True</td>\n",
       "                        <td id=\"T_18a10_row0_col16\" class=\"data row0 col16\" >True</td>\n",
       "                        <td id=\"T_18a10_row0_col17\" class=\"data row0 col17\" >True</td>\n",
       "                        <td id=\"T_18a10_row0_col18\" class=\"data row0 col18\" >True</td>\n",
       "                        <td id=\"T_18a10_row0_col19\" class=\"data row0 col19\" >True</td>\n",
       "            </tr>\n",
       "            <tr>\n",
       "                        <th id=\"T_18a10_level0_row1\" class=\"row_heading level0 row1\" >pint</th>\n",
       "                        <td id=\"T_18a10_row1_col0\" class=\"data row1 col0\" >True</td>\n",
       "                        <td id=\"T_18a10_row1_col1\" class=\"data row1 col1\" >True</td>\n",
       "                        <td id=\"T_18a10_row1_col2\" class=\"data row1 col2\" >True</td>\n",
       "                        <td id=\"T_18a10_row1_col3\" class=\"data row1 col3\" >True</td>\n",
       "                        <td id=\"T_18a10_row1_col4\" class=\"data row1 col4\" >False</td>\n",
       "                        <td id=\"T_18a10_row1_col5\" class=\"data row1 col5\" >False</td>\n",
       "                        <td id=\"T_18a10_row1_col6\" class=\"data row1 col6\" >True</td>\n",
       "                        <td id=\"T_18a10_row1_col7\" class=\"data row1 col7\" >False</td>\n",
       "                        <td id=\"T_18a10_row1_col8\" class=\"data row1 col8\" >True</td>\n",
       "                        <td id=\"T_18a10_row1_col9\" class=\"data row1 col9\" >True</td>\n",
       "                        <td id=\"T_18a10_row1_col10\" class=\"data row1 col10\" >True</td>\n",
       "                        <td id=\"T_18a10_row1_col11\" class=\"data row1 col11\" >True</td>\n",
       "                        <td id=\"T_18a10_row1_col12\" class=\"data row1 col12\" >True</td>\n",
       "                        <td id=\"T_18a10_row1_col13\" class=\"data row1 col13\" >True</td>\n",
       "                        <td id=\"T_18a10_row1_col14\" class=\"data row1 col14\" >True</td>\n",
       "                        <td id=\"T_18a10_row1_col15\" class=\"data row1 col15\" >True</td>\n",
       "                        <td id=\"T_18a10_row1_col16\" class=\"data row1 col16\" >True</td>\n",
       "                        <td id=\"T_18a10_row1_col17\" class=\"data row1 col17\" >True</td>\n",
       "                        <td id=\"T_18a10_row1_col18\" class=\"data row1 col18\" >True</td>\n",
       "                        <td id=\"T_18a10_row1_col19\" class=\"data row1 col19\" >True</td>\n",
       "            </tr>\n",
       "            <tr>\n",
       "                        <th id=\"T_18a10_level0_row2\" class=\"row_heading level0 row2\" >physipy</th>\n",
       "                        <td id=\"T_18a10_row2_col0\" class=\"data row2 col0\" >True</td>\n",
       "                        <td id=\"T_18a10_row2_col1\" class=\"data row2 col1\" >True</td>\n",
       "                        <td id=\"T_18a10_row2_col2\" class=\"data row2 col2\" >True</td>\n",
       "                        <td id=\"T_18a10_row2_col3\" class=\"data row2 col3\" >True</td>\n",
       "                        <td id=\"T_18a10_row2_col4\" class=\"data row2 col4\" >False</td>\n",
       "                        <td id=\"T_18a10_row2_col5\" class=\"data row2 col5\" >False</td>\n",
       "                        <td id=\"T_18a10_row2_col6\" class=\"data row2 col6\" >True</td>\n",
       "                        <td id=\"T_18a10_row2_col7\" class=\"data row2 col7\" >False</td>\n",
       "                        <td id=\"T_18a10_row2_col8\" class=\"data row2 col8\" >True</td>\n",
       "                        <td id=\"T_18a10_row2_col9\" class=\"data row2 col9\" >True</td>\n",
       "                        <td id=\"T_18a10_row2_col10\" class=\"data row2 col10\" >True</td>\n",
       "                        <td id=\"T_18a10_row2_col11\" class=\"data row2 col11\" >True</td>\n",
       "                        <td id=\"T_18a10_row2_col12\" class=\"data row2 col12\" >True</td>\n",
       "                        <td id=\"T_18a10_row2_col13\" class=\"data row2 col13\" >True</td>\n",
       "                        <td id=\"T_18a10_row2_col14\" class=\"data row2 col14\" >True</td>\n",
       "                        <td id=\"T_18a10_row2_col15\" class=\"data row2 col15\" >True</td>\n",
       "                        <td id=\"T_18a10_row2_col16\" class=\"data row2 col16\" >True</td>\n",
       "                        <td id=\"T_18a10_row2_col17\" class=\"data row2 col17\" >True</td>\n",
       "                        <td id=\"T_18a10_row2_col18\" class=\"data row2 col18\" >True</td>\n",
       "                        <td id=\"T_18a10_row2_col19\" class=\"data row2 col19\" >True</td>\n",
       "            </tr>\n",
       "            <tr>\n",
       "                        <th id=\"T_18a10_level0_row3\" class=\"row_heading level0 row3\" >forallpeople</th>\n",
       "                        <td id=\"T_18a10_row3_col0\" class=\"data row3 col0\" >True</td>\n",
       "                        <td id=\"T_18a10_row3_col1\" class=\"data row3 col1\" >True</td>\n",
       "                        <td id=\"T_18a10_row3_col2\" class=\"data row3 col2\" >True</td>\n",
       "                        <td id=\"T_18a10_row3_col3\" class=\"data row3 col3\" >True</td>\n",
       "                        <td id=\"T_18a10_row3_col4\" class=\"data row3 col4\" >False</td>\n",
       "                        <td id=\"T_18a10_row3_col5\" class=\"data row3 col5\" >False</td>\n",
       "                        <td id=\"T_18a10_row3_col6\" class=\"data row3 col6\" >False</td>\n",
       "                        <td id=\"T_18a10_row3_col7\" class=\"data row3 col7\" >False</td>\n",
       "                        <td id=\"T_18a10_row3_col8\" class=\"data row3 col8\" >False</td>\n",
       "                        <td id=\"T_18a10_row3_col9\" class=\"data row3 col9\" >False</td>\n",
       "                        <td id=\"T_18a10_row3_col10\" class=\"data row3 col10\" >False</td>\n",
       "                        <td id=\"T_18a10_row3_col11\" class=\"data row3 col11\" >False</td>\n",
       "                        <td id=\"T_18a10_row3_col12\" class=\"data row3 col12\" >True</td>\n",
       "                        <td id=\"T_18a10_row3_col13\" class=\"data row3 col13\" >True</td>\n",
       "                        <td id=\"T_18a10_row3_col14\" class=\"data row3 col14\" >True</td>\n",
       "                        <td id=\"T_18a10_row3_col15\" class=\"data row3 col15\" >True</td>\n",
       "                        <td id=\"T_18a10_row3_col16\" class=\"data row3 col16\" >True</td>\n",
       "                        <td id=\"T_18a10_row3_col17\" class=\"data row3 col17\" >True</td>\n",
       "                        <td id=\"T_18a10_row3_col18\" class=\"data row3 col18\" >True</td>\n",
       "                        <td id=\"T_18a10_row3_col19\" class=\"data row3 col19\" >True</td>\n",
       "            </tr>\n",
       "    </tbody></table>"
      ],
      "text/plain": [
       "<pandas.io.formats.style.Styler at 0x11e979bb0>"
      ]
     },
     "execution_count": 15,
     "metadata": {},
     "output_type": "execute_result"
    }
   ],
   "source": [
    "results['compatibility']['binary_same_ufuncs']"
   ]
  },
  {
   "cell_type": "code",
   "execution_count": 16,
   "metadata": {
    "collapsed": false,
    "jupyter": {
     "outputs_hidden": false
    }
   },
   "outputs": [
    {
     "data": {
      "text/html": [
       "<style  type=\"text/css\" >\n",
       "#T_3dc3d_row0_col0,#T_3dc3d_row0_col1,#T_3dc3d_row0_col2,#T_3dc3d_row0_col3,#T_3dc3d_row0_col6,#T_3dc3d_row0_col8,#T_3dc3d_row0_col9,#T_3dc3d_row0_col10,#T_3dc3d_row0_col11,#T_3dc3d_row0_col12,#T_3dc3d_row0_col13,#T_3dc3d_row0_col14,#T_3dc3d_row0_col15,#T_3dc3d_row0_col16,#T_3dc3d_row0_col17,#T_3dc3d_row0_col18,#T_3dc3d_row0_col19,#T_3dc3d_row1_col0,#T_3dc3d_row1_col1,#T_3dc3d_row1_col2,#T_3dc3d_row1_col3,#T_3dc3d_row1_col6,#T_3dc3d_row1_col8,#T_3dc3d_row1_col9,#T_3dc3d_row1_col10,#T_3dc3d_row1_col11,#T_3dc3d_row1_col12,#T_3dc3d_row1_col13,#T_3dc3d_row1_col14,#T_3dc3d_row1_col15,#T_3dc3d_row1_col16,#T_3dc3d_row1_col17,#T_3dc3d_row1_col18,#T_3dc3d_row1_col19,#T_3dc3d_row2_col0,#T_3dc3d_row2_col1,#T_3dc3d_row2_col2,#T_3dc3d_row2_col3,#T_3dc3d_row2_col6,#T_3dc3d_row2_col8,#T_3dc3d_row2_col9,#T_3dc3d_row2_col10,#T_3dc3d_row2_col11,#T_3dc3d_row2_col12,#T_3dc3d_row2_col13,#T_3dc3d_row2_col14,#T_3dc3d_row2_col15,#T_3dc3d_row2_col16,#T_3dc3d_row2_col17,#T_3dc3d_row2_col18,#T_3dc3d_row2_col19,#T_3dc3d_row3_col0,#T_3dc3d_row3_col1,#T_3dc3d_row3_col2,#T_3dc3d_row3_col3,#T_3dc3d_row3_col12,#T_3dc3d_row3_col13,#T_3dc3d_row3_col14,#T_3dc3d_row3_col15,#T_3dc3d_row3_col16,#T_3dc3d_row3_col17,#T_3dc3d_row3_col18,#T_3dc3d_row3_col19{\n",
       "            color:  green;\n",
       "        }#T_3dc3d_row0_col4,#T_3dc3d_row0_col5,#T_3dc3d_row0_col7,#T_3dc3d_row1_col4,#T_3dc3d_row1_col5,#T_3dc3d_row1_col7,#T_3dc3d_row2_col4,#T_3dc3d_row2_col5,#T_3dc3d_row2_col7,#T_3dc3d_row3_col4,#T_3dc3d_row3_col5,#T_3dc3d_row3_col6,#T_3dc3d_row3_col7,#T_3dc3d_row3_col8,#T_3dc3d_row3_col9,#T_3dc3d_row3_col10,#T_3dc3d_row3_col11{\n",
       "            color:  red;\n",
       "        }</style><table id=\"T_3dc3d_\" ><thead>    <tr>        <th class=\"blank level0\" ></th>        <th class=\"col_heading level0 col0\" >add</th>        <th class=\"col_heading level0 col1\" >subtract</th>        <th class=\"col_heading level0 col2\" >multiply</th>        <th class=\"col_heading level0 col3\" >true_divide</th>        <th class=\"col_heading level0 col4\" >logaddexp</th>        <th class=\"col_heading level0 col5\" >logaddexp2</th>        <th class=\"col_heading level0 col6\" >floor_divide</th>        <th class=\"col_heading level0 col7\" >power</th>        <th class=\"col_heading level0 col8\" >remainder</th>        <th class=\"col_heading level0 col9\" >fmod</th>        <th class=\"col_heading level0 col10\" >arctan2</th>        <th class=\"col_heading level0 col11\" >hypot</th>        <th class=\"col_heading level0 col12\" >greater</th>        <th class=\"col_heading level0 col13\" >greater_equal</th>        <th class=\"col_heading level0 col14\" >less</th>        <th class=\"col_heading level0 col15\" >less_equal</th>        <th class=\"col_heading level0 col16\" >not_equal</th>        <th class=\"col_heading level0 col17\" >equal</th>        <th class=\"col_heading level0 col18\" >maximum</th>        <th class=\"col_heading level0 col19\" >minimum</th>    </tr></thead><tbody>\n",
       "                <tr>\n",
       "                        <th id=\"T_3dc3d_level0_row0\" class=\"row_heading level0 row0\" >astropy.units</th>\n",
       "                        <td id=\"T_3dc3d_row0_col0\" class=\"data row0 col0\" >True</td>\n",
       "                        <td id=\"T_3dc3d_row0_col1\" class=\"data row0 col1\" >True</td>\n",
       "                        <td id=\"T_3dc3d_row0_col2\" class=\"data row0 col2\" >True</td>\n",
       "                        <td id=\"T_3dc3d_row0_col3\" class=\"data row0 col3\" >True</td>\n",
       "                        <td id=\"T_3dc3d_row0_col4\" class=\"data row0 col4\" >False</td>\n",
       "                        <td id=\"T_3dc3d_row0_col5\" class=\"data row0 col5\" >False</td>\n",
       "                        <td id=\"T_3dc3d_row0_col6\" class=\"data row0 col6\" >True</td>\n",
       "                        <td id=\"T_3dc3d_row0_col7\" class=\"data row0 col7\" >False</td>\n",
       "                        <td id=\"T_3dc3d_row0_col8\" class=\"data row0 col8\" >True</td>\n",
       "                        <td id=\"T_3dc3d_row0_col9\" class=\"data row0 col9\" >True</td>\n",
       "                        <td id=\"T_3dc3d_row0_col10\" class=\"data row0 col10\" >True</td>\n",
       "                        <td id=\"T_3dc3d_row0_col11\" class=\"data row0 col11\" >True</td>\n",
       "                        <td id=\"T_3dc3d_row0_col12\" class=\"data row0 col12\" >True</td>\n",
       "                        <td id=\"T_3dc3d_row0_col13\" class=\"data row0 col13\" >True</td>\n",
       "                        <td id=\"T_3dc3d_row0_col14\" class=\"data row0 col14\" >True</td>\n",
       "                        <td id=\"T_3dc3d_row0_col15\" class=\"data row0 col15\" >True</td>\n",
       "                        <td id=\"T_3dc3d_row0_col16\" class=\"data row0 col16\" >True</td>\n",
       "                        <td id=\"T_3dc3d_row0_col17\" class=\"data row0 col17\" >True</td>\n",
       "                        <td id=\"T_3dc3d_row0_col18\" class=\"data row0 col18\" >True</td>\n",
       "                        <td id=\"T_3dc3d_row0_col19\" class=\"data row0 col19\" >True</td>\n",
       "            </tr>\n",
       "            <tr>\n",
       "                        <th id=\"T_3dc3d_level0_row1\" class=\"row_heading level0 row1\" >pint</th>\n",
       "                        <td id=\"T_3dc3d_row1_col0\" class=\"data row1 col0\" >True</td>\n",
       "                        <td id=\"T_3dc3d_row1_col1\" class=\"data row1 col1\" >True</td>\n",
       "                        <td id=\"T_3dc3d_row1_col2\" class=\"data row1 col2\" >True</td>\n",
       "                        <td id=\"T_3dc3d_row1_col3\" class=\"data row1 col3\" >True</td>\n",
       "                        <td id=\"T_3dc3d_row1_col4\" class=\"data row1 col4\" >False</td>\n",
       "                        <td id=\"T_3dc3d_row1_col5\" class=\"data row1 col5\" >False</td>\n",
       "                        <td id=\"T_3dc3d_row1_col6\" class=\"data row1 col6\" >True</td>\n",
       "                        <td id=\"T_3dc3d_row1_col7\" class=\"data row1 col7\" >False</td>\n",
       "                        <td id=\"T_3dc3d_row1_col8\" class=\"data row1 col8\" >True</td>\n",
       "                        <td id=\"T_3dc3d_row1_col9\" class=\"data row1 col9\" >True</td>\n",
       "                        <td id=\"T_3dc3d_row1_col10\" class=\"data row1 col10\" >True</td>\n",
       "                        <td id=\"T_3dc3d_row1_col11\" class=\"data row1 col11\" >True</td>\n",
       "                        <td id=\"T_3dc3d_row1_col12\" class=\"data row1 col12\" >True</td>\n",
       "                        <td id=\"T_3dc3d_row1_col13\" class=\"data row1 col13\" >True</td>\n",
       "                        <td id=\"T_3dc3d_row1_col14\" class=\"data row1 col14\" >True</td>\n",
       "                        <td id=\"T_3dc3d_row1_col15\" class=\"data row1 col15\" >True</td>\n",
       "                        <td id=\"T_3dc3d_row1_col16\" class=\"data row1 col16\" >True</td>\n",
       "                        <td id=\"T_3dc3d_row1_col17\" class=\"data row1 col17\" >True</td>\n",
       "                        <td id=\"T_3dc3d_row1_col18\" class=\"data row1 col18\" >True</td>\n",
       "                        <td id=\"T_3dc3d_row1_col19\" class=\"data row1 col19\" >True</td>\n",
       "            </tr>\n",
       "            <tr>\n",
       "                        <th id=\"T_3dc3d_level0_row2\" class=\"row_heading level0 row2\" >physipy</th>\n",
       "                        <td id=\"T_3dc3d_row2_col0\" class=\"data row2 col0\" >True</td>\n",
       "                        <td id=\"T_3dc3d_row2_col1\" class=\"data row2 col1\" >True</td>\n",
       "                        <td id=\"T_3dc3d_row2_col2\" class=\"data row2 col2\" >True</td>\n",
       "                        <td id=\"T_3dc3d_row2_col3\" class=\"data row2 col3\" >True</td>\n",
       "                        <td id=\"T_3dc3d_row2_col4\" class=\"data row2 col4\" >False</td>\n",
       "                        <td id=\"T_3dc3d_row2_col5\" class=\"data row2 col5\" >False</td>\n",
       "                        <td id=\"T_3dc3d_row2_col6\" class=\"data row2 col6\" >True</td>\n",
       "                        <td id=\"T_3dc3d_row2_col7\" class=\"data row2 col7\" >False</td>\n",
       "                        <td id=\"T_3dc3d_row2_col8\" class=\"data row2 col8\" >True</td>\n",
       "                        <td id=\"T_3dc3d_row2_col9\" class=\"data row2 col9\" >True</td>\n",
       "                        <td id=\"T_3dc3d_row2_col10\" class=\"data row2 col10\" >True</td>\n",
       "                        <td id=\"T_3dc3d_row2_col11\" class=\"data row2 col11\" >True</td>\n",
       "                        <td id=\"T_3dc3d_row2_col12\" class=\"data row2 col12\" >True</td>\n",
       "                        <td id=\"T_3dc3d_row2_col13\" class=\"data row2 col13\" >True</td>\n",
       "                        <td id=\"T_3dc3d_row2_col14\" class=\"data row2 col14\" >True</td>\n",
       "                        <td id=\"T_3dc3d_row2_col15\" class=\"data row2 col15\" >True</td>\n",
       "                        <td id=\"T_3dc3d_row2_col16\" class=\"data row2 col16\" >True</td>\n",
       "                        <td id=\"T_3dc3d_row2_col17\" class=\"data row2 col17\" >True</td>\n",
       "                        <td id=\"T_3dc3d_row2_col18\" class=\"data row2 col18\" >True</td>\n",
       "                        <td id=\"T_3dc3d_row2_col19\" class=\"data row2 col19\" >True</td>\n",
       "            </tr>\n",
       "            <tr>\n",
       "                        <th id=\"T_3dc3d_level0_row3\" class=\"row_heading level0 row3\" >forallpeople</th>\n",
       "                        <td id=\"T_3dc3d_row3_col0\" class=\"data row3 col0\" >True</td>\n",
       "                        <td id=\"T_3dc3d_row3_col1\" class=\"data row3 col1\" >True</td>\n",
       "                        <td id=\"T_3dc3d_row3_col2\" class=\"data row3 col2\" >True</td>\n",
       "                        <td id=\"T_3dc3d_row3_col3\" class=\"data row3 col3\" >True</td>\n",
       "                        <td id=\"T_3dc3d_row3_col4\" class=\"data row3 col4\" >False</td>\n",
       "                        <td id=\"T_3dc3d_row3_col5\" class=\"data row3 col5\" >False</td>\n",
       "                        <td id=\"T_3dc3d_row3_col6\" class=\"data row3 col6\" >False</td>\n",
       "                        <td id=\"T_3dc3d_row3_col7\" class=\"data row3 col7\" >False</td>\n",
       "                        <td id=\"T_3dc3d_row3_col8\" class=\"data row3 col8\" >False</td>\n",
       "                        <td id=\"T_3dc3d_row3_col9\" class=\"data row3 col9\" >False</td>\n",
       "                        <td id=\"T_3dc3d_row3_col10\" class=\"data row3 col10\" >False</td>\n",
       "                        <td id=\"T_3dc3d_row3_col11\" class=\"data row3 col11\" >False</td>\n",
       "                        <td id=\"T_3dc3d_row3_col12\" class=\"data row3 col12\" >True</td>\n",
       "                        <td id=\"T_3dc3d_row3_col13\" class=\"data row3 col13\" >True</td>\n",
       "                        <td id=\"T_3dc3d_row3_col14\" class=\"data row3 col14\" >True</td>\n",
       "                        <td id=\"T_3dc3d_row3_col15\" class=\"data row3 col15\" >True</td>\n",
       "                        <td id=\"T_3dc3d_row3_col16\" class=\"data row3 col16\" >True</td>\n",
       "                        <td id=\"T_3dc3d_row3_col17\" class=\"data row3 col17\" >True</td>\n",
       "                        <td id=\"T_3dc3d_row3_col18\" class=\"data row3 col18\" >True</td>\n",
       "                        <td id=\"T_3dc3d_row3_col19\" class=\"data row3 col19\" >True</td>\n",
       "            </tr>\n",
       "    </tbody></table>"
      ],
      "text/plain": [
       "<pandas.io.formats.style.Styler at 0x11e979520>"
      ]
     },
     "execution_count": 16,
     "metadata": {},
     "output_type": "execute_result"
    }
   ],
   "source": [
    "results['compatibility']['binary_compatible_ufuncs']"
   ]
  },
  {
   "cell_type": "code",
   "execution_count": 17,
   "metadata": {
    "collapsed": false,
    "jupyter": {
     "outputs_hidden": false
    }
   },
   "outputs": [
    {
     "data": {
      "text/html": [
       "<style  type=\"text/css\" >\n",
       "#T_d2a1e_row0_col0,#T_d2a1e_row0_col1,#T_d2a1e_row0_col4,#T_d2a1e_row0_col5,#T_d2a1e_row0_col6,#T_d2a1e_row0_col7,#T_d2a1e_row0_col8,#T_d2a1e_row0_col9,#T_d2a1e_row0_col10,#T_d2a1e_row0_col11,#T_d2a1e_row0_col12,#T_d2a1e_row0_col13,#T_d2a1e_row0_col14,#T_d2a1e_row0_col15,#T_d2a1e_row0_col16,#T_d2a1e_row0_col17,#T_d2a1e_row0_col18,#T_d2a1e_row0_col19,#T_d2a1e_row1_col0,#T_d2a1e_row1_col1,#T_d2a1e_row1_col4,#T_d2a1e_row1_col5,#T_d2a1e_row1_col7,#T_d2a1e_row1_col10,#T_d2a1e_row1_col11,#T_d2a1e_row1_col12,#T_d2a1e_row1_col13,#T_d2a1e_row1_col14,#T_d2a1e_row1_col15,#T_d2a1e_row1_col16,#T_d2a1e_row1_col17,#T_d2a1e_row1_col18,#T_d2a1e_row1_col19,#T_d2a1e_row2_col0,#T_d2a1e_row2_col1,#T_d2a1e_row2_col4,#T_d2a1e_row2_col5,#T_d2a1e_row2_col6,#T_d2a1e_row2_col7,#T_d2a1e_row2_col8,#T_d2a1e_row2_col9,#T_d2a1e_row2_col10,#T_d2a1e_row2_col11,#T_d2a1e_row2_col12,#T_d2a1e_row2_col13,#T_d2a1e_row2_col14,#T_d2a1e_row2_col15,#T_d2a1e_row2_col16,#T_d2a1e_row2_col17,#T_d2a1e_row2_col18,#T_d2a1e_row2_col19,#T_d2a1e_row3_col0,#T_d2a1e_row3_col1,#T_d2a1e_row3_col4,#T_d2a1e_row3_col5,#T_d2a1e_row3_col6,#T_d2a1e_row3_col7,#T_d2a1e_row3_col8,#T_d2a1e_row3_col9,#T_d2a1e_row3_col10,#T_d2a1e_row3_col11,#T_d2a1e_row3_col12,#T_d2a1e_row3_col13,#T_d2a1e_row3_col14,#T_d2a1e_row3_col15,#T_d2a1e_row3_col16,#T_d2a1e_row3_col17,#T_d2a1e_row3_col18,#T_d2a1e_row3_col19{\n",
       "            color:  red;\n",
       "        }#T_d2a1e_row0_col2,#T_d2a1e_row0_col3,#T_d2a1e_row1_col2,#T_d2a1e_row1_col3,#T_d2a1e_row1_col6,#T_d2a1e_row1_col8,#T_d2a1e_row1_col9,#T_d2a1e_row2_col2,#T_d2a1e_row2_col3,#T_d2a1e_row3_col2,#T_d2a1e_row3_col3{\n",
       "            color:  green;\n",
       "        }</style><table id=\"T_d2a1e_\" ><thead>    <tr>        <th class=\"blank level0\" ></th>        <th class=\"col_heading level0 col0\" >add</th>        <th class=\"col_heading level0 col1\" >subtract</th>        <th class=\"col_heading level0 col2\" >multiply</th>        <th class=\"col_heading level0 col3\" >true_divide</th>        <th class=\"col_heading level0 col4\" >logaddexp</th>        <th class=\"col_heading level0 col5\" >logaddexp2</th>        <th class=\"col_heading level0 col6\" >floor_divide</th>        <th class=\"col_heading level0 col7\" >power</th>        <th class=\"col_heading level0 col8\" >remainder</th>        <th class=\"col_heading level0 col9\" >fmod</th>        <th class=\"col_heading level0 col10\" >arctan2</th>        <th class=\"col_heading level0 col11\" >hypot</th>        <th class=\"col_heading level0 col12\" >greater</th>        <th class=\"col_heading level0 col13\" >greater_equal</th>        <th class=\"col_heading level0 col14\" >less</th>        <th class=\"col_heading level0 col15\" >less_equal</th>        <th class=\"col_heading level0 col16\" >not_equal</th>        <th class=\"col_heading level0 col17\" >equal</th>        <th class=\"col_heading level0 col18\" >maximum</th>        <th class=\"col_heading level0 col19\" >minimum</th>    </tr></thead><tbody>\n",
       "                <tr>\n",
       "                        <th id=\"T_d2a1e_level0_row0\" class=\"row_heading level0 row0\" >astropy.units</th>\n",
       "                        <td id=\"T_d2a1e_row0_col0\" class=\"data row0 col0\" >False</td>\n",
       "                        <td id=\"T_d2a1e_row0_col1\" class=\"data row0 col1\" >False</td>\n",
       "                        <td id=\"T_d2a1e_row0_col2\" class=\"data row0 col2\" >True</td>\n",
       "                        <td id=\"T_d2a1e_row0_col3\" class=\"data row0 col3\" >True</td>\n",
       "                        <td id=\"T_d2a1e_row0_col4\" class=\"data row0 col4\" >False</td>\n",
       "                        <td id=\"T_d2a1e_row0_col5\" class=\"data row0 col5\" >False</td>\n",
       "                        <td id=\"T_d2a1e_row0_col6\" class=\"data row0 col6\" >False</td>\n",
       "                        <td id=\"T_d2a1e_row0_col7\" class=\"data row0 col7\" >False</td>\n",
       "                        <td id=\"T_d2a1e_row0_col8\" class=\"data row0 col8\" >False</td>\n",
       "                        <td id=\"T_d2a1e_row0_col9\" class=\"data row0 col9\" >False</td>\n",
       "                        <td id=\"T_d2a1e_row0_col10\" class=\"data row0 col10\" >False</td>\n",
       "                        <td id=\"T_d2a1e_row0_col11\" class=\"data row0 col11\" >False</td>\n",
       "                        <td id=\"T_d2a1e_row0_col12\" class=\"data row0 col12\" >False</td>\n",
       "                        <td id=\"T_d2a1e_row0_col13\" class=\"data row0 col13\" >False</td>\n",
       "                        <td id=\"T_d2a1e_row0_col14\" class=\"data row0 col14\" >False</td>\n",
       "                        <td id=\"T_d2a1e_row0_col15\" class=\"data row0 col15\" >False</td>\n",
       "                        <td id=\"T_d2a1e_row0_col16\" class=\"data row0 col16\" >False</td>\n",
       "                        <td id=\"T_d2a1e_row0_col17\" class=\"data row0 col17\" >False</td>\n",
       "                        <td id=\"T_d2a1e_row0_col18\" class=\"data row0 col18\" >False</td>\n",
       "                        <td id=\"T_d2a1e_row0_col19\" class=\"data row0 col19\" >False</td>\n",
       "            </tr>\n",
       "            <tr>\n",
       "                        <th id=\"T_d2a1e_level0_row1\" class=\"row_heading level0 row1\" >pint</th>\n",
       "                        <td id=\"T_d2a1e_row1_col0\" class=\"data row1 col0\" >False</td>\n",
       "                        <td id=\"T_d2a1e_row1_col1\" class=\"data row1 col1\" >False</td>\n",
       "                        <td id=\"T_d2a1e_row1_col2\" class=\"data row1 col2\" >True</td>\n",
       "                        <td id=\"T_d2a1e_row1_col3\" class=\"data row1 col3\" >True</td>\n",
       "                        <td id=\"T_d2a1e_row1_col4\" class=\"data row1 col4\" >False</td>\n",
       "                        <td id=\"T_d2a1e_row1_col5\" class=\"data row1 col5\" >False</td>\n",
       "                        <td id=\"T_d2a1e_row1_col6\" class=\"data row1 col6\" >True</td>\n",
       "                        <td id=\"T_d2a1e_row1_col7\" class=\"data row1 col7\" >False</td>\n",
       "                        <td id=\"T_d2a1e_row1_col8\" class=\"data row1 col8\" >True</td>\n",
       "                        <td id=\"T_d2a1e_row1_col9\" class=\"data row1 col9\" >True</td>\n",
       "                        <td id=\"T_d2a1e_row1_col10\" class=\"data row1 col10\" >False</td>\n",
       "                        <td id=\"T_d2a1e_row1_col11\" class=\"data row1 col11\" >False</td>\n",
       "                        <td id=\"T_d2a1e_row1_col12\" class=\"data row1 col12\" >False</td>\n",
       "                        <td id=\"T_d2a1e_row1_col13\" class=\"data row1 col13\" >False</td>\n",
       "                        <td id=\"T_d2a1e_row1_col14\" class=\"data row1 col14\" >False</td>\n",
       "                        <td id=\"T_d2a1e_row1_col15\" class=\"data row1 col15\" >False</td>\n",
       "                        <td id=\"T_d2a1e_row1_col16\" class=\"data row1 col16\" >False</td>\n",
       "                        <td id=\"T_d2a1e_row1_col17\" class=\"data row1 col17\" >False</td>\n",
       "                        <td id=\"T_d2a1e_row1_col18\" class=\"data row1 col18\" >False</td>\n",
       "                        <td id=\"T_d2a1e_row1_col19\" class=\"data row1 col19\" >False</td>\n",
       "            </tr>\n",
       "            <tr>\n",
       "                        <th id=\"T_d2a1e_level0_row2\" class=\"row_heading level0 row2\" >physipy</th>\n",
       "                        <td id=\"T_d2a1e_row2_col0\" class=\"data row2 col0\" >False</td>\n",
       "                        <td id=\"T_d2a1e_row2_col1\" class=\"data row2 col1\" >False</td>\n",
       "                        <td id=\"T_d2a1e_row2_col2\" class=\"data row2 col2\" >True</td>\n",
       "                        <td id=\"T_d2a1e_row2_col3\" class=\"data row2 col3\" >True</td>\n",
       "                        <td id=\"T_d2a1e_row2_col4\" class=\"data row2 col4\" >False</td>\n",
       "                        <td id=\"T_d2a1e_row2_col5\" class=\"data row2 col5\" >False</td>\n",
       "                        <td id=\"T_d2a1e_row2_col6\" class=\"data row2 col6\" >False</td>\n",
       "                        <td id=\"T_d2a1e_row2_col7\" class=\"data row2 col7\" >False</td>\n",
       "                        <td id=\"T_d2a1e_row2_col8\" class=\"data row2 col8\" >False</td>\n",
       "                        <td id=\"T_d2a1e_row2_col9\" class=\"data row2 col9\" >False</td>\n",
       "                        <td id=\"T_d2a1e_row2_col10\" class=\"data row2 col10\" >False</td>\n",
       "                        <td id=\"T_d2a1e_row2_col11\" class=\"data row2 col11\" >False</td>\n",
       "                        <td id=\"T_d2a1e_row2_col12\" class=\"data row2 col12\" >False</td>\n",
       "                        <td id=\"T_d2a1e_row2_col13\" class=\"data row2 col13\" >False</td>\n",
       "                        <td id=\"T_d2a1e_row2_col14\" class=\"data row2 col14\" >False</td>\n",
       "                        <td id=\"T_d2a1e_row2_col15\" class=\"data row2 col15\" >False</td>\n",
       "                        <td id=\"T_d2a1e_row2_col16\" class=\"data row2 col16\" >False</td>\n",
       "                        <td id=\"T_d2a1e_row2_col17\" class=\"data row2 col17\" >False</td>\n",
       "                        <td id=\"T_d2a1e_row2_col18\" class=\"data row2 col18\" >False</td>\n",
       "                        <td id=\"T_d2a1e_row2_col19\" class=\"data row2 col19\" >False</td>\n",
       "            </tr>\n",
       "            <tr>\n",
       "                        <th id=\"T_d2a1e_level0_row3\" class=\"row_heading level0 row3\" >forallpeople</th>\n",
       "                        <td id=\"T_d2a1e_row3_col0\" class=\"data row3 col0\" >False</td>\n",
       "                        <td id=\"T_d2a1e_row3_col1\" class=\"data row3 col1\" >False</td>\n",
       "                        <td id=\"T_d2a1e_row3_col2\" class=\"data row3 col2\" >True</td>\n",
       "                        <td id=\"T_d2a1e_row3_col3\" class=\"data row3 col3\" >True</td>\n",
       "                        <td id=\"T_d2a1e_row3_col4\" class=\"data row3 col4\" >False</td>\n",
       "                        <td id=\"T_d2a1e_row3_col5\" class=\"data row3 col5\" >False</td>\n",
       "                        <td id=\"T_d2a1e_row3_col6\" class=\"data row3 col6\" >False</td>\n",
       "                        <td id=\"T_d2a1e_row3_col7\" class=\"data row3 col7\" >False</td>\n",
       "                        <td id=\"T_d2a1e_row3_col8\" class=\"data row3 col8\" >False</td>\n",
       "                        <td id=\"T_d2a1e_row3_col9\" class=\"data row3 col9\" >False</td>\n",
       "                        <td id=\"T_d2a1e_row3_col10\" class=\"data row3 col10\" >False</td>\n",
       "                        <td id=\"T_d2a1e_row3_col11\" class=\"data row3 col11\" >False</td>\n",
       "                        <td id=\"T_d2a1e_row3_col12\" class=\"data row3 col12\" >False</td>\n",
       "                        <td id=\"T_d2a1e_row3_col13\" class=\"data row3 col13\" >False</td>\n",
       "                        <td id=\"T_d2a1e_row3_col14\" class=\"data row3 col14\" >False</td>\n",
       "                        <td id=\"T_d2a1e_row3_col15\" class=\"data row3 col15\" >False</td>\n",
       "                        <td id=\"T_d2a1e_row3_col16\" class=\"data row3 col16\" >False</td>\n",
       "                        <td id=\"T_d2a1e_row3_col17\" class=\"data row3 col17\" >False</td>\n",
       "                        <td id=\"T_d2a1e_row3_col18\" class=\"data row3 col18\" >False</td>\n",
       "                        <td id=\"T_d2a1e_row3_col19\" class=\"data row3 col19\" >False</td>\n",
       "            </tr>\n",
       "    </tbody></table>"
      ],
      "text/plain": [
       "<pandas.io.formats.style.Styler at 0x11e979580>"
      ]
     },
     "execution_count": 17,
     "metadata": {},
     "output_type": "execute_result"
    }
   ],
   "source": [
    "results['compatibility']['binary_different_ufuncs']"
   ]
  },
  {
   "cell_type": "code",
   "execution_count": 13,
   "metadata": {
    "collapsed": false,
    "jupyter": {
     "outputs_hidden": false
    }
   },
   "outputs": [
    {
     "data": {
      "text/html": [
       "<style type=\"text/css\">\n",
       "#T_f4966_row0_col0, #T_f4966_row0_col1, #T_f4966_row0_col2, #T_f4966_row0_col3, #T_f4966_row0_col4, #T_f4966_row0_col5, #T_f4966_row0_col6, #T_f4966_row1_col0, #T_f4966_row1_col1, #T_f4966_row1_col2, #T_f4966_row1_col3, #T_f4966_row1_col4, #T_f4966_row1_col5, #T_f4966_row1_col6, #T_f4966_row2_col0, #T_f4966_row2_col1, #T_f4966_row2_col2, #T_f4966_row2_col3, #T_f4966_row2_col4, #T_f4966_row2_col5, #T_f4966_row2_col6, #T_f4966_row3_col0, #T_f4966_row3_col1, #T_f4966_row3_col2, #T_f4966_row3_col3, #T_f4966_row3_col4, #T_f4966_row3_col6 {\n",
       "  color: green;\n",
       "}\n",
       "#T_f4966_row3_col5 {\n",
       "  color: red;\n",
       "}\n",
       "</style>\n",
       "<table id=\"T_f4966_\">\n",
       "  <thead>\n",
       "    <tr>\n",
       "      <th class=\"blank level0\" >&nbsp;</th>\n",
       "      <th class=\"col_heading level0 col0\" >where</th>\n",
       "      <th class=\"col_heading level0 col1\" >sort</th>\n",
       "      <th class=\"col_heading level0 col2\" >argsort</th>\n",
       "      <th class=\"col_heading level0 col3\" >concatenate</th>\n",
       "      <th class=\"col_heading level0 col4\" >mean</th>\n",
       "      <th class=\"col_heading level0 col5\" >std</th>\n",
       "      <th class=\"col_heading level0 col6\" >median</th>\n",
       "    </tr>\n",
       "  </thead>\n",
       "  <tbody>\n",
       "    <tr>\n",
       "      <th id=\"T_f4966_level0_row0\" class=\"row_heading level0 row0\" >astropy.units</th>\n",
       "      <td id=\"T_f4966_row0_col0\" class=\"data row0 col0\" >True</td>\n",
       "      <td id=\"T_f4966_row0_col1\" class=\"data row0 col1\" >True</td>\n",
       "      <td id=\"T_f4966_row0_col2\" class=\"data row0 col2\" >True</td>\n",
       "      <td id=\"T_f4966_row0_col3\" class=\"data row0 col3\" >True</td>\n",
       "      <td id=\"T_f4966_row0_col4\" class=\"data row0 col4\" >True</td>\n",
       "      <td id=\"T_f4966_row0_col5\" class=\"data row0 col5\" >True</td>\n",
       "      <td id=\"T_f4966_row0_col6\" class=\"data row0 col6\" >True</td>\n",
       "    </tr>\n",
       "    <tr>\n",
       "      <th id=\"T_f4966_level0_row1\" class=\"row_heading level0 row1\" >pint</th>\n",
       "      <td id=\"T_f4966_row1_col0\" class=\"data row1 col0\" >True</td>\n",
       "      <td id=\"T_f4966_row1_col1\" class=\"data row1 col1\" >True</td>\n",
       "      <td id=\"T_f4966_row1_col2\" class=\"data row1 col2\" >True</td>\n",
       "      <td id=\"T_f4966_row1_col3\" class=\"data row1 col3\" >True</td>\n",
       "      <td id=\"T_f4966_row1_col4\" class=\"data row1 col4\" >True</td>\n",
       "      <td id=\"T_f4966_row1_col5\" class=\"data row1 col5\" >True</td>\n",
       "      <td id=\"T_f4966_row1_col6\" class=\"data row1 col6\" >True</td>\n",
       "    </tr>\n",
       "    <tr>\n",
       "      <th id=\"T_f4966_level0_row2\" class=\"row_heading level0 row2\" >physipy</th>\n",
       "      <td id=\"T_f4966_row2_col0\" class=\"data row2 col0\" >True</td>\n",
       "      <td id=\"T_f4966_row2_col1\" class=\"data row2 col1\" >True</td>\n",
       "      <td id=\"T_f4966_row2_col2\" class=\"data row2 col2\" >True</td>\n",
       "      <td id=\"T_f4966_row2_col3\" class=\"data row2 col3\" >True</td>\n",
       "      <td id=\"T_f4966_row2_col4\" class=\"data row2 col4\" >True</td>\n",
       "      <td id=\"T_f4966_row2_col5\" class=\"data row2 col5\" >True</td>\n",
       "      <td id=\"T_f4966_row2_col6\" class=\"data row2 col6\" >True</td>\n",
       "    </tr>\n",
       "    <tr>\n",
       "      <th id=\"T_f4966_level0_row3\" class=\"row_heading level0 row3\" >forallpeople</th>\n",
       "      <td id=\"T_f4966_row3_col0\" class=\"data row3 col0\" >True</td>\n",
       "      <td id=\"T_f4966_row3_col1\" class=\"data row3 col1\" >True</td>\n",
       "      <td id=\"T_f4966_row3_col2\" class=\"data row3 col2\" >True</td>\n",
       "      <td id=\"T_f4966_row3_col3\" class=\"data row3 col3\" >True</td>\n",
       "      <td id=\"T_f4966_row3_col4\" class=\"data row3 col4\" >True</td>\n",
       "      <td id=\"T_f4966_row3_col5\" class=\"data row3 col5\" >False</td>\n",
       "      <td id=\"T_f4966_row3_col6\" class=\"data row3 col6\" >True</td>\n",
       "    </tr>\n",
       "  </tbody>\n",
       "</table>\n"
      ],
      "text/plain": [
       "<pandas.io.formats.style.Styler at 0x12125af10>"
      ]
     },
     "execution_count": 13,
     "metadata": {},
     "output_type": "execute_result"
    }
   ],
   "source": [
    "results['compatibility']['other_numpy']"
   ]
  },
  {
   "cell_type": "code",
   "execution_count": 14,
   "metadata": {
    "collapsed": false,
    "jupyter": {
     "outputs_hidden": false
    }
   },
   "outputs": [
    {
     "data": {
      "text/plain": [
       "<AxesSubplot:>"
      ]
     },
     "execution_count": 14,
     "metadata": {},
     "output_type": "execute_result"
    },
    {
     "data": {
      "image/png": "[encoded data removed]",
      "text/plain": [
       "<Figure size 432x288 with 1 Axes>"
      ]
     },
     "metadata": {
      "needs_background": "light"
     },
     "output_type": "display_data"
    }
   ],
   "source": [
    "results['speed']['mean'].sort_index(ascending=False).plot(kind='barh')"
   ]
  },
  {
   "cell_type": "code",
   "execution_count": 15,
   "metadata": {
    "collapsed": false,
    "jupyter": {
     "outputs_hidden": false
    }
   },
   "outputs": [
    {
     "data": {
      "text/plain": [
       "<AxesSubplot:>"
      ]
     },
     "execution_count": 15,
     "metadata": {},
     "output_type": "execute_result"
    },
    {
     "data": {
      "image/png": "[encoded data removed]",
      "text/plain": [
       "<Figure size 432x288 with 1 Axes>"
      ]
     },
     "metadata": {
      "needs_background": "light"
     },
     "output_type": "display_data"
    }
   ],
   "source": [
    "results['speed']['std'].sort_index(ascending=False).plot(kind='barh')"
   ]
  },
  {
   "cell_type": "code",
   "execution_count": 16,
   "metadata": {
    "collapsed": false,
    "jupyter": {
     "outputs_hidden": false
    }
   },
   "outputs": [
    {
     "data": {
      "text/plain": [
       "<AxesSubplot:>"
      ]
     },
     "execution_count": 16,
     "metadata": {},
     "output_type": "execute_result"
    },
    {
     "data": {
      "image/png": "[encoded data removed]",
      "text/plain": [
       "<Figure size 432x288 with 1 Axes>"
      ]
     },
     "metadata": {
      "needs_background": "light"
     },
     "output_type": "display_data"
    }
   ],
   "source": [
    "results['speed']['np_rel'].sort_index(ascending=False).plot(kind='barh')"
   ]
  },
  {
   "cell_type": "code",
   "execution_count": null,
   "metadata": {},
   "outputs": [],
   "source": []
  },
  {
   "cell_type": "code",
   "execution_count": null,
   "metadata": {},
   "outputs": [],
   "source": []
  }
 ],
 "metadata": {
  "kernelspec": {
   "display_name": "Python 3 (ipykernel)",
   "language": "python",
   "name": "python3"
  },
  "language_info": {
   "codemirror_mode": {
    "name": "ipython",
    "version": 3
   },
   "file_extension": ".py",
   "mimetype": "text/x-python",
   "name": "python",
   "nbconvert_exporter": "python",
   "pygments_lexer": "ipython3",
   "version": "3.8.5"
  }
 },
 "nbformat": 4,
 "nbformat_minor": 4
}
