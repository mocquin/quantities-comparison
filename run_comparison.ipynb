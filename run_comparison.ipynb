{
 "cells": [
  {
   "cell_type": "code",
   "execution_count": 1,
   "metadata": {},
   "outputs": [],
   "source": [
    "import sys\n",
    "sys.path.append(r\"/Users/mocquin/MYLIB10/MODULES/quantities-comparison/\")"
   ]
  },
  {
   "cell_type": "code",
   "execution_count": 2,
   "metadata": {
    "collapsed": false,
    "jupyter": {
     "outputs_hidden": false
    }
   },
   "outputs": [],
   "source": [
    "%matplotlib inline"
   ]
  },
  {
   "cell_type": "code",
   "execution_count": 3,
   "metadata": {
    "collapsed": false,
    "jupyter": {
     "outputs_hidden": false
    }
   },
   "outputs": [
    {
     "name": "stdout",
     "output_type": "stream",
     "text": [
      "BenchAstropy\n",
      "BenchPint\n",
      "BenchPhysipy\n",
      "BenchForallpeople\n"
     ]
    }
   ],
   "source": [
    "import run_comparison\n",
    "results = run_comparison.get_pandas()"
   ]
  },
  {
   "cell_type": "code",
   "execution_count": 4,
   "metadata": {
    "collapsed": false,
    "jupyter": {
     "outputs_hidden": false
    }
   },
   "outputs": [
    {
     "data": {
      "text/html": [
       "<div>\n",
       "<style scoped>\n",
       "    .dataframe tbody tr th:only-of-type {\n",
       "        vertical-align: middle;\n",
       "    }\n",
       "\n",
       "    .dataframe tbody tr th {\n",
       "        vertical-align: top;\n",
       "    }\n",
       "\n",
       "    .dataframe thead th {\n",
       "        text-align: right;\n",
       "    }\n",
       "</style>\n",
       "<table border=\"1\" class=\"dataframe\">\n",
       "  <thead>\n",
       "    <tr style=\"text-align: right;\">\n",
       "      <th></th>\n",
       "      <th>LOC</th>\n",
       "      <th>First release</th>\n",
       "      <th>Most recent release</th>\n",
       "      <th>Implementation</th>\n",
       "      <th>URL</th>\n",
       "      <th>PyPI</th>\n",
       "    </tr>\n",
       "  </thead>\n",
       "  <tbody>\n",
       "    <tr>\n",
       "      <th>astropy.units</th>\n",
       "      <td>3448</td>\n",
       "      <td>2013-01</td>\n",
       "      <td>2013-05</td>\n",
       "      <td>Container</td>\n",
       "      <td>https://astropy.readthedocs.org/en/latest/unit...</td>\n",
       "      <td>astropy</td>\n",
       "    </tr>\n",
       "    <tr>\n",
       "      <th>pint</th>\n",
       "      <td>2914</td>\n",
       "      <td>2012-07</td>\n",
       "      <td>2014-02</td>\n",
       "      <td>Container</td>\n",
       "      <td>https://pint.readthedocs.org/en/latest/</td>\n",
       "      <td>pint</td>\n",
       "    </tr>\n",
       "    <tr>\n",
       "      <th>physipy</th>\n",
       "      <td>0</td>\n",
       "      <td>20XX-XX</td>\n",
       "      <td>20XX-XX</td>\n",
       "      <td>Container?</td>\n",
       "      <td></td>\n",
       "      <td>physipy</td>\n",
       "    </tr>\n",
       "    <tr>\n",
       "      <th>forallpeople</th>\n",
       "      <td>0</td>\n",
       "      <td>20XX-XX</td>\n",
       "      <td>20XX-XX</td>\n",
       "      <td>Container?</td>\n",
       "      <td></td>\n",
       "      <td>forallpeople</td>\n",
       "    </tr>\n",
       "  </tbody>\n",
       "</table>\n",
       "</div>"
      ],
      "text/plain": [
       "                LOC First release Most recent release Implementation  \\\n",
       "astropy.units  3448       2013-01             2013-05      Container   \n",
       "pint           2914       2012-07             2014-02      Container   \n",
       "physipy           0       20XX-XX             20XX-XX     Container?   \n",
       "forallpeople      0       20XX-XX             20XX-XX     Container?   \n",
       "\n",
       "                                                             URL          PyPI  \n",
       "astropy.units  https://astropy.readthedocs.org/en/latest/unit...       astropy  \n",
       "pint                     https://pint.readthedocs.org/en/latest/          pint  \n",
       "physipy                                                                physipy  \n",
       "forallpeople                                                      forallpeople  "
      ]
     },
     "execution_count": 4,
     "metadata": {},
     "output_type": "execute_result"
    }
   ],
   "source": [
    "results['facts']"
   ]
  },
  {
   "cell_type": "code",
   "execution_count": 5,
   "metadata": {
    "collapsed": false,
    "jupyter": {
     "outputs_hidden": false
    }
   },
   "outputs": [
    {
     "data": {
      "text/html": [
       "<div>\n",
       "<style scoped>\n",
       "    .dataframe tbody tr th:only-of-type {\n",
       "        vertical-align: middle;\n",
       "    }\n",
       "\n",
       "    .dataframe tbody tr th {\n",
       "        vertical-align: top;\n",
       "    }\n",
       "\n",
       "    .dataframe thead th {\n",
       "        text-align: right;\n",
       "    }\n",
       "</style>\n",
       "<table border=\"1\" class=\"dataframe\">\n",
       "  <thead>\n",
       "    <tr style=\"text-align: right;\">\n",
       "      <th></th>\n",
       "      <th>make</th>\n",
       "      <th>print</th>\n",
       "    </tr>\n",
       "  </thead>\n",
       "  <tbody>\n",
       "    <tr>\n",
       "      <th>astropy.units</th>\n",
       "      <td>multiply</td>\n",
       "      <td>5.0 m</td>\n",
       "    </tr>\n",
       "    <tr>\n",
       "      <th>pint</th>\n",
       "      <td>multiply</td>\n",
       "      <td>5.0 meter</td>\n",
       "    </tr>\n",
       "    <tr>\n",
       "      <th>physipy</th>\n",
       "      <td>multiply</td>\n",
       "      <td>5.0 m</td>\n",
       "    </tr>\n",
       "    <tr>\n",
       "      <th>forallpeople</th>\n",
       "      <td>multiply</td>\n",
       "      <td>5.000 m</td>\n",
       "    </tr>\n",
       "  </tbody>\n",
       "</table>\n",
       "</div>"
      ],
      "text/plain": [
       "                   make      print\n",
       "astropy.units  multiply      5.0 m\n",
       "pint           multiply  5.0 meter\n",
       "physipy        multiply      5.0 m\n",
       "forallpeople   multiply    5.000 m"
      ]
     },
     "execution_count": 5,
     "metadata": {},
     "output_type": "execute_result"
    }
   ],
   "source": [
    "results['syntax']"
   ]
  },
  {
   "cell_type": "code",
   "execution_count": 6,
   "metadata": {
    "collapsed": false,
    "jupyter": {
     "outputs_hidden": false
    }
   },
   "outputs": [
    {
     "data": {
      "text/html": [
       "<style  type=\"text/css\" >\n",
       "#T_a101173c_abe9_11eb_9a48_9801a79b2aadrow0_col0,#T_a101173c_abe9_11eb_9a48_9801a79b2aadrow0_col1,#T_a101173c_abe9_11eb_9a48_9801a79b2aadrow1_col0,#T_a101173c_abe9_11eb_9a48_9801a79b2aadrow1_col1,#T_a101173c_abe9_11eb_9a48_9801a79b2aadrow2_col0,#T_a101173c_abe9_11eb_9a48_9801a79b2aadrow2_col1{\n",
       "            color:  green;\n",
       "        }#T_a101173c_abe9_11eb_9a48_9801a79b2aadrow3_col0,#T_a101173c_abe9_11eb_9a48_9801a79b2aadrow3_col1{\n",
       "            color:  red;\n",
       "        }</style><table id=\"T_a101173c_abe9_11eb_9a48_9801a79b2aad\" ><thead>    <tr>        <th class=\"blank level0\" ></th>        <th class=\"col_heading level0 col0\" >print</th>        <th class=\"col_heading level0 col1\" >shape</th>    </tr></thead><tbody>\n",
       "                <tr>\n",
       "                        <th id=\"T_a101173c_abe9_11eb_9a48_9801a79b2aadlevel0_row0\" class=\"row_heading level0 row0\" >astropy.units</th>\n",
       "                        <td id=\"T_a101173c_abe9_11eb_9a48_9801a79b2aadrow0_col0\" class=\"data row0 col0\" >[ 5. 10.] m</td>\n",
       "                        <td id=\"T_a101173c_abe9_11eb_9a48_9801a79b2aadrow0_col1\" class=\"data row0 col1\" >(2,)</td>\n",
       "            </tr>\n",
       "            <tr>\n",
       "                        <th id=\"T_a101173c_abe9_11eb_9a48_9801a79b2aadlevel0_row1\" class=\"row_heading level0 row1\" >pint</th>\n",
       "                        <td id=\"T_a101173c_abe9_11eb_9a48_9801a79b2aadrow1_col0\" class=\"data row1 col0\" >[5.0 10.0] meter</td>\n",
       "                        <td id=\"T_a101173c_abe9_11eb_9a48_9801a79b2aadrow1_col1\" class=\"data row1 col1\" >(2,)</td>\n",
       "            </tr>\n",
       "            <tr>\n",
       "                        <th id=\"T_a101173c_abe9_11eb_9a48_9801a79b2aadlevel0_row2\" class=\"row_heading level0 row2\" >physipy</th>\n",
       "                        <td id=\"T_a101173c_abe9_11eb_9a48_9801a79b2aadrow2_col0\" class=\"data row2 col0\" >[ 5. 10.] m</td>\n",
       "                        <td id=\"T_a101173c_abe9_11eb_9a48_9801a79b2aadrow2_col1\" class=\"data row2 col1\" >(2,)</td>\n",
       "            </tr>\n",
       "            <tr>\n",
       "                        <th id=\"T_a101173c_abe9_11eb_9a48_9801a79b2aadlevel0_row3\" class=\"row_heading level0 row3\" >forallpeople</th>\n",
       "                        <td id=\"T_a101173c_abe9_11eb_9a48_9801a79b2aadrow3_col0\" class=\"data row3 col0\" >False</td>\n",
       "                        <td id=\"T_a101173c_abe9_11eb_9a48_9801a79b2aadrow3_col1\" class=\"data row3 col1\" >False</td>\n",
       "            </tr>\n",
       "    </tbody></table>"
      ],
      "text/plain": [
       "<pandas.io.formats.style.Styler at 0x1219f0b50>"
      ]
     },
     "execution_count": 6,
     "metadata": {},
     "output_type": "execute_result"
    }
   ],
   "source": [
    "results['compatibility']['syntax']"
   ]
  },
  {
   "cell_type": "code",
   "execution_count": 7,
   "metadata": {
    "collapsed": false,
    "jupyter": {
     "outputs_hidden": false
    }
   },
   "outputs": [
    {
     "data": {
      "text/html": [
       "<style  type=\"text/css\" >\n",
       "#T_a3a68b7a_abe9_11eb_9a48_9801a79b2aadrow0_col0,#T_a3a68b7a_abe9_11eb_9a48_9801a79b2aadrow0_col1,#T_a3a68b7a_abe9_11eb_9a48_9801a79b2aadrow0_col2,#T_a3a68b7a_abe9_11eb_9a48_9801a79b2aadrow1_col0,#T_a3a68b7a_abe9_11eb_9a48_9801a79b2aadrow1_col1,#T_a3a68b7a_abe9_11eb_9a48_9801a79b2aadrow1_col2,#T_a3a68b7a_abe9_11eb_9a48_9801a79b2aadrow2_col0,#T_a3a68b7a_abe9_11eb_9a48_9801a79b2aadrow2_col1,#T_a3a68b7a_abe9_11eb_9a48_9801a79b2aadrow2_col2,#T_a3a68b7a_abe9_11eb_9a48_9801a79b2aadrow3_col0,#T_a3a68b7a_abe9_11eb_9a48_9801a79b2aadrow3_col1,#T_a3a68b7a_abe9_11eb_9a48_9801a79b2aadrow3_col2{\n",
       "            color:  green;\n",
       "        }</style><table id=\"T_a3a68b7a_abe9_11eb_9a48_9801a79b2aad\" ><thead>    <tr>        <th class=\"blank level0\" ></th>        <th class=\"col_heading level0 col0\" >abs</th>        <th class=\"col_heading level0 col1\" >neg</th>        <th class=\"col_heading level0 col2\" >pos</th>    </tr></thead><tbody>\n",
       "                <tr>\n",
       "                        <th id=\"T_a3a68b7a_abe9_11eb_9a48_9801a79b2aadlevel0_row0\" class=\"row_heading level0 row0\" >astropy.units</th>\n",
       "                        <td id=\"T_a3a68b7a_abe9_11eb_9a48_9801a79b2aadrow0_col0\" class=\"data row0 col0\" >True</td>\n",
       "                        <td id=\"T_a3a68b7a_abe9_11eb_9a48_9801a79b2aadrow0_col1\" class=\"data row0 col1\" >True</td>\n",
       "                        <td id=\"T_a3a68b7a_abe9_11eb_9a48_9801a79b2aadrow0_col2\" class=\"data row0 col2\" >True</td>\n",
       "            </tr>\n",
       "            <tr>\n",
       "                        <th id=\"T_a3a68b7a_abe9_11eb_9a48_9801a79b2aadlevel0_row1\" class=\"row_heading level0 row1\" >pint</th>\n",
       "                        <td id=\"T_a3a68b7a_abe9_11eb_9a48_9801a79b2aadrow1_col0\" class=\"data row1 col0\" >True</td>\n",
       "                        <td id=\"T_a3a68b7a_abe9_11eb_9a48_9801a79b2aadrow1_col1\" class=\"data row1 col1\" >True</td>\n",
       "                        <td id=\"T_a3a68b7a_abe9_11eb_9a48_9801a79b2aadrow1_col2\" class=\"data row1 col2\" >True</td>\n",
       "            </tr>\n",
       "            <tr>\n",
       "                        <th id=\"T_a3a68b7a_abe9_11eb_9a48_9801a79b2aadlevel0_row2\" class=\"row_heading level0 row2\" >physipy</th>\n",
       "                        <td id=\"T_a3a68b7a_abe9_11eb_9a48_9801a79b2aadrow2_col0\" class=\"data row2 col0\" >True</td>\n",
       "                        <td id=\"T_a3a68b7a_abe9_11eb_9a48_9801a79b2aadrow2_col1\" class=\"data row2 col1\" >True</td>\n",
       "                        <td id=\"T_a3a68b7a_abe9_11eb_9a48_9801a79b2aadrow2_col2\" class=\"data row2 col2\" >True</td>\n",
       "            </tr>\n",
       "            <tr>\n",
       "                        <th id=\"T_a3a68b7a_abe9_11eb_9a48_9801a79b2aadlevel0_row3\" class=\"row_heading level0 row3\" >forallpeople</th>\n",
       "                        <td id=\"T_a3a68b7a_abe9_11eb_9a48_9801a79b2aadrow3_col0\" class=\"data row3 col0\" >True</td>\n",
       "                        <td id=\"T_a3a68b7a_abe9_11eb_9a48_9801a79b2aadrow3_col1\" class=\"data row3 col1\" >True</td>\n",
       "                        <td id=\"T_a3a68b7a_abe9_11eb_9a48_9801a79b2aadrow3_col2\" class=\"data row3 col2\" >True</td>\n",
       "            </tr>\n",
       "    </tbody></table>"
      ],
      "text/plain": [
       "<pandas.io.formats.style.Styler at 0x121948a60>"
      ]
     },
     "execution_count": 7,
     "metadata": {},
     "output_type": "execute_result"
    }
   ],
   "source": [
    "results['compatibility']['unary_ops']"
   ]
  },
  {
   "cell_type": "code",
   "execution_count": 8,
   "metadata": {
    "collapsed": false,
    "jupyter": {
     "outputs_hidden": false
    }
   },
   "outputs": [
    {
     "data": {
      "text/html": [
       "<style  type=\"text/css\" >\n",
       "#T_a49d87b8_abe9_11eb_9a48_9801a79b2aadrow0_col0,#T_a49d87b8_abe9_11eb_9a48_9801a79b2aadrow0_col1,#T_a49d87b8_abe9_11eb_9a48_9801a79b2aadrow0_col2,#T_a49d87b8_abe9_11eb_9a48_9801a79b2aadrow0_col3,#T_a49d87b8_abe9_11eb_9a48_9801a79b2aadrow0_col4,#T_a49d87b8_abe9_11eb_9a48_9801a79b2aadrow0_col5,#T_a49d87b8_abe9_11eb_9a48_9801a79b2aadrow0_col7,#T_a49d87b8_abe9_11eb_9a48_9801a79b2aadrow0_col8,#T_a49d87b8_abe9_11eb_9a48_9801a79b2aadrow0_col9,#T_a49d87b8_abe9_11eb_9a48_9801a79b2aadrow0_col10,#T_a49d87b8_abe9_11eb_9a48_9801a79b2aadrow0_col11,#T_a49d87b8_abe9_11eb_9a48_9801a79b2aadrow0_col12,#T_a49d87b8_abe9_11eb_9a48_9801a79b2aadrow1_col0,#T_a49d87b8_abe9_11eb_9a48_9801a79b2aadrow1_col1,#T_a49d87b8_abe9_11eb_9a48_9801a79b2aadrow1_col2,#T_a49d87b8_abe9_11eb_9a48_9801a79b2aadrow1_col3,#T_a49d87b8_abe9_11eb_9a48_9801a79b2aadrow1_col4,#T_a49d87b8_abe9_11eb_9a48_9801a79b2aadrow1_col5,#T_a49d87b8_abe9_11eb_9a48_9801a79b2aadrow1_col7,#T_a49d87b8_abe9_11eb_9a48_9801a79b2aadrow1_col8,#T_a49d87b8_abe9_11eb_9a48_9801a79b2aadrow1_col9,#T_a49d87b8_abe9_11eb_9a48_9801a79b2aadrow1_col10,#T_a49d87b8_abe9_11eb_9a48_9801a79b2aadrow1_col11,#T_a49d87b8_abe9_11eb_9a48_9801a79b2aadrow1_col12,#T_a49d87b8_abe9_11eb_9a48_9801a79b2aadrow2_col0,#T_a49d87b8_abe9_11eb_9a48_9801a79b2aadrow2_col1,#T_a49d87b8_abe9_11eb_9a48_9801a79b2aadrow2_col2,#T_a49d87b8_abe9_11eb_9a48_9801a79b2aadrow2_col3,#T_a49d87b8_abe9_11eb_9a48_9801a79b2aadrow2_col4,#T_a49d87b8_abe9_11eb_9a48_9801a79b2aadrow2_col5,#T_a49d87b8_abe9_11eb_9a48_9801a79b2aadrow2_col7,#T_a49d87b8_abe9_11eb_9a48_9801a79b2aadrow2_col8,#T_a49d87b8_abe9_11eb_9a48_9801a79b2aadrow2_col9,#T_a49d87b8_abe9_11eb_9a48_9801a79b2aadrow2_col10,#T_a49d87b8_abe9_11eb_9a48_9801a79b2aadrow2_col11,#T_a49d87b8_abe9_11eb_9a48_9801a79b2aadrow2_col12,#T_a49d87b8_abe9_11eb_9a48_9801a79b2aadrow3_col0,#T_a49d87b8_abe9_11eb_9a48_9801a79b2aadrow3_col1,#T_a49d87b8_abe9_11eb_9a48_9801a79b2aadrow3_col2,#T_a49d87b8_abe9_11eb_9a48_9801a79b2aadrow3_col4,#T_a49d87b8_abe9_11eb_9a48_9801a79b2aadrow3_col7,#T_a49d87b8_abe9_11eb_9a48_9801a79b2aadrow3_col8,#T_a49d87b8_abe9_11eb_9a48_9801a79b2aadrow3_col9,#T_a49d87b8_abe9_11eb_9a48_9801a79b2aadrow3_col10,#T_a49d87b8_abe9_11eb_9a48_9801a79b2aadrow3_col11,#T_a49d87b8_abe9_11eb_9a48_9801a79b2aadrow3_col12{\n",
       "            color:  green;\n",
       "        }#T_a49d87b8_abe9_11eb_9a48_9801a79b2aadrow0_col6,#T_a49d87b8_abe9_11eb_9a48_9801a79b2aadrow1_col6,#T_a49d87b8_abe9_11eb_9a48_9801a79b2aadrow2_col6,#T_a49d87b8_abe9_11eb_9a48_9801a79b2aadrow3_col3,#T_a49d87b8_abe9_11eb_9a48_9801a79b2aadrow3_col5,#T_a49d87b8_abe9_11eb_9a48_9801a79b2aadrow3_col6{\n",
       "            color:  red;\n",
       "        }</style><table id=\"T_a49d87b8_abe9_11eb_9a48_9801a79b2aad\" ><thead>    <tr>        <th class=\"blank level0\" ></th>        <th class=\"col_heading level0 col0\" >add</th>        <th class=\"col_heading level0 col1\" >sub</th>        <th class=\"col_heading level0 col2\" >mul</th>        <th class=\"col_heading level0 col3\" >floordiv</th>        <th class=\"col_heading level0 col4\" >truediv</th>        <th class=\"col_heading level0 col5\" >mod</th>        <th class=\"col_heading level0 col6\" >pow</th>        <th class=\"col_heading level0 col7\" >lt</th>        <th class=\"col_heading level0 col8\" >le</th>        <th class=\"col_heading level0 col9\" >eq</th>        <th class=\"col_heading level0 col10\" >ne</th>        <th class=\"col_heading level0 col11\" >ge</th>        <th class=\"col_heading level0 col12\" >gt</th>    </tr></thead><tbody>\n",
       "                <tr>\n",
       "                        <th id=\"T_a49d87b8_abe9_11eb_9a48_9801a79b2aadlevel0_row0\" class=\"row_heading level0 row0\" >astropy.units</th>\n",
       "                        <td id=\"T_a49d87b8_abe9_11eb_9a48_9801a79b2aadrow0_col0\" class=\"data row0 col0\" >True</td>\n",
       "                        <td id=\"T_a49d87b8_abe9_11eb_9a48_9801a79b2aadrow0_col1\" class=\"data row0 col1\" >True</td>\n",
       "                        <td id=\"T_a49d87b8_abe9_11eb_9a48_9801a79b2aadrow0_col2\" class=\"data row0 col2\" >True</td>\n",
       "                        <td id=\"T_a49d87b8_abe9_11eb_9a48_9801a79b2aadrow0_col3\" class=\"data row0 col3\" >True</td>\n",
       "                        <td id=\"T_a49d87b8_abe9_11eb_9a48_9801a79b2aadrow0_col4\" class=\"data row0 col4\" >True</td>\n",
       "                        <td id=\"T_a49d87b8_abe9_11eb_9a48_9801a79b2aadrow0_col5\" class=\"data row0 col5\" >True</td>\n",
       "                        <td id=\"T_a49d87b8_abe9_11eb_9a48_9801a79b2aadrow0_col6\" class=\"data row0 col6\" >False</td>\n",
       "                        <td id=\"T_a49d87b8_abe9_11eb_9a48_9801a79b2aadrow0_col7\" class=\"data row0 col7\" >True</td>\n",
       "                        <td id=\"T_a49d87b8_abe9_11eb_9a48_9801a79b2aadrow0_col8\" class=\"data row0 col8\" >True</td>\n",
       "                        <td id=\"T_a49d87b8_abe9_11eb_9a48_9801a79b2aadrow0_col9\" class=\"data row0 col9\" >True</td>\n",
       "                        <td id=\"T_a49d87b8_abe9_11eb_9a48_9801a79b2aadrow0_col10\" class=\"data row0 col10\" >True</td>\n",
       "                        <td id=\"T_a49d87b8_abe9_11eb_9a48_9801a79b2aadrow0_col11\" class=\"data row0 col11\" >True</td>\n",
       "                        <td id=\"T_a49d87b8_abe9_11eb_9a48_9801a79b2aadrow0_col12\" class=\"data row0 col12\" >True</td>\n",
       "            </tr>\n",
       "            <tr>\n",
       "                        <th id=\"T_a49d87b8_abe9_11eb_9a48_9801a79b2aadlevel0_row1\" class=\"row_heading level0 row1\" >pint</th>\n",
       "                        <td id=\"T_a49d87b8_abe9_11eb_9a48_9801a79b2aadrow1_col0\" class=\"data row1 col0\" >True</td>\n",
       "                        <td id=\"T_a49d87b8_abe9_11eb_9a48_9801a79b2aadrow1_col1\" class=\"data row1 col1\" >True</td>\n",
       "                        <td id=\"T_a49d87b8_abe9_11eb_9a48_9801a79b2aadrow1_col2\" class=\"data row1 col2\" >True</td>\n",
       "                        <td id=\"T_a49d87b8_abe9_11eb_9a48_9801a79b2aadrow1_col3\" class=\"data row1 col3\" >True</td>\n",
       "                        <td id=\"T_a49d87b8_abe9_11eb_9a48_9801a79b2aadrow1_col4\" class=\"data row1 col4\" >True</td>\n",
       "                        <td id=\"T_a49d87b8_abe9_11eb_9a48_9801a79b2aadrow1_col5\" class=\"data row1 col5\" >True</td>\n",
       "                        <td id=\"T_a49d87b8_abe9_11eb_9a48_9801a79b2aadrow1_col6\" class=\"data row1 col6\" >False</td>\n",
       "                        <td id=\"T_a49d87b8_abe9_11eb_9a48_9801a79b2aadrow1_col7\" class=\"data row1 col7\" >True</td>\n",
       "                        <td id=\"T_a49d87b8_abe9_11eb_9a48_9801a79b2aadrow1_col8\" class=\"data row1 col8\" >True</td>\n",
       "                        <td id=\"T_a49d87b8_abe9_11eb_9a48_9801a79b2aadrow1_col9\" class=\"data row1 col9\" >True</td>\n",
       "                        <td id=\"T_a49d87b8_abe9_11eb_9a48_9801a79b2aadrow1_col10\" class=\"data row1 col10\" >True</td>\n",
       "                        <td id=\"T_a49d87b8_abe9_11eb_9a48_9801a79b2aadrow1_col11\" class=\"data row1 col11\" >True</td>\n",
       "                        <td id=\"T_a49d87b8_abe9_11eb_9a48_9801a79b2aadrow1_col12\" class=\"data row1 col12\" >True</td>\n",
       "            </tr>\n",
       "            <tr>\n",
       "                        <th id=\"T_a49d87b8_abe9_11eb_9a48_9801a79b2aadlevel0_row2\" class=\"row_heading level0 row2\" >physipy</th>\n",
       "                        <td id=\"T_a49d87b8_abe9_11eb_9a48_9801a79b2aadrow2_col0\" class=\"data row2 col0\" >True</td>\n",
       "                        <td id=\"T_a49d87b8_abe9_11eb_9a48_9801a79b2aadrow2_col1\" class=\"data row2 col1\" >True</td>\n",
       "                        <td id=\"T_a49d87b8_abe9_11eb_9a48_9801a79b2aadrow2_col2\" class=\"data row2 col2\" >True</td>\n",
       "                        <td id=\"T_a49d87b8_abe9_11eb_9a48_9801a79b2aadrow2_col3\" class=\"data row2 col3\" >True</td>\n",
       "                        <td id=\"T_a49d87b8_abe9_11eb_9a48_9801a79b2aadrow2_col4\" class=\"data row2 col4\" >True</td>\n",
       "                        <td id=\"T_a49d87b8_abe9_11eb_9a48_9801a79b2aadrow2_col5\" class=\"data row2 col5\" >True</td>\n",
       "                        <td id=\"T_a49d87b8_abe9_11eb_9a48_9801a79b2aadrow2_col6\" class=\"data row2 col6\" >False</td>\n",
       "                        <td id=\"T_a49d87b8_abe9_11eb_9a48_9801a79b2aadrow2_col7\" class=\"data row2 col7\" >True</td>\n",
       "                        <td id=\"T_a49d87b8_abe9_11eb_9a48_9801a79b2aadrow2_col8\" class=\"data row2 col8\" >True</td>\n",
       "                        <td id=\"T_a49d87b8_abe9_11eb_9a48_9801a79b2aadrow2_col9\" class=\"data row2 col9\" >True</td>\n",
       "                        <td id=\"T_a49d87b8_abe9_11eb_9a48_9801a79b2aadrow2_col10\" class=\"data row2 col10\" >True</td>\n",
       "                        <td id=\"T_a49d87b8_abe9_11eb_9a48_9801a79b2aadrow2_col11\" class=\"data row2 col11\" >True</td>\n",
       "                        <td id=\"T_a49d87b8_abe9_11eb_9a48_9801a79b2aadrow2_col12\" class=\"data row2 col12\" >True</td>\n",
       "            </tr>\n",
       "            <tr>\n",
       "                        <th id=\"T_a49d87b8_abe9_11eb_9a48_9801a79b2aadlevel0_row3\" class=\"row_heading level0 row3\" >forallpeople</th>\n",
       "                        <td id=\"T_a49d87b8_abe9_11eb_9a48_9801a79b2aadrow3_col0\" class=\"data row3 col0\" >True</td>\n",
       "                        <td id=\"T_a49d87b8_abe9_11eb_9a48_9801a79b2aadrow3_col1\" class=\"data row3 col1\" >True</td>\n",
       "                        <td id=\"T_a49d87b8_abe9_11eb_9a48_9801a79b2aadrow3_col2\" class=\"data row3 col2\" >True</td>\n",
       "                        <td id=\"T_a49d87b8_abe9_11eb_9a48_9801a79b2aadrow3_col3\" class=\"data row3 col3\" >False</td>\n",
       "                        <td id=\"T_a49d87b8_abe9_11eb_9a48_9801a79b2aadrow3_col4\" class=\"data row3 col4\" >True</td>\n",
       "                        <td id=\"T_a49d87b8_abe9_11eb_9a48_9801a79b2aadrow3_col5\" class=\"data row3 col5\" >False</td>\n",
       "                        <td id=\"T_a49d87b8_abe9_11eb_9a48_9801a79b2aadrow3_col6\" class=\"data row3 col6\" >False</td>\n",
       "                        <td id=\"T_a49d87b8_abe9_11eb_9a48_9801a79b2aadrow3_col7\" class=\"data row3 col7\" >True</td>\n",
       "                        <td id=\"T_a49d87b8_abe9_11eb_9a48_9801a79b2aadrow3_col8\" class=\"data row3 col8\" >True</td>\n",
       "                        <td id=\"T_a49d87b8_abe9_11eb_9a48_9801a79b2aadrow3_col9\" class=\"data row3 col9\" >True</td>\n",
       "                        <td id=\"T_a49d87b8_abe9_11eb_9a48_9801a79b2aadrow3_col10\" class=\"data row3 col10\" >True</td>\n",
       "                        <td id=\"T_a49d87b8_abe9_11eb_9a48_9801a79b2aadrow3_col11\" class=\"data row3 col11\" >True</td>\n",
       "                        <td id=\"T_a49d87b8_abe9_11eb_9a48_9801a79b2aadrow3_col12\" class=\"data row3 col12\" >True</td>\n",
       "            </tr>\n",
       "    </tbody></table>"
      ],
      "text/plain": [
       "<pandas.io.formats.style.Styler at 0x1219487c0>"
      ]
     },
     "execution_count": 8,
     "metadata": {},
     "output_type": "execute_result"
    }
   ],
   "source": [
    "results['compatibility']['binary_same_ops']"
   ]
  },
  {
   "cell_type": "code",
   "execution_count": 9,
   "metadata": {
    "collapsed": false,
    "jupyter": {
     "outputs_hidden": false
    }
   },
   "outputs": [
    {
     "data": {
      "text/html": [
       "<style  type=\"text/css\" >\n",
       "#T_a639742e_abe9_11eb_9a48_9801a79b2aadrow0_col0,#T_a639742e_abe9_11eb_9a48_9801a79b2aadrow0_col1,#T_a639742e_abe9_11eb_9a48_9801a79b2aadrow0_col2,#T_a639742e_abe9_11eb_9a48_9801a79b2aadrow0_col3,#T_a639742e_abe9_11eb_9a48_9801a79b2aadrow0_col4,#T_a639742e_abe9_11eb_9a48_9801a79b2aadrow0_col5,#T_a639742e_abe9_11eb_9a48_9801a79b2aadrow0_col7,#T_a639742e_abe9_11eb_9a48_9801a79b2aadrow0_col8,#T_a639742e_abe9_11eb_9a48_9801a79b2aadrow0_col9,#T_a639742e_abe9_11eb_9a48_9801a79b2aadrow0_col10,#T_a639742e_abe9_11eb_9a48_9801a79b2aadrow0_col11,#T_a639742e_abe9_11eb_9a48_9801a79b2aadrow0_col12,#T_a639742e_abe9_11eb_9a48_9801a79b2aadrow1_col0,#T_a639742e_abe9_11eb_9a48_9801a79b2aadrow1_col1,#T_a639742e_abe9_11eb_9a48_9801a79b2aadrow1_col2,#T_a639742e_abe9_11eb_9a48_9801a79b2aadrow1_col3,#T_a639742e_abe9_11eb_9a48_9801a79b2aadrow1_col4,#T_a639742e_abe9_11eb_9a48_9801a79b2aadrow1_col5,#T_a639742e_abe9_11eb_9a48_9801a79b2aadrow1_col7,#T_a639742e_abe9_11eb_9a48_9801a79b2aadrow1_col8,#T_a639742e_abe9_11eb_9a48_9801a79b2aadrow1_col9,#T_a639742e_abe9_11eb_9a48_9801a79b2aadrow1_col10,#T_a639742e_abe9_11eb_9a48_9801a79b2aadrow1_col11,#T_a639742e_abe9_11eb_9a48_9801a79b2aadrow1_col12,#T_a639742e_abe9_11eb_9a48_9801a79b2aadrow2_col0,#T_a639742e_abe9_11eb_9a48_9801a79b2aadrow2_col1,#T_a639742e_abe9_11eb_9a48_9801a79b2aadrow2_col2,#T_a639742e_abe9_11eb_9a48_9801a79b2aadrow2_col3,#T_a639742e_abe9_11eb_9a48_9801a79b2aadrow2_col4,#T_a639742e_abe9_11eb_9a48_9801a79b2aadrow2_col5,#T_a639742e_abe9_11eb_9a48_9801a79b2aadrow2_col7,#T_a639742e_abe9_11eb_9a48_9801a79b2aadrow2_col8,#T_a639742e_abe9_11eb_9a48_9801a79b2aadrow2_col9,#T_a639742e_abe9_11eb_9a48_9801a79b2aadrow2_col10,#T_a639742e_abe9_11eb_9a48_9801a79b2aadrow2_col11,#T_a639742e_abe9_11eb_9a48_9801a79b2aadrow2_col12,#T_a639742e_abe9_11eb_9a48_9801a79b2aadrow3_col0,#T_a639742e_abe9_11eb_9a48_9801a79b2aadrow3_col1,#T_a639742e_abe9_11eb_9a48_9801a79b2aadrow3_col2,#T_a639742e_abe9_11eb_9a48_9801a79b2aadrow3_col4,#T_a639742e_abe9_11eb_9a48_9801a79b2aadrow3_col7,#T_a639742e_abe9_11eb_9a48_9801a79b2aadrow3_col8,#T_a639742e_abe9_11eb_9a48_9801a79b2aadrow3_col9,#T_a639742e_abe9_11eb_9a48_9801a79b2aadrow3_col10,#T_a639742e_abe9_11eb_9a48_9801a79b2aadrow3_col11,#T_a639742e_abe9_11eb_9a48_9801a79b2aadrow3_col12{\n",
       "            color:  green;\n",
       "        }#T_a639742e_abe9_11eb_9a48_9801a79b2aadrow0_col6,#T_a639742e_abe9_11eb_9a48_9801a79b2aadrow1_col6,#T_a639742e_abe9_11eb_9a48_9801a79b2aadrow2_col6,#T_a639742e_abe9_11eb_9a48_9801a79b2aadrow3_col3,#T_a639742e_abe9_11eb_9a48_9801a79b2aadrow3_col5,#T_a639742e_abe9_11eb_9a48_9801a79b2aadrow3_col6{\n",
       "            color:  red;\n",
       "        }</style><table id=\"T_a639742e_abe9_11eb_9a48_9801a79b2aad\" ><thead>    <tr>        <th class=\"blank level0\" ></th>        <th class=\"col_heading level0 col0\" >add</th>        <th class=\"col_heading level0 col1\" >sub</th>        <th class=\"col_heading level0 col2\" >mul</th>        <th class=\"col_heading level0 col3\" >floordiv</th>        <th class=\"col_heading level0 col4\" >truediv</th>        <th class=\"col_heading level0 col5\" >mod</th>        <th class=\"col_heading level0 col6\" >pow</th>        <th class=\"col_heading level0 col7\" >lt</th>        <th class=\"col_heading level0 col8\" >le</th>        <th class=\"col_heading level0 col9\" >eq</th>        <th class=\"col_heading level0 col10\" >ne</th>        <th class=\"col_heading level0 col11\" >ge</th>        <th class=\"col_heading level0 col12\" >gt</th>    </tr></thead><tbody>\n",
       "                <tr>\n",
       "                        <th id=\"T_a639742e_abe9_11eb_9a48_9801a79b2aadlevel0_row0\" class=\"row_heading level0 row0\" >astropy.units</th>\n",
       "                        <td id=\"T_a639742e_abe9_11eb_9a48_9801a79b2aadrow0_col0\" class=\"data row0 col0\" >True</td>\n",
       "                        <td id=\"T_a639742e_abe9_11eb_9a48_9801a79b2aadrow0_col1\" class=\"data row0 col1\" >True</td>\n",
       "                        <td id=\"T_a639742e_abe9_11eb_9a48_9801a79b2aadrow0_col2\" class=\"data row0 col2\" >True</td>\n",
       "                        <td id=\"T_a639742e_abe9_11eb_9a48_9801a79b2aadrow0_col3\" class=\"data row0 col3\" >True</td>\n",
       "                        <td id=\"T_a639742e_abe9_11eb_9a48_9801a79b2aadrow0_col4\" class=\"data row0 col4\" >True</td>\n",
       "                        <td id=\"T_a639742e_abe9_11eb_9a48_9801a79b2aadrow0_col5\" class=\"data row0 col5\" >True</td>\n",
       "                        <td id=\"T_a639742e_abe9_11eb_9a48_9801a79b2aadrow0_col6\" class=\"data row0 col6\" >False</td>\n",
       "                        <td id=\"T_a639742e_abe9_11eb_9a48_9801a79b2aadrow0_col7\" class=\"data row0 col7\" >True</td>\n",
       "                        <td id=\"T_a639742e_abe9_11eb_9a48_9801a79b2aadrow0_col8\" class=\"data row0 col8\" >True</td>\n",
       "                        <td id=\"T_a639742e_abe9_11eb_9a48_9801a79b2aadrow0_col9\" class=\"data row0 col9\" >True</td>\n",
       "                        <td id=\"T_a639742e_abe9_11eb_9a48_9801a79b2aadrow0_col10\" class=\"data row0 col10\" >True</td>\n",
       "                        <td id=\"T_a639742e_abe9_11eb_9a48_9801a79b2aadrow0_col11\" class=\"data row0 col11\" >True</td>\n",
       "                        <td id=\"T_a639742e_abe9_11eb_9a48_9801a79b2aadrow0_col12\" class=\"data row0 col12\" >True</td>\n",
       "            </tr>\n",
       "            <tr>\n",
       "                        <th id=\"T_a639742e_abe9_11eb_9a48_9801a79b2aadlevel0_row1\" class=\"row_heading level0 row1\" >pint</th>\n",
       "                        <td id=\"T_a639742e_abe9_11eb_9a48_9801a79b2aadrow1_col0\" class=\"data row1 col0\" >True</td>\n",
       "                        <td id=\"T_a639742e_abe9_11eb_9a48_9801a79b2aadrow1_col1\" class=\"data row1 col1\" >True</td>\n",
       "                        <td id=\"T_a639742e_abe9_11eb_9a48_9801a79b2aadrow1_col2\" class=\"data row1 col2\" >True</td>\n",
       "                        <td id=\"T_a639742e_abe9_11eb_9a48_9801a79b2aadrow1_col3\" class=\"data row1 col3\" >True</td>\n",
       "                        <td id=\"T_a639742e_abe9_11eb_9a48_9801a79b2aadrow1_col4\" class=\"data row1 col4\" >True</td>\n",
       "                        <td id=\"T_a639742e_abe9_11eb_9a48_9801a79b2aadrow1_col5\" class=\"data row1 col5\" >True</td>\n",
       "                        <td id=\"T_a639742e_abe9_11eb_9a48_9801a79b2aadrow1_col6\" class=\"data row1 col6\" >False</td>\n",
       "                        <td id=\"T_a639742e_abe9_11eb_9a48_9801a79b2aadrow1_col7\" class=\"data row1 col7\" >True</td>\n",
       "                        <td id=\"T_a639742e_abe9_11eb_9a48_9801a79b2aadrow1_col8\" class=\"data row1 col8\" >True</td>\n",
       "                        <td id=\"T_a639742e_abe9_11eb_9a48_9801a79b2aadrow1_col9\" class=\"data row1 col9\" >True</td>\n",
       "                        <td id=\"T_a639742e_abe9_11eb_9a48_9801a79b2aadrow1_col10\" class=\"data row1 col10\" >True</td>\n",
       "                        <td id=\"T_a639742e_abe9_11eb_9a48_9801a79b2aadrow1_col11\" class=\"data row1 col11\" >True</td>\n",
       "                        <td id=\"T_a639742e_abe9_11eb_9a48_9801a79b2aadrow1_col12\" class=\"data row1 col12\" >True</td>\n",
       "            </tr>\n",
       "            <tr>\n",
       "                        <th id=\"T_a639742e_abe9_11eb_9a48_9801a79b2aadlevel0_row2\" class=\"row_heading level0 row2\" >physipy</th>\n",
       "                        <td id=\"T_a639742e_abe9_11eb_9a48_9801a79b2aadrow2_col0\" class=\"data row2 col0\" >True</td>\n",
       "                        <td id=\"T_a639742e_abe9_11eb_9a48_9801a79b2aadrow2_col1\" class=\"data row2 col1\" >True</td>\n",
       "                        <td id=\"T_a639742e_abe9_11eb_9a48_9801a79b2aadrow2_col2\" class=\"data row2 col2\" >True</td>\n",
       "                        <td id=\"T_a639742e_abe9_11eb_9a48_9801a79b2aadrow2_col3\" class=\"data row2 col3\" >True</td>\n",
       "                        <td id=\"T_a639742e_abe9_11eb_9a48_9801a79b2aadrow2_col4\" class=\"data row2 col4\" >True</td>\n",
       "                        <td id=\"T_a639742e_abe9_11eb_9a48_9801a79b2aadrow2_col5\" class=\"data row2 col5\" >True</td>\n",
       "                        <td id=\"T_a639742e_abe9_11eb_9a48_9801a79b2aadrow2_col6\" class=\"data row2 col6\" >False</td>\n",
       "                        <td id=\"T_a639742e_abe9_11eb_9a48_9801a79b2aadrow2_col7\" class=\"data row2 col7\" >True</td>\n",
       "                        <td id=\"T_a639742e_abe9_11eb_9a48_9801a79b2aadrow2_col8\" class=\"data row2 col8\" >True</td>\n",
       "                        <td id=\"T_a639742e_abe9_11eb_9a48_9801a79b2aadrow2_col9\" class=\"data row2 col9\" >True</td>\n",
       "                        <td id=\"T_a639742e_abe9_11eb_9a48_9801a79b2aadrow2_col10\" class=\"data row2 col10\" >True</td>\n",
       "                        <td id=\"T_a639742e_abe9_11eb_9a48_9801a79b2aadrow2_col11\" class=\"data row2 col11\" >True</td>\n",
       "                        <td id=\"T_a639742e_abe9_11eb_9a48_9801a79b2aadrow2_col12\" class=\"data row2 col12\" >True</td>\n",
       "            </tr>\n",
       "            <tr>\n",
       "                        <th id=\"T_a639742e_abe9_11eb_9a48_9801a79b2aadlevel0_row3\" class=\"row_heading level0 row3\" >forallpeople</th>\n",
       "                        <td id=\"T_a639742e_abe9_11eb_9a48_9801a79b2aadrow3_col0\" class=\"data row3 col0\" >True</td>\n",
       "                        <td id=\"T_a639742e_abe9_11eb_9a48_9801a79b2aadrow3_col1\" class=\"data row3 col1\" >True</td>\n",
       "                        <td id=\"T_a639742e_abe9_11eb_9a48_9801a79b2aadrow3_col2\" class=\"data row3 col2\" >True</td>\n",
       "                        <td id=\"T_a639742e_abe9_11eb_9a48_9801a79b2aadrow3_col3\" class=\"data row3 col3\" >False</td>\n",
       "                        <td id=\"T_a639742e_abe9_11eb_9a48_9801a79b2aadrow3_col4\" class=\"data row3 col4\" >True</td>\n",
       "                        <td id=\"T_a639742e_abe9_11eb_9a48_9801a79b2aadrow3_col5\" class=\"data row3 col5\" >False</td>\n",
       "                        <td id=\"T_a639742e_abe9_11eb_9a48_9801a79b2aadrow3_col6\" class=\"data row3 col6\" >False</td>\n",
       "                        <td id=\"T_a639742e_abe9_11eb_9a48_9801a79b2aadrow3_col7\" class=\"data row3 col7\" >True</td>\n",
       "                        <td id=\"T_a639742e_abe9_11eb_9a48_9801a79b2aadrow3_col8\" class=\"data row3 col8\" >True</td>\n",
       "                        <td id=\"T_a639742e_abe9_11eb_9a48_9801a79b2aadrow3_col9\" class=\"data row3 col9\" >True</td>\n",
       "                        <td id=\"T_a639742e_abe9_11eb_9a48_9801a79b2aadrow3_col10\" class=\"data row3 col10\" >True</td>\n",
       "                        <td id=\"T_a639742e_abe9_11eb_9a48_9801a79b2aadrow3_col11\" class=\"data row3 col11\" >True</td>\n",
       "                        <td id=\"T_a639742e_abe9_11eb_9a48_9801a79b2aadrow3_col12\" class=\"data row3 col12\" >True</td>\n",
       "            </tr>\n",
       "    </tbody></table>"
      ],
      "text/plain": [
       "<pandas.io.formats.style.Styler at 0x121948b20>"
      ]
     },
     "execution_count": 9,
     "metadata": {},
     "output_type": "execute_result"
    }
   ],
   "source": [
    "results['compatibility']['binary_compatible_ops']"
   ]
  },
  {
   "cell_type": "code",
   "execution_count": 10,
   "metadata": {
    "collapsed": false,
    "jupyter": {
     "outputs_hidden": false
    }
   },
   "outputs": [
    {
     "data": {
      "text/html": [
       "<style  type=\"text/css\" >\n",
       "#T_a78e9d5e_abe9_11eb_9a48_9801a79b2aadrow0_col0,#T_a78e9d5e_abe9_11eb_9a48_9801a79b2aadrow0_col1,#T_a78e9d5e_abe9_11eb_9a48_9801a79b2aadrow0_col3,#T_a78e9d5e_abe9_11eb_9a48_9801a79b2aadrow0_col5,#T_a78e9d5e_abe9_11eb_9a48_9801a79b2aadrow0_col6,#T_a78e9d5e_abe9_11eb_9a48_9801a79b2aadrow0_col7,#T_a78e9d5e_abe9_11eb_9a48_9801a79b2aadrow0_col8,#T_a78e9d5e_abe9_11eb_9a48_9801a79b2aadrow0_col11,#T_a78e9d5e_abe9_11eb_9a48_9801a79b2aadrow0_col12,#T_a78e9d5e_abe9_11eb_9a48_9801a79b2aadrow1_col0,#T_a78e9d5e_abe9_11eb_9a48_9801a79b2aadrow1_col1,#T_a78e9d5e_abe9_11eb_9a48_9801a79b2aadrow1_col3,#T_a78e9d5e_abe9_11eb_9a48_9801a79b2aadrow1_col5,#T_a78e9d5e_abe9_11eb_9a48_9801a79b2aadrow1_col6,#T_a78e9d5e_abe9_11eb_9a48_9801a79b2aadrow1_col7,#T_a78e9d5e_abe9_11eb_9a48_9801a79b2aadrow1_col8,#T_a78e9d5e_abe9_11eb_9a48_9801a79b2aadrow1_col11,#T_a78e9d5e_abe9_11eb_9a48_9801a79b2aadrow1_col12,#T_a78e9d5e_abe9_11eb_9a48_9801a79b2aadrow2_col0,#T_a78e9d5e_abe9_11eb_9a48_9801a79b2aadrow2_col1,#T_a78e9d5e_abe9_11eb_9a48_9801a79b2aadrow2_col3,#T_a78e9d5e_abe9_11eb_9a48_9801a79b2aadrow2_col5,#T_a78e9d5e_abe9_11eb_9a48_9801a79b2aadrow2_col6,#T_a78e9d5e_abe9_11eb_9a48_9801a79b2aadrow2_col7,#T_a78e9d5e_abe9_11eb_9a48_9801a79b2aadrow2_col8,#T_a78e9d5e_abe9_11eb_9a48_9801a79b2aadrow2_col11,#T_a78e9d5e_abe9_11eb_9a48_9801a79b2aadrow2_col12,#T_a78e9d5e_abe9_11eb_9a48_9801a79b2aadrow3_col0,#T_a78e9d5e_abe9_11eb_9a48_9801a79b2aadrow3_col1,#T_a78e9d5e_abe9_11eb_9a48_9801a79b2aadrow3_col3,#T_a78e9d5e_abe9_11eb_9a48_9801a79b2aadrow3_col5,#T_a78e9d5e_abe9_11eb_9a48_9801a79b2aadrow3_col6,#T_a78e9d5e_abe9_11eb_9a48_9801a79b2aadrow3_col7,#T_a78e9d5e_abe9_11eb_9a48_9801a79b2aadrow3_col8,#T_a78e9d5e_abe9_11eb_9a48_9801a79b2aadrow3_col11,#T_a78e9d5e_abe9_11eb_9a48_9801a79b2aadrow3_col12{\n",
       "            color:  red;\n",
       "        }#T_a78e9d5e_abe9_11eb_9a48_9801a79b2aadrow0_col2,#T_a78e9d5e_abe9_11eb_9a48_9801a79b2aadrow0_col4,#T_a78e9d5e_abe9_11eb_9a48_9801a79b2aadrow0_col9,#T_a78e9d5e_abe9_11eb_9a48_9801a79b2aadrow0_col10,#T_a78e9d5e_abe9_11eb_9a48_9801a79b2aadrow1_col2,#T_a78e9d5e_abe9_11eb_9a48_9801a79b2aadrow1_col4,#T_a78e9d5e_abe9_11eb_9a48_9801a79b2aadrow1_col9,#T_a78e9d5e_abe9_11eb_9a48_9801a79b2aadrow1_col10,#T_a78e9d5e_abe9_11eb_9a48_9801a79b2aadrow2_col2,#T_a78e9d5e_abe9_11eb_9a48_9801a79b2aadrow2_col4,#T_a78e9d5e_abe9_11eb_9a48_9801a79b2aadrow2_col9,#T_a78e9d5e_abe9_11eb_9a48_9801a79b2aadrow2_col10,#T_a78e9d5e_abe9_11eb_9a48_9801a79b2aadrow3_col2,#T_a78e9d5e_abe9_11eb_9a48_9801a79b2aadrow3_col4,#T_a78e9d5e_abe9_11eb_9a48_9801a79b2aadrow3_col9,#T_a78e9d5e_abe9_11eb_9a48_9801a79b2aadrow3_col10{\n",
       "            color:  green;\n",
       "        }</style><table id=\"T_a78e9d5e_abe9_11eb_9a48_9801a79b2aad\" ><thead>    <tr>        <th class=\"blank level0\" ></th>        <th class=\"col_heading level0 col0\" >add</th>        <th class=\"col_heading level0 col1\" >sub</th>        <th class=\"col_heading level0 col2\" >mul</th>        <th class=\"col_heading level0 col3\" >floordiv</th>        <th class=\"col_heading level0 col4\" >truediv</th>        <th class=\"col_heading level0 col5\" >mod</th>        <th class=\"col_heading level0 col6\" >pow</th>        <th class=\"col_heading level0 col7\" >lt</th>        <th class=\"col_heading level0 col8\" >le</th>        <th class=\"col_heading level0 col9\" >eq</th>        <th class=\"col_heading level0 col10\" >ne</th>        <th class=\"col_heading level0 col11\" >ge</th>        <th class=\"col_heading level0 col12\" >gt</th>    </tr></thead><tbody>\n",
       "                <tr>\n",
       "                        <th id=\"T_a78e9d5e_abe9_11eb_9a48_9801a79b2aadlevel0_row0\" class=\"row_heading level0 row0\" >astropy.units</th>\n",
       "                        <td id=\"T_a78e9d5e_abe9_11eb_9a48_9801a79b2aadrow0_col0\" class=\"data row0 col0\" >False</td>\n",
       "                        <td id=\"T_a78e9d5e_abe9_11eb_9a48_9801a79b2aadrow0_col1\" class=\"data row0 col1\" >False</td>\n",
       "                        <td id=\"T_a78e9d5e_abe9_11eb_9a48_9801a79b2aadrow0_col2\" class=\"data row0 col2\" >True</td>\n",
       "                        <td id=\"T_a78e9d5e_abe9_11eb_9a48_9801a79b2aadrow0_col3\" class=\"data row0 col3\" >False</td>\n",
       "                        <td id=\"T_a78e9d5e_abe9_11eb_9a48_9801a79b2aadrow0_col4\" class=\"data row0 col4\" >True</td>\n",
       "                        <td id=\"T_a78e9d5e_abe9_11eb_9a48_9801a79b2aadrow0_col5\" class=\"data row0 col5\" >False</td>\n",
       "                        <td id=\"T_a78e9d5e_abe9_11eb_9a48_9801a79b2aadrow0_col6\" class=\"data row0 col6\" >False</td>\n",
       "                        <td id=\"T_a78e9d5e_abe9_11eb_9a48_9801a79b2aadrow0_col7\" class=\"data row0 col7\" >False</td>\n",
       "                        <td id=\"T_a78e9d5e_abe9_11eb_9a48_9801a79b2aadrow0_col8\" class=\"data row0 col8\" >False</td>\n",
       "                        <td id=\"T_a78e9d5e_abe9_11eb_9a48_9801a79b2aadrow0_col9\" class=\"data row0 col9\" >True</td>\n",
       "                        <td id=\"T_a78e9d5e_abe9_11eb_9a48_9801a79b2aadrow0_col10\" class=\"data row0 col10\" >True</td>\n",
       "                        <td id=\"T_a78e9d5e_abe9_11eb_9a48_9801a79b2aadrow0_col11\" class=\"data row0 col11\" >False</td>\n",
       "                        <td id=\"T_a78e9d5e_abe9_11eb_9a48_9801a79b2aadrow0_col12\" class=\"data row0 col12\" >False</td>\n",
       "            </tr>\n",
       "            <tr>\n",
       "                        <th id=\"T_a78e9d5e_abe9_11eb_9a48_9801a79b2aadlevel0_row1\" class=\"row_heading level0 row1\" >pint</th>\n",
       "                        <td id=\"T_a78e9d5e_abe9_11eb_9a48_9801a79b2aadrow1_col0\" class=\"data row1 col0\" >False</td>\n",
       "                        <td id=\"T_a78e9d5e_abe9_11eb_9a48_9801a79b2aadrow1_col1\" class=\"data row1 col1\" >False</td>\n",
       "                        <td id=\"T_a78e9d5e_abe9_11eb_9a48_9801a79b2aadrow1_col2\" class=\"data row1 col2\" >True</td>\n",
       "                        <td id=\"T_a78e9d5e_abe9_11eb_9a48_9801a79b2aadrow1_col3\" class=\"data row1 col3\" >False</td>\n",
       "                        <td id=\"T_a78e9d5e_abe9_11eb_9a48_9801a79b2aadrow1_col4\" class=\"data row1 col4\" >True</td>\n",
       "                        <td id=\"T_a78e9d5e_abe9_11eb_9a48_9801a79b2aadrow1_col5\" class=\"data row1 col5\" >False</td>\n",
       "                        <td id=\"T_a78e9d5e_abe9_11eb_9a48_9801a79b2aadrow1_col6\" class=\"data row1 col6\" >False</td>\n",
       "                        <td id=\"T_a78e9d5e_abe9_11eb_9a48_9801a79b2aadrow1_col7\" class=\"data row1 col7\" >False</td>\n",
       "                        <td id=\"T_a78e9d5e_abe9_11eb_9a48_9801a79b2aadrow1_col8\" class=\"data row1 col8\" >False</td>\n",
       "                        <td id=\"T_a78e9d5e_abe9_11eb_9a48_9801a79b2aadrow1_col9\" class=\"data row1 col9\" >True</td>\n",
       "                        <td id=\"T_a78e9d5e_abe9_11eb_9a48_9801a79b2aadrow1_col10\" class=\"data row1 col10\" >True</td>\n",
       "                        <td id=\"T_a78e9d5e_abe9_11eb_9a48_9801a79b2aadrow1_col11\" class=\"data row1 col11\" >False</td>\n",
       "                        <td id=\"T_a78e9d5e_abe9_11eb_9a48_9801a79b2aadrow1_col12\" class=\"data row1 col12\" >False</td>\n",
       "            </tr>\n",
       "            <tr>\n",
       "                        <th id=\"T_a78e9d5e_abe9_11eb_9a48_9801a79b2aadlevel0_row2\" class=\"row_heading level0 row2\" >physipy</th>\n",
       "                        <td id=\"T_a78e9d5e_abe9_11eb_9a48_9801a79b2aadrow2_col0\" class=\"data row2 col0\" >False</td>\n",
       "                        <td id=\"T_a78e9d5e_abe9_11eb_9a48_9801a79b2aadrow2_col1\" class=\"data row2 col1\" >False</td>\n",
       "                        <td id=\"T_a78e9d5e_abe9_11eb_9a48_9801a79b2aadrow2_col2\" class=\"data row2 col2\" >True</td>\n",
       "                        <td id=\"T_a78e9d5e_abe9_11eb_9a48_9801a79b2aadrow2_col3\" class=\"data row2 col3\" >False</td>\n",
       "                        <td id=\"T_a78e9d5e_abe9_11eb_9a48_9801a79b2aadrow2_col4\" class=\"data row2 col4\" >True</td>\n",
       "                        <td id=\"T_a78e9d5e_abe9_11eb_9a48_9801a79b2aadrow2_col5\" class=\"data row2 col5\" >False</td>\n",
       "                        <td id=\"T_a78e9d5e_abe9_11eb_9a48_9801a79b2aadrow2_col6\" class=\"data row2 col6\" >False</td>\n",
       "                        <td id=\"T_a78e9d5e_abe9_11eb_9a48_9801a79b2aadrow2_col7\" class=\"data row2 col7\" >False</td>\n",
       "                        <td id=\"T_a78e9d5e_abe9_11eb_9a48_9801a79b2aadrow2_col8\" class=\"data row2 col8\" >False</td>\n",
       "                        <td id=\"T_a78e9d5e_abe9_11eb_9a48_9801a79b2aadrow2_col9\" class=\"data row2 col9\" >True</td>\n",
       "                        <td id=\"T_a78e9d5e_abe9_11eb_9a48_9801a79b2aadrow2_col10\" class=\"data row2 col10\" >True</td>\n",
       "                        <td id=\"T_a78e9d5e_abe9_11eb_9a48_9801a79b2aadrow2_col11\" class=\"data row2 col11\" >False</td>\n",
       "                        <td id=\"T_a78e9d5e_abe9_11eb_9a48_9801a79b2aadrow2_col12\" class=\"data row2 col12\" >False</td>\n",
       "            </tr>\n",
       "            <tr>\n",
       "                        <th id=\"T_a78e9d5e_abe9_11eb_9a48_9801a79b2aadlevel0_row3\" class=\"row_heading level0 row3\" >forallpeople</th>\n",
       "                        <td id=\"T_a78e9d5e_abe9_11eb_9a48_9801a79b2aadrow3_col0\" class=\"data row3 col0\" >False</td>\n",
       "                        <td id=\"T_a78e9d5e_abe9_11eb_9a48_9801a79b2aadrow3_col1\" class=\"data row3 col1\" >False</td>\n",
       "                        <td id=\"T_a78e9d5e_abe9_11eb_9a48_9801a79b2aadrow3_col2\" class=\"data row3 col2\" >True</td>\n",
       "                        <td id=\"T_a78e9d5e_abe9_11eb_9a48_9801a79b2aadrow3_col3\" class=\"data row3 col3\" >False</td>\n",
       "                        <td id=\"T_a78e9d5e_abe9_11eb_9a48_9801a79b2aadrow3_col4\" class=\"data row3 col4\" >True</td>\n",
       "                        <td id=\"T_a78e9d5e_abe9_11eb_9a48_9801a79b2aadrow3_col5\" class=\"data row3 col5\" >False</td>\n",
       "                        <td id=\"T_a78e9d5e_abe9_11eb_9a48_9801a79b2aadrow3_col6\" class=\"data row3 col6\" >False</td>\n",
       "                        <td id=\"T_a78e9d5e_abe9_11eb_9a48_9801a79b2aadrow3_col7\" class=\"data row3 col7\" >False</td>\n",
       "                        <td id=\"T_a78e9d5e_abe9_11eb_9a48_9801a79b2aadrow3_col8\" class=\"data row3 col8\" >False</td>\n",
       "                        <td id=\"T_a78e9d5e_abe9_11eb_9a48_9801a79b2aadrow3_col9\" class=\"data row3 col9\" >True</td>\n",
       "                        <td id=\"T_a78e9d5e_abe9_11eb_9a48_9801a79b2aadrow3_col10\" class=\"data row3 col10\" >True</td>\n",
       "                        <td id=\"T_a78e9d5e_abe9_11eb_9a48_9801a79b2aadrow3_col11\" class=\"data row3 col11\" >False</td>\n",
       "                        <td id=\"T_a78e9d5e_abe9_11eb_9a48_9801a79b2aadrow3_col12\" class=\"data row3 col12\" >False</td>\n",
       "            </tr>\n",
       "    </tbody></table>"
      ],
      "text/plain": [
       "<pandas.io.formats.style.Styler at 0x1219489a0>"
      ]
     },
     "execution_count": 10,
     "metadata": {},
     "output_type": "execute_result"
    }
   ],
   "source": [
    "results['compatibility']['binary_different_ops']"
   ]
  },
  {
   "cell_type": "code",
   "execution_count": 11,
   "metadata": {
    "collapsed": false,
    "jupyter": {
     "outputs_hidden": false
    }
   },
   "outputs": [
    {
     "data": {
      "text/html": [
       "<style  type=\"text/css\" >\n",
       "#T_a866f410_abe9_11eb_9a48_9801a79b2aadrow0_col0,#T_a866f410_abe9_11eb_9a48_9801a79b2aadrow0_col1,#T_a866f410_abe9_11eb_9a48_9801a79b2aadrow0_col2,#T_a866f410_abe9_11eb_9a48_9801a79b2aadrow0_col3,#T_a866f410_abe9_11eb_9a48_9801a79b2aadrow0_col4,#T_a866f410_abe9_11eb_9a48_9801a79b2aadrow0_col12,#T_a866f410_abe9_11eb_9a48_9801a79b2aadrow0_col13,#T_a866f410_abe9_11eb_9a48_9801a79b2aadrow0_col14,#T_a866f410_abe9_11eb_9a48_9801a79b2aadrow0_col15,#T_a866f410_abe9_11eb_9a48_9801a79b2aadrow0_col30,#T_a866f410_abe9_11eb_9a48_9801a79b2aadrow0_col31,#T_a866f410_abe9_11eb_9a48_9801a79b2aadrow0_col32,#T_a866f410_abe9_11eb_9a48_9801a79b2aadrow1_col0,#T_a866f410_abe9_11eb_9a48_9801a79b2aadrow1_col1,#T_a866f410_abe9_11eb_9a48_9801a79b2aadrow1_col2,#T_a866f410_abe9_11eb_9a48_9801a79b2aadrow1_col3,#T_a866f410_abe9_11eb_9a48_9801a79b2aadrow1_col4,#T_a866f410_abe9_11eb_9a48_9801a79b2aadrow1_col12,#T_a866f410_abe9_11eb_9a48_9801a79b2aadrow1_col13,#T_a866f410_abe9_11eb_9a48_9801a79b2aadrow1_col14,#T_a866f410_abe9_11eb_9a48_9801a79b2aadrow1_col15,#T_a866f410_abe9_11eb_9a48_9801a79b2aadrow1_col30,#T_a866f410_abe9_11eb_9a48_9801a79b2aadrow1_col31,#T_a866f410_abe9_11eb_9a48_9801a79b2aadrow1_col32,#T_a866f410_abe9_11eb_9a48_9801a79b2aadrow2_col0,#T_a866f410_abe9_11eb_9a48_9801a79b2aadrow2_col1,#T_a866f410_abe9_11eb_9a48_9801a79b2aadrow2_col2,#T_a866f410_abe9_11eb_9a48_9801a79b2aadrow2_col3,#T_a866f410_abe9_11eb_9a48_9801a79b2aadrow2_col4,#T_a866f410_abe9_11eb_9a48_9801a79b2aadrow2_col12,#T_a866f410_abe9_11eb_9a48_9801a79b2aadrow2_col13,#T_a866f410_abe9_11eb_9a48_9801a79b2aadrow2_col14,#T_a866f410_abe9_11eb_9a48_9801a79b2aadrow2_col15,#T_a866f410_abe9_11eb_9a48_9801a79b2aadrow2_col30,#T_a866f410_abe9_11eb_9a48_9801a79b2aadrow2_col31,#T_a866f410_abe9_11eb_9a48_9801a79b2aadrow2_col32,#T_a866f410_abe9_11eb_9a48_9801a79b2aadrow3_col0,#T_a866f410_abe9_11eb_9a48_9801a79b2aadrow3_col1,#T_a866f410_abe9_11eb_9a48_9801a79b2aadrow3_col3,#T_a866f410_abe9_11eb_9a48_9801a79b2aadrow3_col12,#T_a866f410_abe9_11eb_9a48_9801a79b2aadrow3_col13,#T_a866f410_abe9_11eb_9a48_9801a79b2aadrow3_col14,#T_a866f410_abe9_11eb_9a48_9801a79b2aadrow3_col15,#T_a866f410_abe9_11eb_9a48_9801a79b2aadrow3_col30,#T_a866f410_abe9_11eb_9a48_9801a79b2aadrow3_col31{\n",
       "            color:  green;\n",
       "        }#T_a866f410_abe9_11eb_9a48_9801a79b2aadrow0_col5,#T_a866f410_abe9_11eb_9a48_9801a79b2aadrow0_col6,#T_a866f410_abe9_11eb_9a48_9801a79b2aadrow0_col7,#T_a866f410_abe9_11eb_9a48_9801a79b2aadrow0_col8,#T_a866f410_abe9_11eb_9a48_9801a79b2aadrow0_col9,#T_a866f410_abe9_11eb_9a48_9801a79b2aadrow0_col10,#T_a866f410_abe9_11eb_9a48_9801a79b2aadrow0_col11,#T_a866f410_abe9_11eb_9a48_9801a79b2aadrow0_col16,#T_a866f410_abe9_11eb_9a48_9801a79b2aadrow0_col17,#T_a866f410_abe9_11eb_9a48_9801a79b2aadrow0_col18,#T_a866f410_abe9_11eb_9a48_9801a79b2aadrow0_col19,#T_a866f410_abe9_11eb_9a48_9801a79b2aadrow0_col20,#T_a866f410_abe9_11eb_9a48_9801a79b2aadrow0_col21,#T_a866f410_abe9_11eb_9a48_9801a79b2aadrow0_col22,#T_a866f410_abe9_11eb_9a48_9801a79b2aadrow0_col23,#T_a866f410_abe9_11eb_9a48_9801a79b2aadrow0_col24,#T_a866f410_abe9_11eb_9a48_9801a79b2aadrow0_col25,#T_a866f410_abe9_11eb_9a48_9801a79b2aadrow0_col26,#T_a866f410_abe9_11eb_9a48_9801a79b2aadrow0_col27,#T_a866f410_abe9_11eb_9a48_9801a79b2aadrow0_col28,#T_a866f410_abe9_11eb_9a48_9801a79b2aadrow0_col29,#T_a866f410_abe9_11eb_9a48_9801a79b2aadrow1_col5,#T_a866f410_abe9_11eb_9a48_9801a79b2aadrow1_col6,#T_a866f410_abe9_11eb_9a48_9801a79b2aadrow1_col7,#T_a866f410_abe9_11eb_9a48_9801a79b2aadrow1_col8,#T_a866f410_abe9_11eb_9a48_9801a79b2aadrow1_col9,#T_a866f410_abe9_11eb_9a48_9801a79b2aadrow1_col10,#T_a866f410_abe9_11eb_9a48_9801a79b2aadrow1_col11,#T_a866f410_abe9_11eb_9a48_9801a79b2aadrow1_col16,#T_a866f410_abe9_11eb_9a48_9801a79b2aadrow1_col17,#T_a866f410_abe9_11eb_9a48_9801a79b2aadrow1_col18,#T_a866f410_abe9_11eb_9a48_9801a79b2aadrow1_col19,#T_a866f410_abe9_11eb_9a48_9801a79b2aadrow1_col20,#T_a866f410_abe9_11eb_9a48_9801a79b2aadrow1_col21,#T_a866f410_abe9_11eb_9a48_9801a79b2aadrow1_col22,#T_a866f410_abe9_11eb_9a48_9801a79b2aadrow1_col23,#T_a866f410_abe9_11eb_9a48_9801a79b2aadrow1_col24,#T_a866f410_abe9_11eb_9a48_9801a79b2aadrow1_col25,#T_a866f410_abe9_11eb_9a48_9801a79b2aadrow1_col26,#T_a866f410_abe9_11eb_9a48_9801a79b2aadrow1_col27,#T_a866f410_abe9_11eb_9a48_9801a79b2aadrow1_col28,#T_a866f410_abe9_11eb_9a48_9801a79b2aadrow1_col29,#T_a866f410_abe9_11eb_9a48_9801a79b2aadrow2_col5,#T_a866f410_abe9_11eb_9a48_9801a79b2aadrow2_col6,#T_a866f410_abe9_11eb_9a48_9801a79b2aadrow2_col7,#T_a866f410_abe9_11eb_9a48_9801a79b2aadrow2_col8,#T_a866f410_abe9_11eb_9a48_9801a79b2aadrow2_col9,#T_a866f410_abe9_11eb_9a48_9801a79b2aadrow2_col10,#T_a866f410_abe9_11eb_9a48_9801a79b2aadrow2_col11,#T_a866f410_abe9_11eb_9a48_9801a79b2aadrow2_col16,#T_a866f410_abe9_11eb_9a48_9801a79b2aadrow2_col17,#T_a866f410_abe9_11eb_9a48_9801a79b2aadrow2_col18,#T_a866f410_abe9_11eb_9a48_9801a79b2aadrow2_col19,#T_a866f410_abe9_11eb_9a48_9801a79b2aadrow2_col20,#T_a866f410_abe9_11eb_9a48_9801a79b2aadrow2_col21,#T_a866f410_abe9_11eb_9a48_9801a79b2aadrow2_col22,#T_a866f410_abe9_11eb_9a48_9801a79b2aadrow2_col23,#T_a866f410_abe9_11eb_9a48_9801a79b2aadrow2_col24,#T_a866f410_abe9_11eb_9a48_9801a79b2aadrow2_col25,#T_a866f410_abe9_11eb_9a48_9801a79b2aadrow2_col26,#T_a866f410_abe9_11eb_9a48_9801a79b2aadrow2_col27,#T_a866f410_abe9_11eb_9a48_9801a79b2aadrow2_col28,#T_a866f410_abe9_11eb_9a48_9801a79b2aadrow2_col29,#T_a866f410_abe9_11eb_9a48_9801a79b2aadrow3_col2,#T_a866f410_abe9_11eb_9a48_9801a79b2aadrow3_col4,#T_a866f410_abe9_11eb_9a48_9801a79b2aadrow3_col5,#T_a866f410_abe9_11eb_9a48_9801a79b2aadrow3_col6,#T_a866f410_abe9_11eb_9a48_9801a79b2aadrow3_col7,#T_a866f410_abe9_11eb_9a48_9801a79b2aadrow3_col8,#T_a866f410_abe9_11eb_9a48_9801a79b2aadrow3_col9,#T_a866f410_abe9_11eb_9a48_9801a79b2aadrow3_col10,#T_a866f410_abe9_11eb_9a48_9801a79b2aadrow3_col11,#T_a866f410_abe9_11eb_9a48_9801a79b2aadrow3_col16,#T_a866f410_abe9_11eb_9a48_9801a79b2aadrow3_col17,#T_a866f410_abe9_11eb_9a48_9801a79b2aadrow3_col18,#T_a866f410_abe9_11eb_9a48_9801a79b2aadrow3_col19,#T_a866f410_abe9_11eb_9a48_9801a79b2aadrow3_col20,#T_a866f410_abe9_11eb_9a48_9801a79b2aadrow3_col21,#T_a866f410_abe9_11eb_9a48_9801a79b2aadrow3_col22,#T_a866f410_abe9_11eb_9a48_9801a79b2aadrow3_col23,#T_a866f410_abe9_11eb_9a48_9801a79b2aadrow3_col24,#T_a866f410_abe9_11eb_9a48_9801a79b2aadrow3_col25,#T_a866f410_abe9_11eb_9a48_9801a79b2aadrow3_col26,#T_a866f410_abe9_11eb_9a48_9801a79b2aadrow3_col27,#T_a866f410_abe9_11eb_9a48_9801a79b2aadrow3_col28,#T_a866f410_abe9_11eb_9a48_9801a79b2aadrow3_col29,#T_a866f410_abe9_11eb_9a48_9801a79b2aadrow3_col32{\n",
       "            color:  red;\n",
       "        }</style><table id=\"T_a866f410_abe9_11eb_9a48_9801a79b2aad\" ><thead>    <tr>        <th class=\"blank level0\" ></th>        <th class=\"col_heading level0 col0\" >negative</th>        <th class=\"col_heading level0 col1\" >absolute</th>        <th class=\"col_heading level0 col2\" >rint</th>        <th class=\"col_heading level0 col3\" >sign</th>        <th class=\"col_heading level0 col4\" >conjugate</th>        <th class=\"col_heading level0 col5\" >exp</th>        <th class=\"col_heading level0 col6\" >exp2</th>        <th class=\"col_heading level0 col7\" >log</th>        <th class=\"col_heading level0 col8\" >log2</th>        <th class=\"col_heading level0 col9\" >log10</th>        <th class=\"col_heading level0 col10\" >expm1</th>        <th class=\"col_heading level0 col11\" >log1p</th>        <th class=\"col_heading level0 col12\" >sqrt</th>        <th class=\"col_heading level0 col13\" >square</th>        <th class=\"col_heading level0 col14\" >reciprocal</th>        <th class=\"col_heading level0 col15\" >ones_like</th>        <th class=\"col_heading level0 col16\" >sin</th>        <th class=\"col_heading level0 col17\" >cos</th>        <th class=\"col_heading level0 col18\" >tan</th>        <th class=\"col_heading level0 col19\" >arcsin</th>        <th class=\"col_heading level0 col20\" >arccos</th>        <th class=\"col_heading level0 col21\" >arctan</th>        <th class=\"col_heading level0 col22\" >sinh</th>        <th class=\"col_heading level0 col23\" >cosh</th>        <th class=\"col_heading level0 col24\" >tanh</th>        <th class=\"col_heading level0 col25\" >arcsinh</th>        <th class=\"col_heading level0 col26\" >arccosh</th>        <th class=\"col_heading level0 col27\" >arctanh</th>        <th class=\"col_heading level0 col28\" >deg2rad</th>        <th class=\"col_heading level0 col29\" >rad2deg</th>        <th class=\"col_heading level0 col30\" >floor</th>        <th class=\"col_heading level0 col31\" >ceil</th>        <th class=\"col_heading level0 col32\" >trunc</th>    </tr></thead><tbody>\n",
       "                <tr>\n",
       "                        <th id=\"T_a866f410_abe9_11eb_9a48_9801a79b2aadlevel0_row0\" class=\"row_heading level0 row0\" >astropy.units</th>\n",
       "                        <td id=\"T_a866f410_abe9_11eb_9a48_9801a79b2aadrow0_col0\" class=\"data row0 col0\" >True</td>\n",
       "                        <td id=\"T_a866f410_abe9_11eb_9a48_9801a79b2aadrow0_col1\" class=\"data row0 col1\" >True</td>\n",
       "                        <td id=\"T_a866f410_abe9_11eb_9a48_9801a79b2aadrow0_col2\" class=\"data row0 col2\" >True</td>\n",
       "                        <td id=\"T_a866f410_abe9_11eb_9a48_9801a79b2aadrow0_col3\" class=\"data row0 col3\" >True</td>\n",
       "                        <td id=\"T_a866f410_abe9_11eb_9a48_9801a79b2aadrow0_col4\" class=\"data row0 col4\" >True</td>\n",
       "                        <td id=\"T_a866f410_abe9_11eb_9a48_9801a79b2aadrow0_col5\" class=\"data row0 col5\" >False</td>\n",
       "                        <td id=\"T_a866f410_abe9_11eb_9a48_9801a79b2aadrow0_col6\" class=\"data row0 col6\" >False</td>\n",
       "                        <td id=\"T_a866f410_abe9_11eb_9a48_9801a79b2aadrow0_col7\" class=\"data row0 col7\" >False</td>\n",
       "                        <td id=\"T_a866f410_abe9_11eb_9a48_9801a79b2aadrow0_col8\" class=\"data row0 col8\" >False</td>\n",
       "                        <td id=\"T_a866f410_abe9_11eb_9a48_9801a79b2aadrow0_col9\" class=\"data row0 col9\" >False</td>\n",
       "                        <td id=\"T_a866f410_abe9_11eb_9a48_9801a79b2aadrow0_col10\" class=\"data row0 col10\" >False</td>\n",
       "                        <td id=\"T_a866f410_abe9_11eb_9a48_9801a79b2aadrow0_col11\" class=\"data row0 col11\" >False</td>\n",
       "                        <td id=\"T_a866f410_abe9_11eb_9a48_9801a79b2aadrow0_col12\" class=\"data row0 col12\" >True</td>\n",
       "                        <td id=\"T_a866f410_abe9_11eb_9a48_9801a79b2aadrow0_col13\" class=\"data row0 col13\" >True</td>\n",
       "                        <td id=\"T_a866f410_abe9_11eb_9a48_9801a79b2aadrow0_col14\" class=\"data row0 col14\" >True</td>\n",
       "                        <td id=\"T_a866f410_abe9_11eb_9a48_9801a79b2aadrow0_col15\" class=\"data row0 col15\" >True</td>\n",
       "                        <td id=\"T_a866f410_abe9_11eb_9a48_9801a79b2aadrow0_col16\" class=\"data row0 col16\" >False</td>\n",
       "                        <td id=\"T_a866f410_abe9_11eb_9a48_9801a79b2aadrow0_col17\" class=\"data row0 col17\" >False</td>\n",
       "                        <td id=\"T_a866f410_abe9_11eb_9a48_9801a79b2aadrow0_col18\" class=\"data row0 col18\" >False</td>\n",
       "                        <td id=\"T_a866f410_abe9_11eb_9a48_9801a79b2aadrow0_col19\" class=\"data row0 col19\" >False</td>\n",
       "                        <td id=\"T_a866f410_abe9_11eb_9a48_9801a79b2aadrow0_col20\" class=\"data row0 col20\" >False</td>\n",
       "                        <td id=\"T_a866f410_abe9_11eb_9a48_9801a79b2aadrow0_col21\" class=\"data row0 col21\" >False</td>\n",
       "                        <td id=\"T_a866f410_abe9_11eb_9a48_9801a79b2aadrow0_col22\" class=\"data row0 col22\" >False</td>\n",
       "                        <td id=\"T_a866f410_abe9_11eb_9a48_9801a79b2aadrow0_col23\" class=\"data row0 col23\" >False</td>\n",
       "                        <td id=\"T_a866f410_abe9_11eb_9a48_9801a79b2aadrow0_col24\" class=\"data row0 col24\" >False</td>\n",
       "                        <td id=\"T_a866f410_abe9_11eb_9a48_9801a79b2aadrow0_col25\" class=\"data row0 col25\" >False</td>\n",
       "                        <td id=\"T_a866f410_abe9_11eb_9a48_9801a79b2aadrow0_col26\" class=\"data row0 col26\" >False</td>\n",
       "                        <td id=\"T_a866f410_abe9_11eb_9a48_9801a79b2aadrow0_col27\" class=\"data row0 col27\" >False</td>\n",
       "                        <td id=\"T_a866f410_abe9_11eb_9a48_9801a79b2aadrow0_col28\" class=\"data row0 col28\" >False</td>\n",
       "                        <td id=\"T_a866f410_abe9_11eb_9a48_9801a79b2aadrow0_col29\" class=\"data row0 col29\" >False</td>\n",
       "                        <td id=\"T_a866f410_abe9_11eb_9a48_9801a79b2aadrow0_col30\" class=\"data row0 col30\" >True</td>\n",
       "                        <td id=\"T_a866f410_abe9_11eb_9a48_9801a79b2aadrow0_col31\" class=\"data row0 col31\" >True</td>\n",
       "                        <td id=\"T_a866f410_abe9_11eb_9a48_9801a79b2aadrow0_col32\" class=\"data row0 col32\" >True</td>\n",
       "            </tr>\n",
       "            <tr>\n",
       "                        <th id=\"T_a866f410_abe9_11eb_9a48_9801a79b2aadlevel0_row1\" class=\"row_heading level0 row1\" >pint</th>\n",
       "                        <td id=\"T_a866f410_abe9_11eb_9a48_9801a79b2aadrow1_col0\" class=\"data row1 col0\" >True</td>\n",
       "                        <td id=\"T_a866f410_abe9_11eb_9a48_9801a79b2aadrow1_col1\" class=\"data row1 col1\" >True</td>\n",
       "                        <td id=\"T_a866f410_abe9_11eb_9a48_9801a79b2aadrow1_col2\" class=\"data row1 col2\" >True</td>\n",
       "                        <td id=\"T_a866f410_abe9_11eb_9a48_9801a79b2aadrow1_col3\" class=\"data row1 col3\" >True</td>\n",
       "                        <td id=\"T_a866f410_abe9_11eb_9a48_9801a79b2aadrow1_col4\" class=\"data row1 col4\" >True</td>\n",
       "                        <td id=\"T_a866f410_abe9_11eb_9a48_9801a79b2aadrow1_col5\" class=\"data row1 col5\" >False</td>\n",
       "                        <td id=\"T_a866f410_abe9_11eb_9a48_9801a79b2aadrow1_col6\" class=\"data row1 col6\" >False</td>\n",
       "                        <td id=\"T_a866f410_abe9_11eb_9a48_9801a79b2aadrow1_col7\" class=\"data row1 col7\" >False</td>\n",
       "                        <td id=\"T_a866f410_abe9_11eb_9a48_9801a79b2aadrow1_col8\" class=\"data row1 col8\" >False</td>\n",
       "                        <td id=\"T_a866f410_abe9_11eb_9a48_9801a79b2aadrow1_col9\" class=\"data row1 col9\" >False</td>\n",
       "                        <td id=\"T_a866f410_abe9_11eb_9a48_9801a79b2aadrow1_col10\" class=\"data row1 col10\" >False</td>\n",
       "                        <td id=\"T_a866f410_abe9_11eb_9a48_9801a79b2aadrow1_col11\" class=\"data row1 col11\" >False</td>\n",
       "                        <td id=\"T_a866f410_abe9_11eb_9a48_9801a79b2aadrow1_col12\" class=\"data row1 col12\" >True</td>\n",
       "                        <td id=\"T_a866f410_abe9_11eb_9a48_9801a79b2aadrow1_col13\" class=\"data row1 col13\" >True</td>\n",
       "                        <td id=\"T_a866f410_abe9_11eb_9a48_9801a79b2aadrow1_col14\" class=\"data row1 col14\" >True</td>\n",
       "                        <td id=\"T_a866f410_abe9_11eb_9a48_9801a79b2aadrow1_col15\" class=\"data row1 col15\" >True</td>\n",
       "                        <td id=\"T_a866f410_abe9_11eb_9a48_9801a79b2aadrow1_col16\" class=\"data row1 col16\" >False</td>\n",
       "                        <td id=\"T_a866f410_abe9_11eb_9a48_9801a79b2aadrow1_col17\" class=\"data row1 col17\" >False</td>\n",
       "                        <td id=\"T_a866f410_abe9_11eb_9a48_9801a79b2aadrow1_col18\" class=\"data row1 col18\" >False</td>\n",
       "                        <td id=\"T_a866f410_abe9_11eb_9a48_9801a79b2aadrow1_col19\" class=\"data row1 col19\" >False</td>\n",
       "                        <td id=\"T_a866f410_abe9_11eb_9a48_9801a79b2aadrow1_col20\" class=\"data row1 col20\" >False</td>\n",
       "                        <td id=\"T_a866f410_abe9_11eb_9a48_9801a79b2aadrow1_col21\" class=\"data row1 col21\" >False</td>\n",
       "                        <td id=\"T_a866f410_abe9_11eb_9a48_9801a79b2aadrow1_col22\" class=\"data row1 col22\" >False</td>\n",
       "                        <td id=\"T_a866f410_abe9_11eb_9a48_9801a79b2aadrow1_col23\" class=\"data row1 col23\" >False</td>\n",
       "                        <td id=\"T_a866f410_abe9_11eb_9a48_9801a79b2aadrow1_col24\" class=\"data row1 col24\" >False</td>\n",
       "                        <td id=\"T_a866f410_abe9_11eb_9a48_9801a79b2aadrow1_col25\" class=\"data row1 col25\" >False</td>\n",
       "                        <td id=\"T_a866f410_abe9_11eb_9a48_9801a79b2aadrow1_col26\" class=\"data row1 col26\" >False</td>\n",
       "                        <td id=\"T_a866f410_abe9_11eb_9a48_9801a79b2aadrow1_col27\" class=\"data row1 col27\" >False</td>\n",
       "                        <td id=\"T_a866f410_abe9_11eb_9a48_9801a79b2aadrow1_col28\" class=\"data row1 col28\" >False</td>\n",
       "                        <td id=\"T_a866f410_abe9_11eb_9a48_9801a79b2aadrow1_col29\" class=\"data row1 col29\" >False</td>\n",
       "                        <td id=\"T_a866f410_abe9_11eb_9a48_9801a79b2aadrow1_col30\" class=\"data row1 col30\" >True</td>\n",
       "                        <td id=\"T_a866f410_abe9_11eb_9a48_9801a79b2aadrow1_col31\" class=\"data row1 col31\" >True</td>\n",
       "                        <td id=\"T_a866f410_abe9_11eb_9a48_9801a79b2aadrow1_col32\" class=\"data row1 col32\" >True</td>\n",
       "            </tr>\n",
       "            <tr>\n",
       "                        <th id=\"T_a866f410_abe9_11eb_9a48_9801a79b2aadlevel0_row2\" class=\"row_heading level0 row2\" >physipy</th>\n",
       "                        <td id=\"T_a866f410_abe9_11eb_9a48_9801a79b2aadrow2_col0\" class=\"data row2 col0\" >True</td>\n",
       "                        <td id=\"T_a866f410_abe9_11eb_9a48_9801a79b2aadrow2_col1\" class=\"data row2 col1\" >True</td>\n",
       "                        <td id=\"T_a866f410_abe9_11eb_9a48_9801a79b2aadrow2_col2\" class=\"data row2 col2\" >True</td>\n",
       "                        <td id=\"T_a866f410_abe9_11eb_9a48_9801a79b2aadrow2_col3\" class=\"data row2 col3\" >True</td>\n",
       "                        <td id=\"T_a866f410_abe9_11eb_9a48_9801a79b2aadrow2_col4\" class=\"data row2 col4\" >True</td>\n",
       "                        <td id=\"T_a866f410_abe9_11eb_9a48_9801a79b2aadrow2_col5\" class=\"data row2 col5\" >False</td>\n",
       "                        <td id=\"T_a866f410_abe9_11eb_9a48_9801a79b2aadrow2_col6\" class=\"data row2 col6\" >False</td>\n",
       "                        <td id=\"T_a866f410_abe9_11eb_9a48_9801a79b2aadrow2_col7\" class=\"data row2 col7\" >False</td>\n",
       "                        <td id=\"T_a866f410_abe9_11eb_9a48_9801a79b2aadrow2_col8\" class=\"data row2 col8\" >False</td>\n",
       "                        <td id=\"T_a866f410_abe9_11eb_9a48_9801a79b2aadrow2_col9\" class=\"data row2 col9\" >False</td>\n",
       "                        <td id=\"T_a866f410_abe9_11eb_9a48_9801a79b2aadrow2_col10\" class=\"data row2 col10\" >False</td>\n",
       "                        <td id=\"T_a866f410_abe9_11eb_9a48_9801a79b2aadrow2_col11\" class=\"data row2 col11\" >False</td>\n",
       "                        <td id=\"T_a866f410_abe9_11eb_9a48_9801a79b2aadrow2_col12\" class=\"data row2 col12\" >True</td>\n",
       "                        <td id=\"T_a866f410_abe9_11eb_9a48_9801a79b2aadrow2_col13\" class=\"data row2 col13\" >True</td>\n",
       "                        <td id=\"T_a866f410_abe9_11eb_9a48_9801a79b2aadrow2_col14\" class=\"data row2 col14\" >True</td>\n",
       "                        <td id=\"T_a866f410_abe9_11eb_9a48_9801a79b2aadrow2_col15\" class=\"data row2 col15\" >True</td>\n",
       "                        <td id=\"T_a866f410_abe9_11eb_9a48_9801a79b2aadrow2_col16\" class=\"data row2 col16\" >False</td>\n",
       "                        <td id=\"T_a866f410_abe9_11eb_9a48_9801a79b2aadrow2_col17\" class=\"data row2 col17\" >False</td>\n",
       "                        <td id=\"T_a866f410_abe9_11eb_9a48_9801a79b2aadrow2_col18\" class=\"data row2 col18\" >False</td>\n",
       "                        <td id=\"T_a866f410_abe9_11eb_9a48_9801a79b2aadrow2_col19\" class=\"data row2 col19\" >False</td>\n",
       "                        <td id=\"T_a866f410_abe9_11eb_9a48_9801a79b2aadrow2_col20\" class=\"data row2 col20\" >False</td>\n",
       "                        <td id=\"T_a866f410_abe9_11eb_9a48_9801a79b2aadrow2_col21\" class=\"data row2 col21\" >False</td>\n",
       "                        <td id=\"T_a866f410_abe9_11eb_9a48_9801a79b2aadrow2_col22\" class=\"data row2 col22\" >False</td>\n",
       "                        <td id=\"T_a866f410_abe9_11eb_9a48_9801a79b2aadrow2_col23\" class=\"data row2 col23\" >False</td>\n",
       "                        <td id=\"T_a866f410_abe9_11eb_9a48_9801a79b2aadrow2_col24\" class=\"data row2 col24\" >False</td>\n",
       "                        <td id=\"T_a866f410_abe9_11eb_9a48_9801a79b2aadrow2_col25\" class=\"data row2 col25\" >False</td>\n",
       "                        <td id=\"T_a866f410_abe9_11eb_9a48_9801a79b2aadrow2_col26\" class=\"data row2 col26\" >False</td>\n",
       "                        <td id=\"T_a866f410_abe9_11eb_9a48_9801a79b2aadrow2_col27\" class=\"data row2 col27\" >False</td>\n",
       "                        <td id=\"T_a866f410_abe9_11eb_9a48_9801a79b2aadrow2_col28\" class=\"data row2 col28\" >False</td>\n",
       "                        <td id=\"T_a866f410_abe9_11eb_9a48_9801a79b2aadrow2_col29\" class=\"data row2 col29\" >False</td>\n",
       "                        <td id=\"T_a866f410_abe9_11eb_9a48_9801a79b2aadrow2_col30\" class=\"data row2 col30\" >True</td>\n",
       "                        <td id=\"T_a866f410_abe9_11eb_9a48_9801a79b2aadrow2_col31\" class=\"data row2 col31\" >True</td>\n",
       "                        <td id=\"T_a866f410_abe9_11eb_9a48_9801a79b2aadrow2_col32\" class=\"data row2 col32\" >True</td>\n",
       "            </tr>\n",
       "            <tr>\n",
       "                        <th id=\"T_a866f410_abe9_11eb_9a48_9801a79b2aadlevel0_row3\" class=\"row_heading level0 row3\" >forallpeople</th>\n",
       "                        <td id=\"T_a866f410_abe9_11eb_9a48_9801a79b2aadrow3_col0\" class=\"data row3 col0\" >True</td>\n",
       "                        <td id=\"T_a866f410_abe9_11eb_9a48_9801a79b2aadrow3_col1\" class=\"data row3 col1\" >True</td>\n",
       "                        <td id=\"T_a866f410_abe9_11eb_9a48_9801a79b2aadrow3_col2\" class=\"data row3 col2\" >False</td>\n",
       "                        <td id=\"T_a866f410_abe9_11eb_9a48_9801a79b2aadrow3_col3\" class=\"data row3 col3\" >True</td>\n",
       "                        <td id=\"T_a866f410_abe9_11eb_9a48_9801a79b2aadrow3_col4\" class=\"data row3 col4\" >False</td>\n",
       "                        <td id=\"T_a866f410_abe9_11eb_9a48_9801a79b2aadrow3_col5\" class=\"data row3 col5\" >False</td>\n",
       "                        <td id=\"T_a866f410_abe9_11eb_9a48_9801a79b2aadrow3_col6\" class=\"data row3 col6\" >False</td>\n",
       "                        <td id=\"T_a866f410_abe9_11eb_9a48_9801a79b2aadrow3_col7\" class=\"data row3 col7\" >False</td>\n",
       "                        <td id=\"T_a866f410_abe9_11eb_9a48_9801a79b2aadrow3_col8\" class=\"data row3 col8\" >False</td>\n",
       "                        <td id=\"T_a866f410_abe9_11eb_9a48_9801a79b2aadrow3_col9\" class=\"data row3 col9\" >False</td>\n",
       "                        <td id=\"T_a866f410_abe9_11eb_9a48_9801a79b2aadrow3_col10\" class=\"data row3 col10\" >False</td>\n",
       "                        <td id=\"T_a866f410_abe9_11eb_9a48_9801a79b2aadrow3_col11\" class=\"data row3 col11\" >False</td>\n",
       "                        <td id=\"T_a866f410_abe9_11eb_9a48_9801a79b2aadrow3_col12\" class=\"data row3 col12\" >True</td>\n",
       "                        <td id=\"T_a866f410_abe9_11eb_9a48_9801a79b2aadrow3_col13\" class=\"data row3 col13\" >True</td>\n",
       "                        <td id=\"T_a866f410_abe9_11eb_9a48_9801a79b2aadrow3_col14\" class=\"data row3 col14\" >True</td>\n",
       "                        <td id=\"T_a866f410_abe9_11eb_9a48_9801a79b2aadrow3_col15\" class=\"data row3 col15\" >True</td>\n",
       "                        <td id=\"T_a866f410_abe9_11eb_9a48_9801a79b2aadrow3_col16\" class=\"data row3 col16\" >False</td>\n",
       "                        <td id=\"T_a866f410_abe9_11eb_9a48_9801a79b2aadrow3_col17\" class=\"data row3 col17\" >False</td>\n",
       "                        <td id=\"T_a866f410_abe9_11eb_9a48_9801a79b2aadrow3_col18\" class=\"data row3 col18\" >False</td>\n",
       "                        <td id=\"T_a866f410_abe9_11eb_9a48_9801a79b2aadrow3_col19\" class=\"data row3 col19\" >False</td>\n",
       "                        <td id=\"T_a866f410_abe9_11eb_9a48_9801a79b2aadrow3_col20\" class=\"data row3 col20\" >False</td>\n",
       "                        <td id=\"T_a866f410_abe9_11eb_9a48_9801a79b2aadrow3_col21\" class=\"data row3 col21\" >False</td>\n",
       "                        <td id=\"T_a866f410_abe9_11eb_9a48_9801a79b2aadrow3_col22\" class=\"data row3 col22\" >False</td>\n",
       "                        <td id=\"T_a866f410_abe9_11eb_9a48_9801a79b2aadrow3_col23\" class=\"data row3 col23\" >False</td>\n",
       "                        <td id=\"T_a866f410_abe9_11eb_9a48_9801a79b2aadrow3_col24\" class=\"data row3 col24\" >False</td>\n",
       "                        <td id=\"T_a866f410_abe9_11eb_9a48_9801a79b2aadrow3_col25\" class=\"data row3 col25\" >False</td>\n",
       "                        <td id=\"T_a866f410_abe9_11eb_9a48_9801a79b2aadrow3_col26\" class=\"data row3 col26\" >False</td>\n",
       "                        <td id=\"T_a866f410_abe9_11eb_9a48_9801a79b2aadrow3_col27\" class=\"data row3 col27\" >False</td>\n",
       "                        <td id=\"T_a866f410_abe9_11eb_9a48_9801a79b2aadrow3_col28\" class=\"data row3 col28\" >False</td>\n",
       "                        <td id=\"T_a866f410_abe9_11eb_9a48_9801a79b2aadrow3_col29\" class=\"data row3 col29\" >False</td>\n",
       "                        <td id=\"T_a866f410_abe9_11eb_9a48_9801a79b2aadrow3_col30\" class=\"data row3 col30\" >True</td>\n",
       "                        <td id=\"T_a866f410_abe9_11eb_9a48_9801a79b2aadrow3_col31\" class=\"data row3 col31\" >True</td>\n",
       "                        <td id=\"T_a866f410_abe9_11eb_9a48_9801a79b2aadrow3_col32\" class=\"data row3 col32\" >False</td>\n",
       "            </tr>\n",
       "    </tbody></table>"
      ],
      "text/plain": [
       "<pandas.io.formats.style.Styler at 0x1219488b0>"
      ]
     },
     "execution_count": 11,
     "metadata": {},
     "output_type": "execute_result"
    }
   ],
   "source": [
    "results['compatibility']['unary_ufuncs']"
   ]
  },
  {
   "cell_type": "code",
   "execution_count": 12,
   "metadata": {
    "collapsed": false,
    "jupyter": {
     "outputs_hidden": false
    }
   },
   "outputs": [
    {
     "data": {
      "text/html": [
       "<style  type=\"text/css\" >\n",
       "#T_ac10e6f2_abe9_11eb_9a48_9801a79b2aadrow0_col0,#T_ac10e6f2_abe9_11eb_9a48_9801a79b2aadrow0_col1,#T_ac10e6f2_abe9_11eb_9a48_9801a79b2aadrow0_col2,#T_ac10e6f2_abe9_11eb_9a48_9801a79b2aadrow0_col3,#T_ac10e6f2_abe9_11eb_9a48_9801a79b2aadrow0_col6,#T_ac10e6f2_abe9_11eb_9a48_9801a79b2aadrow0_col8,#T_ac10e6f2_abe9_11eb_9a48_9801a79b2aadrow0_col9,#T_ac10e6f2_abe9_11eb_9a48_9801a79b2aadrow0_col10,#T_ac10e6f2_abe9_11eb_9a48_9801a79b2aadrow0_col11,#T_ac10e6f2_abe9_11eb_9a48_9801a79b2aadrow0_col12,#T_ac10e6f2_abe9_11eb_9a48_9801a79b2aadrow0_col13,#T_ac10e6f2_abe9_11eb_9a48_9801a79b2aadrow0_col14,#T_ac10e6f2_abe9_11eb_9a48_9801a79b2aadrow0_col15,#T_ac10e6f2_abe9_11eb_9a48_9801a79b2aadrow0_col16,#T_ac10e6f2_abe9_11eb_9a48_9801a79b2aadrow0_col17,#T_ac10e6f2_abe9_11eb_9a48_9801a79b2aadrow0_col18,#T_ac10e6f2_abe9_11eb_9a48_9801a79b2aadrow0_col19,#T_ac10e6f2_abe9_11eb_9a48_9801a79b2aadrow1_col0,#T_ac10e6f2_abe9_11eb_9a48_9801a79b2aadrow1_col1,#T_ac10e6f2_abe9_11eb_9a48_9801a79b2aadrow1_col2,#T_ac10e6f2_abe9_11eb_9a48_9801a79b2aadrow1_col3,#T_ac10e6f2_abe9_11eb_9a48_9801a79b2aadrow1_col6,#T_ac10e6f2_abe9_11eb_9a48_9801a79b2aadrow1_col8,#T_ac10e6f2_abe9_11eb_9a48_9801a79b2aadrow1_col9,#T_ac10e6f2_abe9_11eb_9a48_9801a79b2aadrow1_col10,#T_ac10e6f2_abe9_11eb_9a48_9801a79b2aadrow1_col11,#T_ac10e6f2_abe9_11eb_9a48_9801a79b2aadrow1_col12,#T_ac10e6f2_abe9_11eb_9a48_9801a79b2aadrow1_col13,#T_ac10e6f2_abe9_11eb_9a48_9801a79b2aadrow1_col14,#T_ac10e6f2_abe9_11eb_9a48_9801a79b2aadrow1_col15,#T_ac10e6f2_abe9_11eb_9a48_9801a79b2aadrow1_col16,#T_ac10e6f2_abe9_11eb_9a48_9801a79b2aadrow1_col17,#T_ac10e6f2_abe9_11eb_9a48_9801a79b2aadrow1_col18,#T_ac10e6f2_abe9_11eb_9a48_9801a79b2aadrow1_col19,#T_ac10e6f2_abe9_11eb_9a48_9801a79b2aadrow2_col0,#T_ac10e6f2_abe9_11eb_9a48_9801a79b2aadrow2_col1,#T_ac10e6f2_abe9_11eb_9a48_9801a79b2aadrow2_col2,#T_ac10e6f2_abe9_11eb_9a48_9801a79b2aadrow2_col3,#T_ac10e6f2_abe9_11eb_9a48_9801a79b2aadrow2_col6,#T_ac10e6f2_abe9_11eb_9a48_9801a79b2aadrow2_col8,#T_ac10e6f2_abe9_11eb_9a48_9801a79b2aadrow2_col9,#T_ac10e6f2_abe9_11eb_9a48_9801a79b2aadrow2_col10,#T_ac10e6f2_abe9_11eb_9a48_9801a79b2aadrow2_col11,#T_ac10e6f2_abe9_11eb_9a48_9801a79b2aadrow2_col12,#T_ac10e6f2_abe9_11eb_9a48_9801a79b2aadrow2_col13,#T_ac10e6f2_abe9_11eb_9a48_9801a79b2aadrow2_col14,#T_ac10e6f2_abe9_11eb_9a48_9801a79b2aadrow2_col15,#T_ac10e6f2_abe9_11eb_9a48_9801a79b2aadrow2_col16,#T_ac10e6f2_abe9_11eb_9a48_9801a79b2aadrow2_col17,#T_ac10e6f2_abe9_11eb_9a48_9801a79b2aadrow2_col18,#T_ac10e6f2_abe9_11eb_9a48_9801a79b2aadrow2_col19,#T_ac10e6f2_abe9_11eb_9a48_9801a79b2aadrow3_col0,#T_ac10e6f2_abe9_11eb_9a48_9801a79b2aadrow3_col1,#T_ac10e6f2_abe9_11eb_9a48_9801a79b2aadrow3_col2,#T_ac10e6f2_abe9_11eb_9a48_9801a79b2aadrow3_col3,#T_ac10e6f2_abe9_11eb_9a48_9801a79b2aadrow3_col12,#T_ac10e6f2_abe9_11eb_9a48_9801a79b2aadrow3_col13,#T_ac10e6f2_abe9_11eb_9a48_9801a79b2aadrow3_col14,#T_ac10e6f2_abe9_11eb_9a48_9801a79b2aadrow3_col15,#T_ac10e6f2_abe9_11eb_9a48_9801a79b2aadrow3_col16,#T_ac10e6f2_abe9_11eb_9a48_9801a79b2aadrow3_col17,#T_ac10e6f2_abe9_11eb_9a48_9801a79b2aadrow3_col18,#T_ac10e6f2_abe9_11eb_9a48_9801a79b2aadrow3_col19{\n",
       "            color:  green;\n",
       "        }#T_ac10e6f2_abe9_11eb_9a48_9801a79b2aadrow0_col4,#T_ac10e6f2_abe9_11eb_9a48_9801a79b2aadrow0_col5,#T_ac10e6f2_abe9_11eb_9a48_9801a79b2aadrow0_col7,#T_ac10e6f2_abe9_11eb_9a48_9801a79b2aadrow1_col4,#T_ac10e6f2_abe9_11eb_9a48_9801a79b2aadrow1_col5,#T_ac10e6f2_abe9_11eb_9a48_9801a79b2aadrow1_col7,#T_ac10e6f2_abe9_11eb_9a48_9801a79b2aadrow2_col4,#T_ac10e6f2_abe9_11eb_9a48_9801a79b2aadrow2_col5,#T_ac10e6f2_abe9_11eb_9a48_9801a79b2aadrow2_col7,#T_ac10e6f2_abe9_11eb_9a48_9801a79b2aadrow3_col4,#T_ac10e6f2_abe9_11eb_9a48_9801a79b2aadrow3_col5,#T_ac10e6f2_abe9_11eb_9a48_9801a79b2aadrow3_col6,#T_ac10e6f2_abe9_11eb_9a48_9801a79b2aadrow3_col7,#T_ac10e6f2_abe9_11eb_9a48_9801a79b2aadrow3_col8,#T_ac10e6f2_abe9_11eb_9a48_9801a79b2aadrow3_col9,#T_ac10e6f2_abe9_11eb_9a48_9801a79b2aadrow3_col10,#T_ac10e6f2_abe9_11eb_9a48_9801a79b2aadrow3_col11{\n",
       "            color:  red;\n",
       "        }</style><table id=\"T_ac10e6f2_abe9_11eb_9a48_9801a79b2aad\" ><thead>    <tr>        <th class=\"blank level0\" ></th>        <th class=\"col_heading level0 col0\" >add</th>        <th class=\"col_heading level0 col1\" >subtract</th>        <th class=\"col_heading level0 col2\" >multiply</th>        <th class=\"col_heading level0 col3\" >true_divide</th>        <th class=\"col_heading level0 col4\" >logaddexp</th>        <th class=\"col_heading level0 col5\" >logaddexp2</th>        <th class=\"col_heading level0 col6\" >floor_divide</th>        <th class=\"col_heading level0 col7\" >power</th>        <th class=\"col_heading level0 col8\" >remainder</th>        <th class=\"col_heading level0 col9\" >fmod</th>        <th class=\"col_heading level0 col10\" >arctan2</th>        <th class=\"col_heading level0 col11\" >hypot</th>        <th class=\"col_heading level0 col12\" >greater</th>        <th class=\"col_heading level0 col13\" >greater_equal</th>        <th class=\"col_heading level0 col14\" >less</th>        <th class=\"col_heading level0 col15\" >less_equal</th>        <th class=\"col_heading level0 col16\" >not_equal</th>        <th class=\"col_heading level0 col17\" >equal</th>        <th class=\"col_heading level0 col18\" >maximum</th>        <th class=\"col_heading level0 col19\" >minimum</th>    </tr></thead><tbody>\n",
       "                <tr>\n",
       "                        <th id=\"T_ac10e6f2_abe9_11eb_9a48_9801a79b2aadlevel0_row0\" class=\"row_heading level0 row0\" >astropy.units</th>\n",
       "                        <td id=\"T_ac10e6f2_abe9_11eb_9a48_9801a79b2aadrow0_col0\" class=\"data row0 col0\" >True</td>\n",
       "                        <td id=\"T_ac10e6f2_abe9_11eb_9a48_9801a79b2aadrow0_col1\" class=\"data row0 col1\" >True</td>\n",
       "                        <td id=\"T_ac10e6f2_abe9_11eb_9a48_9801a79b2aadrow0_col2\" class=\"data row0 col2\" >True</td>\n",
       "                        <td id=\"T_ac10e6f2_abe9_11eb_9a48_9801a79b2aadrow0_col3\" class=\"data row0 col3\" >True</td>\n",
       "                        <td id=\"T_ac10e6f2_abe9_11eb_9a48_9801a79b2aadrow0_col4\" class=\"data row0 col4\" >False</td>\n",
       "                        <td id=\"T_ac10e6f2_abe9_11eb_9a48_9801a79b2aadrow0_col5\" class=\"data row0 col5\" >False</td>\n",
       "                        <td id=\"T_ac10e6f2_abe9_11eb_9a48_9801a79b2aadrow0_col6\" class=\"data row0 col6\" >True</td>\n",
       "                        <td id=\"T_ac10e6f2_abe9_11eb_9a48_9801a79b2aadrow0_col7\" class=\"data row0 col7\" >False</td>\n",
       "                        <td id=\"T_ac10e6f2_abe9_11eb_9a48_9801a79b2aadrow0_col8\" class=\"data row0 col8\" >True</td>\n",
       "                        <td id=\"T_ac10e6f2_abe9_11eb_9a48_9801a79b2aadrow0_col9\" class=\"data row0 col9\" >True</td>\n",
       "                        <td id=\"T_ac10e6f2_abe9_11eb_9a48_9801a79b2aadrow0_col10\" class=\"data row0 col10\" >True</td>\n",
       "                        <td id=\"T_ac10e6f2_abe9_11eb_9a48_9801a79b2aadrow0_col11\" class=\"data row0 col11\" >True</td>\n",
       "                        <td id=\"T_ac10e6f2_abe9_11eb_9a48_9801a79b2aadrow0_col12\" class=\"data row0 col12\" >True</td>\n",
       "                        <td id=\"T_ac10e6f2_abe9_11eb_9a48_9801a79b2aadrow0_col13\" class=\"data row0 col13\" >True</td>\n",
       "                        <td id=\"T_ac10e6f2_abe9_11eb_9a48_9801a79b2aadrow0_col14\" class=\"data row0 col14\" >True</td>\n",
       "                        <td id=\"T_ac10e6f2_abe9_11eb_9a48_9801a79b2aadrow0_col15\" class=\"data row0 col15\" >True</td>\n",
       "                        <td id=\"T_ac10e6f2_abe9_11eb_9a48_9801a79b2aadrow0_col16\" class=\"data row0 col16\" >True</td>\n",
       "                        <td id=\"T_ac10e6f2_abe9_11eb_9a48_9801a79b2aadrow0_col17\" class=\"data row0 col17\" >True</td>\n",
       "                        <td id=\"T_ac10e6f2_abe9_11eb_9a48_9801a79b2aadrow0_col18\" class=\"data row0 col18\" >True</td>\n",
       "                        <td id=\"T_ac10e6f2_abe9_11eb_9a48_9801a79b2aadrow0_col19\" class=\"data row0 col19\" >True</td>\n",
       "            </tr>\n",
       "            <tr>\n",
       "                        <th id=\"T_ac10e6f2_abe9_11eb_9a48_9801a79b2aadlevel0_row1\" class=\"row_heading level0 row1\" >pint</th>\n",
       "                        <td id=\"T_ac10e6f2_abe9_11eb_9a48_9801a79b2aadrow1_col0\" class=\"data row1 col0\" >True</td>\n",
       "                        <td id=\"T_ac10e6f2_abe9_11eb_9a48_9801a79b2aadrow1_col1\" class=\"data row1 col1\" >True</td>\n",
       "                        <td id=\"T_ac10e6f2_abe9_11eb_9a48_9801a79b2aadrow1_col2\" class=\"data row1 col2\" >True</td>\n",
       "                        <td id=\"T_ac10e6f2_abe9_11eb_9a48_9801a79b2aadrow1_col3\" class=\"data row1 col3\" >True</td>\n",
       "                        <td id=\"T_ac10e6f2_abe9_11eb_9a48_9801a79b2aadrow1_col4\" class=\"data row1 col4\" >False</td>\n",
       "                        <td id=\"T_ac10e6f2_abe9_11eb_9a48_9801a79b2aadrow1_col5\" class=\"data row1 col5\" >False</td>\n",
       "                        <td id=\"T_ac10e6f2_abe9_11eb_9a48_9801a79b2aadrow1_col6\" class=\"data row1 col6\" >True</td>\n",
       "                        <td id=\"T_ac10e6f2_abe9_11eb_9a48_9801a79b2aadrow1_col7\" class=\"data row1 col7\" >False</td>\n",
       "                        <td id=\"T_ac10e6f2_abe9_11eb_9a48_9801a79b2aadrow1_col8\" class=\"data row1 col8\" >True</td>\n",
       "                        <td id=\"T_ac10e6f2_abe9_11eb_9a48_9801a79b2aadrow1_col9\" class=\"data row1 col9\" >True</td>\n",
       "                        <td id=\"T_ac10e6f2_abe9_11eb_9a48_9801a79b2aadrow1_col10\" class=\"data row1 col10\" >True</td>\n",
       "                        <td id=\"T_ac10e6f2_abe9_11eb_9a48_9801a79b2aadrow1_col11\" class=\"data row1 col11\" >True</td>\n",
       "                        <td id=\"T_ac10e6f2_abe9_11eb_9a48_9801a79b2aadrow1_col12\" class=\"data row1 col12\" >True</td>\n",
       "                        <td id=\"T_ac10e6f2_abe9_11eb_9a48_9801a79b2aadrow1_col13\" class=\"data row1 col13\" >True</td>\n",
       "                        <td id=\"T_ac10e6f2_abe9_11eb_9a48_9801a79b2aadrow1_col14\" class=\"data row1 col14\" >True</td>\n",
       "                        <td id=\"T_ac10e6f2_abe9_11eb_9a48_9801a79b2aadrow1_col15\" class=\"data row1 col15\" >True</td>\n",
       "                        <td id=\"T_ac10e6f2_abe9_11eb_9a48_9801a79b2aadrow1_col16\" class=\"data row1 col16\" >True</td>\n",
       "                        <td id=\"T_ac10e6f2_abe9_11eb_9a48_9801a79b2aadrow1_col17\" class=\"data row1 col17\" >True</td>\n",
       "                        <td id=\"T_ac10e6f2_abe9_11eb_9a48_9801a79b2aadrow1_col18\" class=\"data row1 col18\" >True</td>\n",
       "                        <td id=\"T_ac10e6f2_abe9_11eb_9a48_9801a79b2aadrow1_col19\" class=\"data row1 col19\" >True</td>\n",
       "            </tr>\n",
       "            <tr>\n",
       "                        <th id=\"T_ac10e6f2_abe9_11eb_9a48_9801a79b2aadlevel0_row2\" class=\"row_heading level0 row2\" >physipy</th>\n",
       "                        <td id=\"T_ac10e6f2_abe9_11eb_9a48_9801a79b2aadrow2_col0\" class=\"data row2 col0\" >True</td>\n",
       "                        <td id=\"T_ac10e6f2_abe9_11eb_9a48_9801a79b2aadrow2_col1\" class=\"data row2 col1\" >True</td>\n",
       "                        <td id=\"T_ac10e6f2_abe9_11eb_9a48_9801a79b2aadrow2_col2\" class=\"data row2 col2\" >True</td>\n",
       "                        <td id=\"T_ac10e6f2_abe9_11eb_9a48_9801a79b2aadrow2_col3\" class=\"data row2 col3\" >True</td>\n",
       "                        <td id=\"T_ac10e6f2_abe9_11eb_9a48_9801a79b2aadrow2_col4\" class=\"data row2 col4\" >False</td>\n",
       "                        <td id=\"T_ac10e6f2_abe9_11eb_9a48_9801a79b2aadrow2_col5\" class=\"data row2 col5\" >False</td>\n",
       "                        <td id=\"T_ac10e6f2_abe9_11eb_9a48_9801a79b2aadrow2_col6\" class=\"data row2 col6\" >True</td>\n",
       "                        <td id=\"T_ac10e6f2_abe9_11eb_9a48_9801a79b2aadrow2_col7\" class=\"data row2 col7\" >False</td>\n",
       "                        <td id=\"T_ac10e6f2_abe9_11eb_9a48_9801a79b2aadrow2_col8\" class=\"data row2 col8\" >True</td>\n",
       "                        <td id=\"T_ac10e6f2_abe9_11eb_9a48_9801a79b2aadrow2_col9\" class=\"data row2 col9\" >True</td>\n",
       "                        <td id=\"T_ac10e6f2_abe9_11eb_9a48_9801a79b2aadrow2_col10\" class=\"data row2 col10\" >True</td>\n",
       "                        <td id=\"T_ac10e6f2_abe9_11eb_9a48_9801a79b2aadrow2_col11\" class=\"data row2 col11\" >True</td>\n",
       "                        <td id=\"T_ac10e6f2_abe9_11eb_9a48_9801a79b2aadrow2_col12\" class=\"data row2 col12\" >True</td>\n",
       "                        <td id=\"T_ac10e6f2_abe9_11eb_9a48_9801a79b2aadrow2_col13\" class=\"data row2 col13\" >True</td>\n",
       "                        <td id=\"T_ac10e6f2_abe9_11eb_9a48_9801a79b2aadrow2_col14\" class=\"data row2 col14\" >True</td>\n",
       "                        <td id=\"T_ac10e6f2_abe9_11eb_9a48_9801a79b2aadrow2_col15\" class=\"data row2 col15\" >True</td>\n",
       "                        <td id=\"T_ac10e6f2_abe9_11eb_9a48_9801a79b2aadrow2_col16\" class=\"data row2 col16\" >True</td>\n",
       "                        <td id=\"T_ac10e6f2_abe9_11eb_9a48_9801a79b2aadrow2_col17\" class=\"data row2 col17\" >True</td>\n",
       "                        <td id=\"T_ac10e6f2_abe9_11eb_9a48_9801a79b2aadrow2_col18\" class=\"data row2 col18\" >True</td>\n",
       "                        <td id=\"T_ac10e6f2_abe9_11eb_9a48_9801a79b2aadrow2_col19\" class=\"data row2 col19\" >True</td>\n",
       "            </tr>\n",
       "            <tr>\n",
       "                        <th id=\"T_ac10e6f2_abe9_11eb_9a48_9801a79b2aadlevel0_row3\" class=\"row_heading level0 row3\" >forallpeople</th>\n",
       "                        <td id=\"T_ac10e6f2_abe9_11eb_9a48_9801a79b2aadrow3_col0\" class=\"data row3 col0\" >True</td>\n",
       "                        <td id=\"T_ac10e6f2_abe9_11eb_9a48_9801a79b2aadrow3_col1\" class=\"data row3 col1\" >True</td>\n",
       "                        <td id=\"T_ac10e6f2_abe9_11eb_9a48_9801a79b2aadrow3_col2\" class=\"data row3 col2\" >True</td>\n",
       "                        <td id=\"T_ac10e6f2_abe9_11eb_9a48_9801a79b2aadrow3_col3\" class=\"data row3 col3\" >True</td>\n",
       "                        <td id=\"T_ac10e6f2_abe9_11eb_9a48_9801a79b2aadrow3_col4\" class=\"data row3 col4\" >False</td>\n",
       "                        <td id=\"T_ac10e6f2_abe9_11eb_9a48_9801a79b2aadrow3_col5\" class=\"data row3 col5\" >False</td>\n",
       "                        <td id=\"T_ac10e6f2_abe9_11eb_9a48_9801a79b2aadrow3_col6\" class=\"data row3 col6\" >False</td>\n",
       "                        <td id=\"T_ac10e6f2_abe9_11eb_9a48_9801a79b2aadrow3_col7\" class=\"data row3 col7\" >False</td>\n",
       "                        <td id=\"T_ac10e6f2_abe9_11eb_9a48_9801a79b2aadrow3_col8\" class=\"data row3 col8\" >False</td>\n",
       "                        <td id=\"T_ac10e6f2_abe9_11eb_9a48_9801a79b2aadrow3_col9\" class=\"data row3 col9\" >False</td>\n",
       "                        <td id=\"T_ac10e6f2_abe9_11eb_9a48_9801a79b2aadrow3_col10\" class=\"data row3 col10\" >False</td>\n",
       "                        <td id=\"T_ac10e6f2_abe9_11eb_9a48_9801a79b2aadrow3_col11\" class=\"data row3 col11\" >False</td>\n",
       "                        <td id=\"T_ac10e6f2_abe9_11eb_9a48_9801a79b2aadrow3_col12\" class=\"data row3 col12\" >True</td>\n",
       "                        <td id=\"T_ac10e6f2_abe9_11eb_9a48_9801a79b2aadrow3_col13\" class=\"data row3 col13\" >True</td>\n",
       "                        <td id=\"T_ac10e6f2_abe9_11eb_9a48_9801a79b2aadrow3_col14\" class=\"data row3 col14\" >True</td>\n",
       "                        <td id=\"T_ac10e6f2_abe9_11eb_9a48_9801a79b2aadrow3_col15\" class=\"data row3 col15\" >True</td>\n",
       "                        <td id=\"T_ac10e6f2_abe9_11eb_9a48_9801a79b2aadrow3_col16\" class=\"data row3 col16\" >True</td>\n",
       "                        <td id=\"T_ac10e6f2_abe9_11eb_9a48_9801a79b2aadrow3_col17\" class=\"data row3 col17\" >True</td>\n",
       "                        <td id=\"T_ac10e6f2_abe9_11eb_9a48_9801a79b2aadrow3_col18\" class=\"data row3 col18\" >True</td>\n",
       "                        <td id=\"T_ac10e6f2_abe9_11eb_9a48_9801a79b2aadrow3_col19\" class=\"data row3 col19\" >True</td>\n",
       "            </tr>\n",
       "    </tbody></table>"
      ],
      "text/plain": [
       "<pandas.io.formats.style.Styler at 0x12193e6a0>"
      ]
     },
     "execution_count": 12,
     "metadata": {},
     "output_type": "execute_result"
    }
   ],
   "source": [
    "results['compatibility']['binary_same_ufuncs']"
   ]
  },
  {
   "cell_type": "code",
   "execution_count": 13,
   "metadata": {
    "collapsed": false,
    "jupyter": {
     "outputs_hidden": false
    }
   },
   "outputs": [
    {
     "data": {
      "text/html": [
       "<style  type=\"text/css\" >\n",
       "#T_adee5e0a_abe9_11eb_9a48_9801a79b2aadrow0_col0,#T_adee5e0a_abe9_11eb_9a48_9801a79b2aadrow0_col1,#T_adee5e0a_abe9_11eb_9a48_9801a79b2aadrow0_col2,#T_adee5e0a_abe9_11eb_9a48_9801a79b2aadrow0_col3,#T_adee5e0a_abe9_11eb_9a48_9801a79b2aadrow0_col6,#T_adee5e0a_abe9_11eb_9a48_9801a79b2aadrow0_col8,#T_adee5e0a_abe9_11eb_9a48_9801a79b2aadrow0_col9,#T_adee5e0a_abe9_11eb_9a48_9801a79b2aadrow0_col10,#T_adee5e0a_abe9_11eb_9a48_9801a79b2aadrow0_col11,#T_adee5e0a_abe9_11eb_9a48_9801a79b2aadrow0_col12,#T_adee5e0a_abe9_11eb_9a48_9801a79b2aadrow0_col13,#T_adee5e0a_abe9_11eb_9a48_9801a79b2aadrow0_col14,#T_adee5e0a_abe9_11eb_9a48_9801a79b2aadrow0_col15,#T_adee5e0a_abe9_11eb_9a48_9801a79b2aadrow0_col16,#T_adee5e0a_abe9_11eb_9a48_9801a79b2aadrow0_col17,#T_adee5e0a_abe9_11eb_9a48_9801a79b2aadrow0_col18,#T_adee5e0a_abe9_11eb_9a48_9801a79b2aadrow0_col19,#T_adee5e0a_abe9_11eb_9a48_9801a79b2aadrow1_col0,#T_adee5e0a_abe9_11eb_9a48_9801a79b2aadrow1_col1,#T_adee5e0a_abe9_11eb_9a48_9801a79b2aadrow1_col2,#T_adee5e0a_abe9_11eb_9a48_9801a79b2aadrow1_col3,#T_adee5e0a_abe9_11eb_9a48_9801a79b2aadrow1_col6,#T_adee5e0a_abe9_11eb_9a48_9801a79b2aadrow1_col8,#T_adee5e0a_abe9_11eb_9a48_9801a79b2aadrow1_col9,#T_adee5e0a_abe9_11eb_9a48_9801a79b2aadrow1_col10,#T_adee5e0a_abe9_11eb_9a48_9801a79b2aadrow1_col11,#T_adee5e0a_abe9_11eb_9a48_9801a79b2aadrow1_col12,#T_adee5e0a_abe9_11eb_9a48_9801a79b2aadrow1_col13,#T_adee5e0a_abe9_11eb_9a48_9801a79b2aadrow1_col14,#T_adee5e0a_abe9_11eb_9a48_9801a79b2aadrow1_col15,#T_adee5e0a_abe9_11eb_9a48_9801a79b2aadrow1_col16,#T_adee5e0a_abe9_11eb_9a48_9801a79b2aadrow1_col17,#T_adee5e0a_abe9_11eb_9a48_9801a79b2aadrow1_col18,#T_adee5e0a_abe9_11eb_9a48_9801a79b2aadrow1_col19,#T_adee5e0a_abe9_11eb_9a48_9801a79b2aadrow2_col0,#T_adee5e0a_abe9_11eb_9a48_9801a79b2aadrow2_col1,#T_adee5e0a_abe9_11eb_9a48_9801a79b2aadrow2_col2,#T_adee5e0a_abe9_11eb_9a48_9801a79b2aadrow2_col3,#T_adee5e0a_abe9_11eb_9a48_9801a79b2aadrow2_col6,#T_adee5e0a_abe9_11eb_9a48_9801a79b2aadrow2_col8,#T_adee5e0a_abe9_11eb_9a48_9801a79b2aadrow2_col9,#T_adee5e0a_abe9_11eb_9a48_9801a79b2aadrow2_col10,#T_adee5e0a_abe9_11eb_9a48_9801a79b2aadrow2_col11,#T_adee5e0a_abe9_11eb_9a48_9801a79b2aadrow2_col12,#T_adee5e0a_abe9_11eb_9a48_9801a79b2aadrow2_col13,#T_adee5e0a_abe9_11eb_9a48_9801a79b2aadrow2_col14,#T_adee5e0a_abe9_11eb_9a48_9801a79b2aadrow2_col15,#T_adee5e0a_abe9_11eb_9a48_9801a79b2aadrow2_col16,#T_adee5e0a_abe9_11eb_9a48_9801a79b2aadrow2_col17,#T_adee5e0a_abe9_11eb_9a48_9801a79b2aadrow2_col18,#T_adee5e0a_abe9_11eb_9a48_9801a79b2aadrow2_col19,#T_adee5e0a_abe9_11eb_9a48_9801a79b2aadrow3_col0,#T_adee5e0a_abe9_11eb_9a48_9801a79b2aadrow3_col1,#T_adee5e0a_abe9_11eb_9a48_9801a79b2aadrow3_col2,#T_adee5e0a_abe9_11eb_9a48_9801a79b2aadrow3_col3,#T_adee5e0a_abe9_11eb_9a48_9801a79b2aadrow3_col12,#T_adee5e0a_abe9_11eb_9a48_9801a79b2aadrow3_col13,#T_adee5e0a_abe9_11eb_9a48_9801a79b2aadrow3_col14,#T_adee5e0a_abe9_11eb_9a48_9801a79b2aadrow3_col15,#T_adee5e0a_abe9_11eb_9a48_9801a79b2aadrow3_col16,#T_adee5e0a_abe9_11eb_9a48_9801a79b2aadrow3_col17,#T_adee5e0a_abe9_11eb_9a48_9801a79b2aadrow3_col18,#T_adee5e0a_abe9_11eb_9a48_9801a79b2aadrow3_col19{\n",
       "            color:  green;\n",
       "        }#T_adee5e0a_abe9_11eb_9a48_9801a79b2aadrow0_col4,#T_adee5e0a_abe9_11eb_9a48_9801a79b2aadrow0_col5,#T_adee5e0a_abe9_11eb_9a48_9801a79b2aadrow0_col7,#T_adee5e0a_abe9_11eb_9a48_9801a79b2aadrow1_col4,#T_adee5e0a_abe9_11eb_9a48_9801a79b2aadrow1_col5,#T_adee5e0a_abe9_11eb_9a48_9801a79b2aadrow1_col7,#T_adee5e0a_abe9_11eb_9a48_9801a79b2aadrow2_col4,#T_adee5e0a_abe9_11eb_9a48_9801a79b2aadrow2_col5,#T_adee5e0a_abe9_11eb_9a48_9801a79b2aadrow2_col7,#T_adee5e0a_abe9_11eb_9a48_9801a79b2aadrow3_col4,#T_adee5e0a_abe9_11eb_9a48_9801a79b2aadrow3_col5,#T_adee5e0a_abe9_11eb_9a48_9801a79b2aadrow3_col6,#T_adee5e0a_abe9_11eb_9a48_9801a79b2aadrow3_col7,#T_adee5e0a_abe9_11eb_9a48_9801a79b2aadrow3_col8,#T_adee5e0a_abe9_11eb_9a48_9801a79b2aadrow3_col9,#T_adee5e0a_abe9_11eb_9a48_9801a79b2aadrow3_col10,#T_adee5e0a_abe9_11eb_9a48_9801a79b2aadrow3_col11{\n",
       "            color:  red;\n",
       "        }</style><table id=\"T_adee5e0a_abe9_11eb_9a48_9801a79b2aad\" ><thead>    <tr>        <th class=\"blank level0\" ></th>        <th class=\"col_heading level0 col0\" >add</th>        <th class=\"col_heading level0 col1\" >subtract</th>        <th class=\"col_heading level0 col2\" >multiply</th>        <th class=\"col_heading level0 col3\" >true_divide</th>        <th class=\"col_heading level0 col4\" >logaddexp</th>        <th class=\"col_heading level0 col5\" >logaddexp2</th>        <th class=\"col_heading level0 col6\" >floor_divide</th>        <th class=\"col_heading level0 col7\" >power</th>        <th class=\"col_heading level0 col8\" >remainder</th>        <th class=\"col_heading level0 col9\" >fmod</th>        <th class=\"col_heading level0 col10\" >arctan2</th>        <th class=\"col_heading level0 col11\" >hypot</th>        <th class=\"col_heading level0 col12\" >greater</th>        <th class=\"col_heading level0 col13\" >greater_equal</th>        <th class=\"col_heading level0 col14\" >less</th>        <th class=\"col_heading level0 col15\" >less_equal</th>        <th class=\"col_heading level0 col16\" >not_equal</th>        <th class=\"col_heading level0 col17\" >equal</th>        <th class=\"col_heading level0 col18\" >maximum</th>        <th class=\"col_heading level0 col19\" >minimum</th>    </tr></thead><tbody>\n",
       "                <tr>\n",
       "                        <th id=\"T_adee5e0a_abe9_11eb_9a48_9801a79b2aadlevel0_row0\" class=\"row_heading level0 row0\" >astropy.units</th>\n",
       "                        <td id=\"T_adee5e0a_abe9_11eb_9a48_9801a79b2aadrow0_col0\" class=\"data row0 col0\" >True</td>\n",
       "                        <td id=\"T_adee5e0a_abe9_11eb_9a48_9801a79b2aadrow0_col1\" class=\"data row0 col1\" >True</td>\n",
       "                        <td id=\"T_adee5e0a_abe9_11eb_9a48_9801a79b2aadrow0_col2\" class=\"data row0 col2\" >True</td>\n",
       "                        <td id=\"T_adee5e0a_abe9_11eb_9a48_9801a79b2aadrow0_col3\" class=\"data row0 col3\" >True</td>\n",
       "                        <td id=\"T_adee5e0a_abe9_11eb_9a48_9801a79b2aadrow0_col4\" class=\"data row0 col4\" >False</td>\n",
       "                        <td id=\"T_adee5e0a_abe9_11eb_9a48_9801a79b2aadrow0_col5\" class=\"data row0 col5\" >False</td>\n",
       "                        <td id=\"T_adee5e0a_abe9_11eb_9a48_9801a79b2aadrow0_col6\" class=\"data row0 col6\" >True</td>\n",
       "                        <td id=\"T_adee5e0a_abe9_11eb_9a48_9801a79b2aadrow0_col7\" class=\"data row0 col7\" >False</td>\n",
       "                        <td id=\"T_adee5e0a_abe9_11eb_9a48_9801a79b2aadrow0_col8\" class=\"data row0 col8\" >True</td>\n",
       "                        <td id=\"T_adee5e0a_abe9_11eb_9a48_9801a79b2aadrow0_col9\" class=\"data row0 col9\" >True</td>\n",
       "                        <td id=\"T_adee5e0a_abe9_11eb_9a48_9801a79b2aadrow0_col10\" class=\"data row0 col10\" >True</td>\n",
       "                        <td id=\"T_adee5e0a_abe9_11eb_9a48_9801a79b2aadrow0_col11\" class=\"data row0 col11\" >True</td>\n",
       "                        <td id=\"T_adee5e0a_abe9_11eb_9a48_9801a79b2aadrow0_col12\" class=\"data row0 col12\" >True</td>\n",
       "                        <td id=\"T_adee5e0a_abe9_11eb_9a48_9801a79b2aadrow0_col13\" class=\"data row0 col13\" >True</td>\n",
       "                        <td id=\"T_adee5e0a_abe9_11eb_9a48_9801a79b2aadrow0_col14\" class=\"data row0 col14\" >True</td>\n",
       "                        <td id=\"T_adee5e0a_abe9_11eb_9a48_9801a79b2aadrow0_col15\" class=\"data row0 col15\" >True</td>\n",
       "                        <td id=\"T_adee5e0a_abe9_11eb_9a48_9801a79b2aadrow0_col16\" class=\"data row0 col16\" >True</td>\n",
       "                        <td id=\"T_adee5e0a_abe9_11eb_9a48_9801a79b2aadrow0_col17\" class=\"data row0 col17\" >True</td>\n",
       "                        <td id=\"T_adee5e0a_abe9_11eb_9a48_9801a79b2aadrow0_col18\" class=\"data row0 col18\" >True</td>\n",
       "                        <td id=\"T_adee5e0a_abe9_11eb_9a48_9801a79b2aadrow0_col19\" class=\"data row0 col19\" >True</td>\n",
       "            </tr>\n",
       "            <tr>\n",
       "                        <th id=\"T_adee5e0a_abe9_11eb_9a48_9801a79b2aadlevel0_row1\" class=\"row_heading level0 row1\" >pint</th>\n",
       "                        <td id=\"T_adee5e0a_abe9_11eb_9a48_9801a79b2aadrow1_col0\" class=\"data row1 col0\" >True</td>\n",
       "                        <td id=\"T_adee5e0a_abe9_11eb_9a48_9801a79b2aadrow1_col1\" class=\"data row1 col1\" >True</td>\n",
       "                        <td id=\"T_adee5e0a_abe9_11eb_9a48_9801a79b2aadrow1_col2\" class=\"data row1 col2\" >True</td>\n",
       "                        <td id=\"T_adee5e0a_abe9_11eb_9a48_9801a79b2aadrow1_col3\" class=\"data row1 col3\" >True</td>\n",
       "                        <td id=\"T_adee5e0a_abe9_11eb_9a48_9801a79b2aadrow1_col4\" class=\"data row1 col4\" >False</td>\n",
       "                        <td id=\"T_adee5e0a_abe9_11eb_9a48_9801a79b2aadrow1_col5\" class=\"data row1 col5\" >False</td>\n",
       "                        <td id=\"T_adee5e0a_abe9_11eb_9a48_9801a79b2aadrow1_col6\" class=\"data row1 col6\" >True</td>\n",
       "                        <td id=\"T_adee5e0a_abe9_11eb_9a48_9801a79b2aadrow1_col7\" class=\"data row1 col7\" >False</td>\n",
       "                        <td id=\"T_adee5e0a_abe9_11eb_9a48_9801a79b2aadrow1_col8\" class=\"data row1 col8\" >True</td>\n",
       "                        <td id=\"T_adee5e0a_abe9_11eb_9a48_9801a79b2aadrow1_col9\" class=\"data row1 col9\" >True</td>\n",
       "                        <td id=\"T_adee5e0a_abe9_11eb_9a48_9801a79b2aadrow1_col10\" class=\"data row1 col10\" >True</td>\n",
       "                        <td id=\"T_adee5e0a_abe9_11eb_9a48_9801a79b2aadrow1_col11\" class=\"data row1 col11\" >True</td>\n",
       "                        <td id=\"T_adee5e0a_abe9_11eb_9a48_9801a79b2aadrow1_col12\" class=\"data row1 col12\" >True</td>\n",
       "                        <td id=\"T_adee5e0a_abe9_11eb_9a48_9801a79b2aadrow1_col13\" class=\"data row1 col13\" >True</td>\n",
       "                        <td id=\"T_adee5e0a_abe9_11eb_9a48_9801a79b2aadrow1_col14\" class=\"data row1 col14\" >True</td>\n",
       "                        <td id=\"T_adee5e0a_abe9_11eb_9a48_9801a79b2aadrow1_col15\" class=\"data row1 col15\" >True</td>\n",
       "                        <td id=\"T_adee5e0a_abe9_11eb_9a48_9801a79b2aadrow1_col16\" class=\"data row1 col16\" >True</td>\n",
       "                        <td id=\"T_adee5e0a_abe9_11eb_9a48_9801a79b2aadrow1_col17\" class=\"data row1 col17\" >True</td>\n",
       "                        <td id=\"T_adee5e0a_abe9_11eb_9a48_9801a79b2aadrow1_col18\" class=\"data row1 col18\" >True</td>\n",
       "                        <td id=\"T_adee5e0a_abe9_11eb_9a48_9801a79b2aadrow1_col19\" class=\"data row1 col19\" >True</td>\n",
       "            </tr>\n",
       "            <tr>\n",
       "                        <th id=\"T_adee5e0a_abe9_11eb_9a48_9801a79b2aadlevel0_row2\" class=\"row_heading level0 row2\" >physipy</th>\n",
       "                        <td id=\"T_adee5e0a_abe9_11eb_9a48_9801a79b2aadrow2_col0\" class=\"data row2 col0\" >True</td>\n",
       "                        <td id=\"T_adee5e0a_abe9_11eb_9a48_9801a79b2aadrow2_col1\" class=\"data row2 col1\" >True</td>\n",
       "                        <td id=\"T_adee5e0a_abe9_11eb_9a48_9801a79b2aadrow2_col2\" class=\"data row2 col2\" >True</td>\n",
       "                        <td id=\"T_adee5e0a_abe9_11eb_9a48_9801a79b2aadrow2_col3\" class=\"data row2 col3\" >True</td>\n",
       "                        <td id=\"T_adee5e0a_abe9_11eb_9a48_9801a79b2aadrow2_col4\" class=\"data row2 col4\" >False</td>\n",
       "                        <td id=\"T_adee5e0a_abe9_11eb_9a48_9801a79b2aadrow2_col5\" class=\"data row2 col5\" >False</td>\n",
       "                        <td id=\"T_adee5e0a_abe9_11eb_9a48_9801a79b2aadrow2_col6\" class=\"data row2 col6\" >True</td>\n",
       "                        <td id=\"T_adee5e0a_abe9_11eb_9a48_9801a79b2aadrow2_col7\" class=\"data row2 col7\" >False</td>\n",
       "                        <td id=\"T_adee5e0a_abe9_11eb_9a48_9801a79b2aadrow2_col8\" class=\"data row2 col8\" >True</td>\n",
       "                        <td id=\"T_adee5e0a_abe9_11eb_9a48_9801a79b2aadrow2_col9\" class=\"data row2 col9\" >True</td>\n",
       "                        <td id=\"T_adee5e0a_abe9_11eb_9a48_9801a79b2aadrow2_col10\" class=\"data row2 col10\" >True</td>\n",
       "                        <td id=\"T_adee5e0a_abe9_11eb_9a48_9801a79b2aadrow2_col11\" class=\"data row2 col11\" >True</td>\n",
       "                        <td id=\"T_adee5e0a_abe9_11eb_9a48_9801a79b2aadrow2_col12\" class=\"data row2 col12\" >True</td>\n",
       "                        <td id=\"T_adee5e0a_abe9_11eb_9a48_9801a79b2aadrow2_col13\" class=\"data row2 col13\" >True</td>\n",
       "                        <td id=\"T_adee5e0a_abe9_11eb_9a48_9801a79b2aadrow2_col14\" class=\"data row2 col14\" >True</td>\n",
       "                        <td id=\"T_adee5e0a_abe9_11eb_9a48_9801a79b2aadrow2_col15\" class=\"data row2 col15\" >True</td>\n",
       "                        <td id=\"T_adee5e0a_abe9_11eb_9a48_9801a79b2aadrow2_col16\" class=\"data row2 col16\" >True</td>\n",
       "                        <td id=\"T_adee5e0a_abe9_11eb_9a48_9801a79b2aadrow2_col17\" class=\"data row2 col17\" >True</td>\n",
       "                        <td id=\"T_adee5e0a_abe9_11eb_9a48_9801a79b2aadrow2_col18\" class=\"data row2 col18\" >True</td>\n",
       "                        <td id=\"T_adee5e0a_abe9_11eb_9a48_9801a79b2aadrow2_col19\" class=\"data row2 col19\" >True</td>\n",
       "            </tr>\n",
       "            <tr>\n",
       "                        <th id=\"T_adee5e0a_abe9_11eb_9a48_9801a79b2aadlevel0_row3\" class=\"row_heading level0 row3\" >forallpeople</th>\n",
       "                        <td id=\"T_adee5e0a_abe9_11eb_9a48_9801a79b2aadrow3_col0\" class=\"data row3 col0\" >True</td>\n",
       "                        <td id=\"T_adee5e0a_abe9_11eb_9a48_9801a79b2aadrow3_col1\" class=\"data row3 col1\" >True</td>\n",
       "                        <td id=\"T_adee5e0a_abe9_11eb_9a48_9801a79b2aadrow3_col2\" class=\"data row3 col2\" >True</td>\n",
       "                        <td id=\"T_adee5e0a_abe9_11eb_9a48_9801a79b2aadrow3_col3\" class=\"data row3 col3\" >True</td>\n",
       "                        <td id=\"T_adee5e0a_abe9_11eb_9a48_9801a79b2aadrow3_col4\" class=\"data row3 col4\" >False</td>\n",
       "                        <td id=\"T_adee5e0a_abe9_11eb_9a48_9801a79b2aadrow3_col5\" class=\"data row3 col5\" >False</td>\n",
       "                        <td id=\"T_adee5e0a_abe9_11eb_9a48_9801a79b2aadrow3_col6\" class=\"data row3 col6\" >False</td>\n",
       "                        <td id=\"T_adee5e0a_abe9_11eb_9a48_9801a79b2aadrow3_col7\" class=\"data row3 col7\" >False</td>\n",
       "                        <td id=\"T_adee5e0a_abe9_11eb_9a48_9801a79b2aadrow3_col8\" class=\"data row3 col8\" >False</td>\n",
       "                        <td id=\"T_adee5e0a_abe9_11eb_9a48_9801a79b2aadrow3_col9\" class=\"data row3 col9\" >False</td>\n",
       "                        <td id=\"T_adee5e0a_abe9_11eb_9a48_9801a79b2aadrow3_col10\" class=\"data row3 col10\" >False</td>\n",
       "                        <td id=\"T_adee5e0a_abe9_11eb_9a48_9801a79b2aadrow3_col11\" class=\"data row3 col11\" >False</td>\n",
       "                        <td id=\"T_adee5e0a_abe9_11eb_9a48_9801a79b2aadrow3_col12\" class=\"data row3 col12\" >True</td>\n",
       "                        <td id=\"T_adee5e0a_abe9_11eb_9a48_9801a79b2aadrow3_col13\" class=\"data row3 col13\" >True</td>\n",
       "                        <td id=\"T_adee5e0a_abe9_11eb_9a48_9801a79b2aadrow3_col14\" class=\"data row3 col14\" >True</td>\n",
       "                        <td id=\"T_adee5e0a_abe9_11eb_9a48_9801a79b2aadrow3_col15\" class=\"data row3 col15\" >True</td>\n",
       "                        <td id=\"T_adee5e0a_abe9_11eb_9a48_9801a79b2aadrow3_col16\" class=\"data row3 col16\" >True</td>\n",
       "                        <td id=\"T_adee5e0a_abe9_11eb_9a48_9801a79b2aadrow3_col17\" class=\"data row3 col17\" >True</td>\n",
       "                        <td id=\"T_adee5e0a_abe9_11eb_9a48_9801a79b2aadrow3_col18\" class=\"data row3 col18\" >True</td>\n",
       "                        <td id=\"T_adee5e0a_abe9_11eb_9a48_9801a79b2aadrow3_col19\" class=\"data row3 col19\" >True</td>\n",
       "            </tr>\n",
       "    </tbody></table>"
      ],
      "text/plain": [
       "<pandas.io.formats.style.Styler at 0x12193e850>"
      ]
     },
     "execution_count": 13,
     "metadata": {},
     "output_type": "execute_result"
    }
   ],
   "source": [
    "results['compatibility']['binary_compatible_ufuncs']"
   ]
  },
  {
   "cell_type": "code",
   "execution_count": 14,
   "metadata": {
    "collapsed": false,
    "jupyter": {
     "outputs_hidden": false
    }
   },
   "outputs": [
    {
     "data": {
      "text/html": [
       "<style  type=\"text/css\" >\n",
       "#T_afb16408_abe9_11eb_9a48_9801a79b2aadrow0_col0,#T_afb16408_abe9_11eb_9a48_9801a79b2aadrow0_col1,#T_afb16408_abe9_11eb_9a48_9801a79b2aadrow0_col4,#T_afb16408_abe9_11eb_9a48_9801a79b2aadrow0_col5,#T_afb16408_abe9_11eb_9a48_9801a79b2aadrow0_col6,#T_afb16408_abe9_11eb_9a48_9801a79b2aadrow0_col7,#T_afb16408_abe9_11eb_9a48_9801a79b2aadrow0_col8,#T_afb16408_abe9_11eb_9a48_9801a79b2aadrow0_col9,#T_afb16408_abe9_11eb_9a48_9801a79b2aadrow0_col10,#T_afb16408_abe9_11eb_9a48_9801a79b2aadrow0_col11,#T_afb16408_abe9_11eb_9a48_9801a79b2aadrow0_col12,#T_afb16408_abe9_11eb_9a48_9801a79b2aadrow0_col13,#T_afb16408_abe9_11eb_9a48_9801a79b2aadrow0_col14,#T_afb16408_abe9_11eb_9a48_9801a79b2aadrow0_col15,#T_afb16408_abe9_11eb_9a48_9801a79b2aadrow0_col16,#T_afb16408_abe9_11eb_9a48_9801a79b2aadrow0_col17,#T_afb16408_abe9_11eb_9a48_9801a79b2aadrow0_col18,#T_afb16408_abe9_11eb_9a48_9801a79b2aadrow0_col19,#T_afb16408_abe9_11eb_9a48_9801a79b2aadrow1_col0,#T_afb16408_abe9_11eb_9a48_9801a79b2aadrow1_col1,#T_afb16408_abe9_11eb_9a48_9801a79b2aadrow1_col4,#T_afb16408_abe9_11eb_9a48_9801a79b2aadrow1_col5,#T_afb16408_abe9_11eb_9a48_9801a79b2aadrow1_col7,#T_afb16408_abe9_11eb_9a48_9801a79b2aadrow1_col10,#T_afb16408_abe9_11eb_9a48_9801a79b2aadrow1_col11,#T_afb16408_abe9_11eb_9a48_9801a79b2aadrow1_col12,#T_afb16408_abe9_11eb_9a48_9801a79b2aadrow1_col13,#T_afb16408_abe9_11eb_9a48_9801a79b2aadrow1_col14,#T_afb16408_abe9_11eb_9a48_9801a79b2aadrow1_col15,#T_afb16408_abe9_11eb_9a48_9801a79b2aadrow1_col16,#T_afb16408_abe9_11eb_9a48_9801a79b2aadrow1_col17,#T_afb16408_abe9_11eb_9a48_9801a79b2aadrow1_col18,#T_afb16408_abe9_11eb_9a48_9801a79b2aadrow1_col19,#T_afb16408_abe9_11eb_9a48_9801a79b2aadrow2_col0,#T_afb16408_abe9_11eb_9a48_9801a79b2aadrow2_col1,#T_afb16408_abe9_11eb_9a48_9801a79b2aadrow2_col4,#T_afb16408_abe9_11eb_9a48_9801a79b2aadrow2_col5,#T_afb16408_abe9_11eb_9a48_9801a79b2aadrow2_col6,#T_afb16408_abe9_11eb_9a48_9801a79b2aadrow2_col7,#T_afb16408_abe9_11eb_9a48_9801a79b2aadrow2_col8,#T_afb16408_abe9_11eb_9a48_9801a79b2aadrow2_col9,#T_afb16408_abe9_11eb_9a48_9801a79b2aadrow2_col10,#T_afb16408_abe9_11eb_9a48_9801a79b2aadrow2_col11,#T_afb16408_abe9_11eb_9a48_9801a79b2aadrow2_col12,#T_afb16408_abe9_11eb_9a48_9801a79b2aadrow2_col13,#T_afb16408_abe9_11eb_9a48_9801a79b2aadrow2_col14,#T_afb16408_abe9_11eb_9a48_9801a79b2aadrow2_col15,#T_afb16408_abe9_11eb_9a48_9801a79b2aadrow2_col16,#T_afb16408_abe9_11eb_9a48_9801a79b2aadrow2_col17,#T_afb16408_abe9_11eb_9a48_9801a79b2aadrow2_col18,#T_afb16408_abe9_11eb_9a48_9801a79b2aadrow2_col19,#T_afb16408_abe9_11eb_9a48_9801a79b2aadrow3_col0,#T_afb16408_abe9_11eb_9a48_9801a79b2aadrow3_col1,#T_afb16408_abe9_11eb_9a48_9801a79b2aadrow3_col4,#T_afb16408_abe9_11eb_9a48_9801a79b2aadrow3_col5,#T_afb16408_abe9_11eb_9a48_9801a79b2aadrow3_col6,#T_afb16408_abe9_11eb_9a48_9801a79b2aadrow3_col7,#T_afb16408_abe9_11eb_9a48_9801a79b2aadrow3_col8,#T_afb16408_abe9_11eb_9a48_9801a79b2aadrow3_col9,#T_afb16408_abe9_11eb_9a48_9801a79b2aadrow3_col10,#T_afb16408_abe9_11eb_9a48_9801a79b2aadrow3_col11,#T_afb16408_abe9_11eb_9a48_9801a79b2aadrow3_col12,#T_afb16408_abe9_11eb_9a48_9801a79b2aadrow3_col13,#T_afb16408_abe9_11eb_9a48_9801a79b2aadrow3_col14,#T_afb16408_abe9_11eb_9a48_9801a79b2aadrow3_col15,#T_afb16408_abe9_11eb_9a48_9801a79b2aadrow3_col16,#T_afb16408_abe9_11eb_9a48_9801a79b2aadrow3_col17,#T_afb16408_abe9_11eb_9a48_9801a79b2aadrow3_col18,#T_afb16408_abe9_11eb_9a48_9801a79b2aadrow3_col19{\n",
       "            color:  red;\n",
       "        }#T_afb16408_abe9_11eb_9a48_9801a79b2aadrow0_col2,#T_afb16408_abe9_11eb_9a48_9801a79b2aadrow0_col3,#T_afb16408_abe9_11eb_9a48_9801a79b2aadrow1_col2,#T_afb16408_abe9_11eb_9a48_9801a79b2aadrow1_col3,#T_afb16408_abe9_11eb_9a48_9801a79b2aadrow1_col6,#T_afb16408_abe9_11eb_9a48_9801a79b2aadrow1_col8,#T_afb16408_abe9_11eb_9a48_9801a79b2aadrow1_col9,#T_afb16408_abe9_11eb_9a48_9801a79b2aadrow2_col2,#T_afb16408_abe9_11eb_9a48_9801a79b2aadrow2_col3,#T_afb16408_abe9_11eb_9a48_9801a79b2aadrow3_col2,#T_afb16408_abe9_11eb_9a48_9801a79b2aadrow3_col3{\n",
       "            color:  green;\n",
       "        }</style><table id=\"T_afb16408_abe9_11eb_9a48_9801a79b2aad\" ><thead>    <tr>        <th class=\"blank level0\" ></th>        <th class=\"col_heading level0 col0\" >add</th>        <th class=\"col_heading level0 col1\" >subtract</th>        <th class=\"col_heading level0 col2\" >multiply</th>        <th class=\"col_heading level0 col3\" >true_divide</th>        <th class=\"col_heading level0 col4\" >logaddexp</th>        <th class=\"col_heading level0 col5\" >logaddexp2</th>        <th class=\"col_heading level0 col6\" >floor_divide</th>        <th class=\"col_heading level0 col7\" >power</th>        <th class=\"col_heading level0 col8\" >remainder</th>        <th class=\"col_heading level0 col9\" >fmod</th>        <th class=\"col_heading level0 col10\" >arctan2</th>        <th class=\"col_heading level0 col11\" >hypot</th>        <th class=\"col_heading level0 col12\" >greater</th>        <th class=\"col_heading level0 col13\" >greater_equal</th>        <th class=\"col_heading level0 col14\" >less</th>        <th class=\"col_heading level0 col15\" >less_equal</th>        <th class=\"col_heading level0 col16\" >not_equal</th>        <th class=\"col_heading level0 col17\" >equal</th>        <th class=\"col_heading level0 col18\" >maximum</th>        <th class=\"col_heading level0 col19\" >minimum</th>    </tr></thead><tbody>\n",
       "                <tr>\n",
       "                        <th id=\"T_afb16408_abe9_11eb_9a48_9801a79b2aadlevel0_row0\" class=\"row_heading level0 row0\" >astropy.units</th>\n",
       "                        <td id=\"T_afb16408_abe9_11eb_9a48_9801a79b2aadrow0_col0\" class=\"data row0 col0\" >False</td>\n",
       "                        <td id=\"T_afb16408_abe9_11eb_9a48_9801a79b2aadrow0_col1\" class=\"data row0 col1\" >False</td>\n",
       "                        <td id=\"T_afb16408_abe9_11eb_9a48_9801a79b2aadrow0_col2\" class=\"data row0 col2\" >True</td>\n",
       "                        <td id=\"T_afb16408_abe9_11eb_9a48_9801a79b2aadrow0_col3\" class=\"data row0 col3\" >True</td>\n",
       "                        <td id=\"T_afb16408_abe9_11eb_9a48_9801a79b2aadrow0_col4\" class=\"data row0 col4\" >False</td>\n",
       "                        <td id=\"T_afb16408_abe9_11eb_9a48_9801a79b2aadrow0_col5\" class=\"data row0 col5\" >False</td>\n",
       "                        <td id=\"T_afb16408_abe9_11eb_9a48_9801a79b2aadrow0_col6\" class=\"data row0 col6\" >False</td>\n",
       "                        <td id=\"T_afb16408_abe9_11eb_9a48_9801a79b2aadrow0_col7\" class=\"data row0 col7\" >False</td>\n",
       "                        <td id=\"T_afb16408_abe9_11eb_9a48_9801a79b2aadrow0_col8\" class=\"data row0 col8\" >False</td>\n",
       "                        <td id=\"T_afb16408_abe9_11eb_9a48_9801a79b2aadrow0_col9\" class=\"data row0 col9\" >False</td>\n",
       "                        <td id=\"T_afb16408_abe9_11eb_9a48_9801a79b2aadrow0_col10\" class=\"data row0 col10\" >False</td>\n",
       "                        <td id=\"T_afb16408_abe9_11eb_9a48_9801a79b2aadrow0_col11\" class=\"data row0 col11\" >False</td>\n",
       "                        <td id=\"T_afb16408_abe9_11eb_9a48_9801a79b2aadrow0_col12\" class=\"data row0 col12\" >False</td>\n",
       "                        <td id=\"T_afb16408_abe9_11eb_9a48_9801a79b2aadrow0_col13\" class=\"data row0 col13\" >False</td>\n",
       "                        <td id=\"T_afb16408_abe9_11eb_9a48_9801a79b2aadrow0_col14\" class=\"data row0 col14\" >False</td>\n",
       "                        <td id=\"T_afb16408_abe9_11eb_9a48_9801a79b2aadrow0_col15\" class=\"data row0 col15\" >False</td>\n",
       "                        <td id=\"T_afb16408_abe9_11eb_9a48_9801a79b2aadrow0_col16\" class=\"data row0 col16\" >False</td>\n",
       "                        <td id=\"T_afb16408_abe9_11eb_9a48_9801a79b2aadrow0_col17\" class=\"data row0 col17\" >False</td>\n",
       "                        <td id=\"T_afb16408_abe9_11eb_9a48_9801a79b2aadrow0_col18\" class=\"data row0 col18\" >False</td>\n",
       "                        <td id=\"T_afb16408_abe9_11eb_9a48_9801a79b2aadrow0_col19\" class=\"data row0 col19\" >False</td>\n",
       "            </tr>\n",
       "            <tr>\n",
       "                        <th id=\"T_afb16408_abe9_11eb_9a48_9801a79b2aadlevel0_row1\" class=\"row_heading level0 row1\" >pint</th>\n",
       "                        <td id=\"T_afb16408_abe9_11eb_9a48_9801a79b2aadrow1_col0\" class=\"data row1 col0\" >False</td>\n",
       "                        <td id=\"T_afb16408_abe9_11eb_9a48_9801a79b2aadrow1_col1\" class=\"data row1 col1\" >False</td>\n",
       "                        <td id=\"T_afb16408_abe9_11eb_9a48_9801a79b2aadrow1_col2\" class=\"data row1 col2\" >True</td>\n",
       "                        <td id=\"T_afb16408_abe9_11eb_9a48_9801a79b2aadrow1_col3\" class=\"data row1 col3\" >True</td>\n",
       "                        <td id=\"T_afb16408_abe9_11eb_9a48_9801a79b2aadrow1_col4\" class=\"data row1 col4\" >False</td>\n",
       "                        <td id=\"T_afb16408_abe9_11eb_9a48_9801a79b2aadrow1_col5\" class=\"data row1 col5\" >False</td>\n",
       "                        <td id=\"T_afb16408_abe9_11eb_9a48_9801a79b2aadrow1_col6\" class=\"data row1 col6\" >True</td>\n",
       "                        <td id=\"T_afb16408_abe9_11eb_9a48_9801a79b2aadrow1_col7\" class=\"data row1 col7\" >False</td>\n",
       "                        <td id=\"T_afb16408_abe9_11eb_9a48_9801a79b2aadrow1_col8\" class=\"data row1 col8\" >True</td>\n",
       "                        <td id=\"T_afb16408_abe9_11eb_9a48_9801a79b2aadrow1_col9\" class=\"data row1 col9\" >True</td>\n",
       "                        <td id=\"T_afb16408_abe9_11eb_9a48_9801a79b2aadrow1_col10\" class=\"data row1 col10\" >False</td>\n",
       "                        <td id=\"T_afb16408_abe9_11eb_9a48_9801a79b2aadrow1_col11\" class=\"data row1 col11\" >False</td>\n",
       "                        <td id=\"T_afb16408_abe9_11eb_9a48_9801a79b2aadrow1_col12\" class=\"data row1 col12\" >False</td>\n",
       "                        <td id=\"T_afb16408_abe9_11eb_9a48_9801a79b2aadrow1_col13\" class=\"data row1 col13\" >False</td>\n",
       "                        <td id=\"T_afb16408_abe9_11eb_9a48_9801a79b2aadrow1_col14\" class=\"data row1 col14\" >False</td>\n",
       "                        <td id=\"T_afb16408_abe9_11eb_9a48_9801a79b2aadrow1_col15\" class=\"data row1 col15\" >False</td>\n",
       "                        <td id=\"T_afb16408_abe9_11eb_9a48_9801a79b2aadrow1_col16\" class=\"data row1 col16\" >False</td>\n",
       "                        <td id=\"T_afb16408_abe9_11eb_9a48_9801a79b2aadrow1_col17\" class=\"data row1 col17\" >False</td>\n",
       "                        <td id=\"T_afb16408_abe9_11eb_9a48_9801a79b2aadrow1_col18\" class=\"data row1 col18\" >False</td>\n",
       "                        <td id=\"T_afb16408_abe9_11eb_9a48_9801a79b2aadrow1_col19\" class=\"data row1 col19\" >False</td>\n",
       "            </tr>\n",
       "            <tr>\n",
       "                        <th id=\"T_afb16408_abe9_11eb_9a48_9801a79b2aadlevel0_row2\" class=\"row_heading level0 row2\" >physipy</th>\n",
       "                        <td id=\"T_afb16408_abe9_11eb_9a48_9801a79b2aadrow2_col0\" class=\"data row2 col0\" >False</td>\n",
       "                        <td id=\"T_afb16408_abe9_11eb_9a48_9801a79b2aadrow2_col1\" class=\"data row2 col1\" >False</td>\n",
       "                        <td id=\"T_afb16408_abe9_11eb_9a48_9801a79b2aadrow2_col2\" class=\"data row2 col2\" >True</td>\n",
       "                        <td id=\"T_afb16408_abe9_11eb_9a48_9801a79b2aadrow2_col3\" class=\"data row2 col3\" >True</td>\n",
       "                        <td id=\"T_afb16408_abe9_11eb_9a48_9801a79b2aadrow2_col4\" class=\"data row2 col4\" >False</td>\n",
       "                        <td id=\"T_afb16408_abe9_11eb_9a48_9801a79b2aadrow2_col5\" class=\"data row2 col5\" >False</td>\n",
       "                        <td id=\"T_afb16408_abe9_11eb_9a48_9801a79b2aadrow2_col6\" class=\"data row2 col6\" >False</td>\n",
       "                        <td id=\"T_afb16408_abe9_11eb_9a48_9801a79b2aadrow2_col7\" class=\"data row2 col7\" >False</td>\n",
       "                        <td id=\"T_afb16408_abe9_11eb_9a48_9801a79b2aadrow2_col8\" class=\"data row2 col8\" >False</td>\n",
       "                        <td id=\"T_afb16408_abe9_11eb_9a48_9801a79b2aadrow2_col9\" class=\"data row2 col9\" >False</td>\n",
       "                        <td id=\"T_afb16408_abe9_11eb_9a48_9801a79b2aadrow2_col10\" class=\"data row2 col10\" >False</td>\n",
       "                        <td id=\"T_afb16408_abe9_11eb_9a48_9801a79b2aadrow2_col11\" class=\"data row2 col11\" >False</td>\n",
       "                        <td id=\"T_afb16408_abe9_11eb_9a48_9801a79b2aadrow2_col12\" class=\"data row2 col12\" >False</td>\n",
       "                        <td id=\"T_afb16408_abe9_11eb_9a48_9801a79b2aadrow2_col13\" class=\"data row2 col13\" >False</td>\n",
       "                        <td id=\"T_afb16408_abe9_11eb_9a48_9801a79b2aadrow2_col14\" class=\"data row2 col14\" >False</td>\n",
       "                        <td id=\"T_afb16408_abe9_11eb_9a48_9801a79b2aadrow2_col15\" class=\"data row2 col15\" >False</td>\n",
       "                        <td id=\"T_afb16408_abe9_11eb_9a48_9801a79b2aadrow2_col16\" class=\"data row2 col16\" >False</td>\n",
       "                        <td id=\"T_afb16408_abe9_11eb_9a48_9801a79b2aadrow2_col17\" class=\"data row2 col17\" >False</td>\n",
       "                        <td id=\"T_afb16408_abe9_11eb_9a48_9801a79b2aadrow2_col18\" class=\"data row2 col18\" >False</td>\n",
       "                        <td id=\"T_afb16408_abe9_11eb_9a48_9801a79b2aadrow2_col19\" class=\"data row2 col19\" >False</td>\n",
       "            </tr>\n",
       "            <tr>\n",
       "                        <th id=\"T_afb16408_abe9_11eb_9a48_9801a79b2aadlevel0_row3\" class=\"row_heading level0 row3\" >forallpeople</th>\n",
       "                        <td id=\"T_afb16408_abe9_11eb_9a48_9801a79b2aadrow3_col0\" class=\"data row3 col0\" >False</td>\n",
       "                        <td id=\"T_afb16408_abe9_11eb_9a48_9801a79b2aadrow3_col1\" class=\"data row3 col1\" >False</td>\n",
       "                        <td id=\"T_afb16408_abe9_11eb_9a48_9801a79b2aadrow3_col2\" class=\"data row3 col2\" >True</td>\n",
       "                        <td id=\"T_afb16408_abe9_11eb_9a48_9801a79b2aadrow3_col3\" class=\"data row3 col3\" >True</td>\n",
       "                        <td id=\"T_afb16408_abe9_11eb_9a48_9801a79b2aadrow3_col4\" class=\"data row3 col4\" >False</td>\n",
       "                        <td id=\"T_afb16408_abe9_11eb_9a48_9801a79b2aadrow3_col5\" class=\"data row3 col5\" >False</td>\n",
       "                        <td id=\"T_afb16408_abe9_11eb_9a48_9801a79b2aadrow3_col6\" class=\"data row3 col6\" >False</td>\n",
       "                        <td id=\"T_afb16408_abe9_11eb_9a48_9801a79b2aadrow3_col7\" class=\"data row3 col7\" >False</td>\n",
       "                        <td id=\"T_afb16408_abe9_11eb_9a48_9801a79b2aadrow3_col8\" class=\"data row3 col8\" >False</td>\n",
       "                        <td id=\"T_afb16408_abe9_11eb_9a48_9801a79b2aadrow3_col9\" class=\"data row3 col9\" >False</td>\n",
       "                        <td id=\"T_afb16408_abe9_11eb_9a48_9801a79b2aadrow3_col10\" class=\"data row3 col10\" >False</td>\n",
       "                        <td id=\"T_afb16408_abe9_11eb_9a48_9801a79b2aadrow3_col11\" class=\"data row3 col11\" >False</td>\n",
       "                        <td id=\"T_afb16408_abe9_11eb_9a48_9801a79b2aadrow3_col12\" class=\"data row3 col12\" >False</td>\n",
       "                        <td id=\"T_afb16408_abe9_11eb_9a48_9801a79b2aadrow3_col13\" class=\"data row3 col13\" >False</td>\n",
       "                        <td id=\"T_afb16408_abe9_11eb_9a48_9801a79b2aadrow3_col14\" class=\"data row3 col14\" >False</td>\n",
       "                        <td id=\"T_afb16408_abe9_11eb_9a48_9801a79b2aadrow3_col15\" class=\"data row3 col15\" >False</td>\n",
       "                        <td id=\"T_afb16408_abe9_11eb_9a48_9801a79b2aadrow3_col16\" class=\"data row3 col16\" >False</td>\n",
       "                        <td id=\"T_afb16408_abe9_11eb_9a48_9801a79b2aadrow3_col17\" class=\"data row3 col17\" >False</td>\n",
       "                        <td id=\"T_afb16408_abe9_11eb_9a48_9801a79b2aadrow3_col18\" class=\"data row3 col18\" >False</td>\n",
       "                        <td id=\"T_afb16408_abe9_11eb_9a48_9801a79b2aadrow3_col19\" class=\"data row3 col19\" >False</td>\n",
       "            </tr>\n",
       "    </tbody></table>"
      ],
      "text/plain": [
       "<pandas.io.formats.style.Styler at 0x12193edc0>"
      ]
     },
     "execution_count": 14,
     "metadata": {},
     "output_type": "execute_result"
    }
   ],
   "source": [
    "results['compatibility']['binary_different_ufuncs']"
   ]
  },
  {
   "cell_type": "code",
   "execution_count": 15,
   "metadata": {
    "collapsed": false,
    "jupyter": {
     "outputs_hidden": false
    }
   },
   "outputs": [
    {
     "data": {
      "text/html": [
       "<style  type=\"text/css\" >\n",
       "#T_b23c2974_abe9_11eb_9a48_9801a79b2aadrow0_col0,#T_b23c2974_abe9_11eb_9a48_9801a79b2aadrow0_col1,#T_b23c2974_abe9_11eb_9a48_9801a79b2aadrow0_col2,#T_b23c2974_abe9_11eb_9a48_9801a79b2aadrow0_col3,#T_b23c2974_abe9_11eb_9a48_9801a79b2aadrow0_col4,#T_b23c2974_abe9_11eb_9a48_9801a79b2aadrow0_col5,#T_b23c2974_abe9_11eb_9a48_9801a79b2aadrow0_col6,#T_b23c2974_abe9_11eb_9a48_9801a79b2aadrow1_col0,#T_b23c2974_abe9_11eb_9a48_9801a79b2aadrow1_col1,#T_b23c2974_abe9_11eb_9a48_9801a79b2aadrow1_col2,#T_b23c2974_abe9_11eb_9a48_9801a79b2aadrow1_col3,#T_b23c2974_abe9_11eb_9a48_9801a79b2aadrow1_col4,#T_b23c2974_abe9_11eb_9a48_9801a79b2aadrow1_col5,#T_b23c2974_abe9_11eb_9a48_9801a79b2aadrow1_col6,#T_b23c2974_abe9_11eb_9a48_9801a79b2aadrow2_col0,#T_b23c2974_abe9_11eb_9a48_9801a79b2aadrow2_col1,#T_b23c2974_abe9_11eb_9a48_9801a79b2aadrow2_col2,#T_b23c2974_abe9_11eb_9a48_9801a79b2aadrow2_col3,#T_b23c2974_abe9_11eb_9a48_9801a79b2aadrow2_col4,#T_b23c2974_abe9_11eb_9a48_9801a79b2aadrow2_col5,#T_b23c2974_abe9_11eb_9a48_9801a79b2aadrow2_col6,#T_b23c2974_abe9_11eb_9a48_9801a79b2aadrow3_col0,#T_b23c2974_abe9_11eb_9a48_9801a79b2aadrow3_col1,#T_b23c2974_abe9_11eb_9a48_9801a79b2aadrow3_col2,#T_b23c2974_abe9_11eb_9a48_9801a79b2aadrow3_col3,#T_b23c2974_abe9_11eb_9a48_9801a79b2aadrow3_col4,#T_b23c2974_abe9_11eb_9a48_9801a79b2aadrow3_col6{\n",
       "            color:  green;\n",
       "        }#T_b23c2974_abe9_11eb_9a48_9801a79b2aadrow3_col5{\n",
       "            color:  red;\n",
       "        }</style><table id=\"T_b23c2974_abe9_11eb_9a48_9801a79b2aad\" ><thead>    <tr>        <th class=\"blank level0\" ></th>        <th class=\"col_heading level0 col0\" >where</th>        <th class=\"col_heading level0 col1\" >sort</th>        <th class=\"col_heading level0 col2\" >argsort</th>        <th class=\"col_heading level0 col3\" >concatenate</th>        <th class=\"col_heading level0 col4\" >mean</th>        <th class=\"col_heading level0 col5\" >std</th>        <th class=\"col_heading level0 col6\" >median</th>    </tr></thead><tbody>\n",
       "                <tr>\n",
       "                        <th id=\"T_b23c2974_abe9_11eb_9a48_9801a79b2aadlevel0_row0\" class=\"row_heading level0 row0\" >astropy.units</th>\n",
       "                        <td id=\"T_b23c2974_abe9_11eb_9a48_9801a79b2aadrow0_col0\" class=\"data row0 col0\" >True</td>\n",
       "                        <td id=\"T_b23c2974_abe9_11eb_9a48_9801a79b2aadrow0_col1\" class=\"data row0 col1\" >True</td>\n",
       "                        <td id=\"T_b23c2974_abe9_11eb_9a48_9801a79b2aadrow0_col2\" class=\"data row0 col2\" >True</td>\n",
       "                        <td id=\"T_b23c2974_abe9_11eb_9a48_9801a79b2aadrow0_col3\" class=\"data row0 col3\" >True</td>\n",
       "                        <td id=\"T_b23c2974_abe9_11eb_9a48_9801a79b2aadrow0_col4\" class=\"data row0 col4\" >True</td>\n",
       "                        <td id=\"T_b23c2974_abe9_11eb_9a48_9801a79b2aadrow0_col5\" class=\"data row0 col5\" >True</td>\n",
       "                        <td id=\"T_b23c2974_abe9_11eb_9a48_9801a79b2aadrow0_col6\" class=\"data row0 col6\" >True</td>\n",
       "            </tr>\n",
       "            <tr>\n",
       "                        <th id=\"T_b23c2974_abe9_11eb_9a48_9801a79b2aadlevel0_row1\" class=\"row_heading level0 row1\" >pint</th>\n",
       "                        <td id=\"T_b23c2974_abe9_11eb_9a48_9801a79b2aadrow1_col0\" class=\"data row1 col0\" >True</td>\n",
       "                        <td id=\"T_b23c2974_abe9_11eb_9a48_9801a79b2aadrow1_col1\" class=\"data row1 col1\" >True</td>\n",
       "                        <td id=\"T_b23c2974_abe9_11eb_9a48_9801a79b2aadrow1_col2\" class=\"data row1 col2\" >True</td>\n",
       "                        <td id=\"T_b23c2974_abe9_11eb_9a48_9801a79b2aadrow1_col3\" class=\"data row1 col3\" >True</td>\n",
       "                        <td id=\"T_b23c2974_abe9_11eb_9a48_9801a79b2aadrow1_col4\" class=\"data row1 col4\" >True</td>\n",
       "                        <td id=\"T_b23c2974_abe9_11eb_9a48_9801a79b2aadrow1_col5\" class=\"data row1 col5\" >True</td>\n",
       "                        <td id=\"T_b23c2974_abe9_11eb_9a48_9801a79b2aadrow1_col6\" class=\"data row1 col6\" >True</td>\n",
       "            </tr>\n",
       "            <tr>\n",
       "                        <th id=\"T_b23c2974_abe9_11eb_9a48_9801a79b2aadlevel0_row2\" class=\"row_heading level0 row2\" >physipy</th>\n",
       "                        <td id=\"T_b23c2974_abe9_11eb_9a48_9801a79b2aadrow2_col0\" class=\"data row2 col0\" >True</td>\n",
       "                        <td id=\"T_b23c2974_abe9_11eb_9a48_9801a79b2aadrow2_col1\" class=\"data row2 col1\" >True</td>\n",
       "                        <td id=\"T_b23c2974_abe9_11eb_9a48_9801a79b2aadrow2_col2\" class=\"data row2 col2\" >True</td>\n",
       "                        <td id=\"T_b23c2974_abe9_11eb_9a48_9801a79b2aadrow2_col3\" class=\"data row2 col3\" >True</td>\n",
       "                        <td id=\"T_b23c2974_abe9_11eb_9a48_9801a79b2aadrow2_col4\" class=\"data row2 col4\" >True</td>\n",
       "                        <td id=\"T_b23c2974_abe9_11eb_9a48_9801a79b2aadrow2_col5\" class=\"data row2 col5\" >True</td>\n",
       "                        <td id=\"T_b23c2974_abe9_11eb_9a48_9801a79b2aadrow2_col6\" class=\"data row2 col6\" >True</td>\n",
       "            </tr>\n",
       "            <tr>\n",
       "                        <th id=\"T_b23c2974_abe9_11eb_9a48_9801a79b2aadlevel0_row3\" class=\"row_heading level0 row3\" >forallpeople</th>\n",
       "                        <td id=\"T_b23c2974_abe9_11eb_9a48_9801a79b2aadrow3_col0\" class=\"data row3 col0\" >True</td>\n",
       "                        <td id=\"T_b23c2974_abe9_11eb_9a48_9801a79b2aadrow3_col1\" class=\"data row3 col1\" >True</td>\n",
       "                        <td id=\"T_b23c2974_abe9_11eb_9a48_9801a79b2aadrow3_col2\" class=\"data row3 col2\" >True</td>\n",
       "                        <td id=\"T_b23c2974_abe9_11eb_9a48_9801a79b2aadrow3_col3\" class=\"data row3 col3\" >True</td>\n",
       "                        <td id=\"T_b23c2974_abe9_11eb_9a48_9801a79b2aadrow3_col4\" class=\"data row3 col4\" >True</td>\n",
       "                        <td id=\"T_b23c2974_abe9_11eb_9a48_9801a79b2aadrow3_col5\" class=\"data row3 col5\" >False</td>\n",
       "                        <td id=\"T_b23c2974_abe9_11eb_9a48_9801a79b2aadrow3_col6\" class=\"data row3 col6\" >True</td>\n",
       "            </tr>\n",
       "    </tbody></table>"
      ],
      "text/plain": [
       "<pandas.io.formats.style.Styler at 0x12193ed90>"
      ]
     },
     "execution_count": 15,
     "metadata": {},
     "output_type": "execute_result"
    }
   ],
   "source": [
    "results['compatibility']['other_numpy']"
   ]
  },
  {
   "cell_type": "code",
   "execution_count": 16,
   "metadata": {
    "collapsed": false,
    "jupyter": {
     "outputs_hidden": false
    }
   },
   "outputs": [
    {
     "data": {
      "text/plain": [
       "<AxesSubplot:>"
      ]
     },
     "execution_count": 16,
     "metadata": {},
     "output_type": "execute_result"
    },
    {
     "data": {
      "image/png": "[encoded data removed]",
      "text/plain": [
       "<Figure size 432x288 with 1 Axes>"
      ]
     },
     "metadata": {
      "needs_background": "light"
     },
     "output_type": "display_data"
    }
   ],
   "source": [
    "results['speed']['mean'].sort_index(ascending=False).plot(kind='barh')"
   ]
  },
  {
   "cell_type": "code",
   "execution_count": 17,
   "metadata": {
    "collapsed": false,
    "jupyter": {
     "outputs_hidden": false
    }
   },
   "outputs": [
    {
     "data": {
      "text/plain": [
       "<AxesSubplot:>"
      ]
     },
     "execution_count": 17,
     "metadata": {},
     "output_type": "execute_result"
    },
    {
     "data": {
      "image/png": "[encoded data removed]",
      "text/plain": [
       "<Figure size 432x288 with 1 Axes>"
      ]
     },
     "metadata": {
      "needs_background": "light"
     },
     "output_type": "display_data"
    }
   ],
   "source": [
    "results['speed']['std'].sort_index(ascending=False).plot(kind='barh')"
   ]
  },
  {
   "cell_type": "code",
   "execution_count": 18,
   "metadata": {
    "collapsed": false,
    "jupyter": {
     "outputs_hidden": false
    }
   },
   "outputs": [
    {
     "data": {
      "text/plain": [
       "<AxesSubplot:>"
      ]
     },
     "execution_count": 18,
     "metadata": {},
     "output_type": "execute_result"
    },
    {
     "data": {
      "image/png": "[encoded data removed]",
      "text/plain": [
       "<Figure size 432x288 with 1 Axes>"
      ]
     },
     "metadata": {
      "needs_background": "light"
     },
     "output_type": "display_data"
    }
   ],
   "source": [
    "results['speed']['np_rel'].sort_index(ascending=False).plot(kind='barh')"
   ]
  },
  {
   "cell_type": "code",
   "execution_count": null,
   "metadata": {},
   "outputs": [],
   "source": []
  },
  {
   "cell_type": "code",
   "execution_count": null,
   "metadata": {},
   "outputs": [],
   "source": []
  }
 ],
 "metadata": {
  "kernelspec": {
   "display_name": "Python 3",
   "language": "python",
   "name": "python3"
  },
  "language_info": {
   "codemirror_mode": {
    "name": "ipython",
    "version": 3
   },
   "file_extension": ".py",
   "mimetype": "text/x-python",
   "name": "python",
   "nbconvert_exporter": "python",
   "pygments_lexer": "ipython3",
   "version": "3.8.5"
  }
 },
 "nbformat": 4,
 "nbformat_minor": 4
}
