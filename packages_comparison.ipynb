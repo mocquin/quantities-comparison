{
 "cells": [
  {
   "cell_type": "code",
   "execution_count": 1,
   "id": "614203be-ffbf-44ba-bfb5-ce2cef110c05",
   "metadata": {},
   "outputs": [],
   "source": [
    "import pandas as pd"
   ]
  },
  {
   "cell_type": "code",
   "execution_count": null,
   "id": "4d1b785d-c4d0-4bb9-a03e-1add7d8c087d",
   "metadata": {},
   "outputs": [],
   "source": [
    "packages = {\n",
    "    \"physipy\":{\n",
    "        \"homepage\":\"https://github.com/mocquin/physipy\",\n",
    "        \"number_of_commit\":609, # git rev-list HEAD --count\n",
    "}"
   ]
  }
 ],
 "metadata": {
  "kernelspec": {
   "display_name": "Python 3 (ipykernel)",
   "language": "python",
   "name": "python3"
  },
  "language_info": {
   "codemirror_mode": {
    "name": "ipython",
    "version": 3
   },
   "file_extension": ".py",
   "mimetype": "text/x-python",
   "name": "python",
   "nbconvert_exporter": "python",
   "pygments_lexer": "ipython3",
   "version": "3.9.7"
  }
 },
 "nbformat": 4,
 "nbformat_minor": 5
}
